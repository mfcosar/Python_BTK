{
  "metadata": {
    "kernelspec": {
      "name": "python",
      "display_name": "Python (Pyodide)",
      "language": "python"
    },
    "language_info": {
      "codemirror_mode": {
        "name": "python",
        "version": 3
      },
      "file_extension": ".py",
      "mimetype": "text/x-python",
      "name": "python",
      "nbconvert_exporter": "python",
      "pygments_lexer": "ipython3",
      "version": "3.8"
    }
  },
  "nbformat_minor": 4,
  "nbformat": 4,
  "cells": [
    {
      "cell_type": "markdown",
      "source": "## 25-PandasOperationsDevam:",
      "metadata": {}
    },
    {
      "cell_type": "code",
      "source": "import numpy as np\nimport pandas as pd",
      "metadata": {
        "trusted": true
      },
      "outputs": [],
      "execution_count": 9
    },
    {
      "cell_type": "code",
      "source": "## Farklı DataFrame'ler birleştirme, yanyana koyma nasıl yapılır?",
      "metadata": {
        "trusted": true
      },
      "outputs": [],
      "execution_count": 10
    },
    {
      "cell_type": "code",
      "source": "sozluk1 = {\"İsim\": [\"Ahmet\", \"Mehmet\", \"Zeyneb\", \"Ali\"],\n           \"Spor\": [\"Koşu\", \"Yüzme\", \"Koşu\", \"Basketbol\"],\n           \"Kalori\": [100,200,300,400]}",
      "metadata": {
        "trusted": true
      },
      "outputs": [],
      "execution_count": 11
    },
    {
      "cell_type": "code",
      "source": "dataFrame1 = pd.DataFrame(sozluk1, index=[0,1,2,3])",
      "metadata": {
        "trusted": true
      },
      "outputs": [],
      "execution_count": 12
    },
    {
      "cell_type": "code",
      "source": "dataFrame1",
      "metadata": {
        "trusted": true
      },
      "outputs": [
        {
          "execution_count": 13,
          "output_type": "execute_result",
          "data": {
            "text/plain": "     İsim       Spor  Kalori\n0   Ahmet       Koşu     100\n1  Mehmet      Yüzme     200\n2  Zeyneb       Koşu     300\n3     Ali  Basketbol     400",
            "text/html": "<div>\n<style scoped>\n    .dataframe tbody tr th:only-of-type {\n        vertical-align: middle;\n    }\n\n    .dataframe tbody tr th {\n        vertical-align: top;\n    }\n\n    .dataframe thead th {\n        text-align: right;\n    }\n</style>\n<table border=\"1\" class=\"dataframe\">\n  <thead>\n    <tr style=\"text-align: right;\">\n      <th></th>\n      <th>İsim</th>\n      <th>Spor</th>\n      <th>Kalori</th>\n    </tr>\n  </thead>\n  <tbody>\n    <tr>\n      <th>0</th>\n      <td>Ahmet</td>\n      <td>Koşu</td>\n      <td>100</td>\n    </tr>\n    <tr>\n      <th>1</th>\n      <td>Mehmet</td>\n      <td>Yüzme</td>\n      <td>200</td>\n    </tr>\n    <tr>\n      <th>2</th>\n      <td>Zeyneb</td>\n      <td>Koşu</td>\n      <td>300</td>\n    </tr>\n    <tr>\n      <th>3</th>\n      <td>Ali</td>\n      <td>Basketbol</td>\n      <td>400</td>\n    </tr>\n  </tbody>\n</table>\n</div>"
          },
          "metadata": {}
        }
      ],
      "execution_count": 13
    },
    {
      "cell_type": "code",
      "source": "sozluk2 = {\"İsim\": [\"Osman\", \"Levent\", \"Alper\", \"Fatma\"],\n           \"Spor\": [\"Koşu\", \"Yüzme\", \"Koşu\", \"Basketbol\"],\n           \"Kalori\": [200,100,50,300]}",
      "metadata": {
        "trusted": true
      },
      "outputs": [],
      "execution_count": 14
    },
    {
      "cell_type": "code",
      "source": "dataFrame2 = pd.DataFrame(sozluk2, index=[4,5,6,7])",
      "metadata": {
        "trusted": true
      },
      "outputs": [],
      "execution_count": 15
    },
    {
      "cell_type": "code",
      "source": "dataFrame2",
      "metadata": {
        "trusted": true
      },
      "outputs": [
        {
          "execution_count": 16,
          "output_type": "execute_result",
          "data": {
            "text/plain": "     İsim       Spor  Kalori\n4   Osman       Koşu     200\n5  Levent      Yüzme     100\n6   Alper       Koşu      50\n7   Fatma  Basketbol     300",
            "text/html": "<div>\n<style scoped>\n    .dataframe tbody tr th:only-of-type {\n        vertical-align: middle;\n    }\n\n    .dataframe tbody tr th {\n        vertical-align: top;\n    }\n\n    .dataframe thead th {\n        text-align: right;\n    }\n</style>\n<table border=\"1\" class=\"dataframe\">\n  <thead>\n    <tr style=\"text-align: right;\">\n      <th></th>\n      <th>İsim</th>\n      <th>Spor</th>\n      <th>Kalori</th>\n    </tr>\n  </thead>\n  <tbody>\n    <tr>\n      <th>4</th>\n      <td>Osman</td>\n      <td>Koşu</td>\n      <td>200</td>\n    </tr>\n    <tr>\n      <th>5</th>\n      <td>Levent</td>\n      <td>Yüzme</td>\n      <td>100</td>\n    </tr>\n    <tr>\n      <th>6</th>\n      <td>Alper</td>\n      <td>Koşu</td>\n      <td>50</td>\n    </tr>\n    <tr>\n      <th>7</th>\n      <td>Fatma</td>\n      <td>Basketbol</td>\n      <td>300</td>\n    </tr>\n  </tbody>\n</table>\n</div>"
          },
          "metadata": {}
        }
      ],
      "execution_count": 16
    },
    {
      "cell_type": "code",
      "source": "sozluk3 = {\"İsim\": [\"Ayşe\", \"Mahmut\", \"Duygu\", \"Nur\"],\n           \"Spor\": [\"Koşu\", \"Yüzme\", \"Badminton\", \"Tenis\"],\n           \"Kalori\": [300,400,500,250]}",
      "metadata": {
        "trusted": true
      },
      "outputs": [],
      "execution_count": 19
    },
    {
      "cell_type": "code",
      "source": "dataFrame3 = pd.DataFrame(sozluk3, index=[8,9,10,11])",
      "metadata": {
        "trusted": true
      },
      "outputs": [],
      "execution_count": 21
    },
    {
      "cell_type": "markdown",
      "source": "## concatenation:",
      "metadata": {}
    },
    {
      "cell_type": "code",
      "source": "# eğer dataFrame yapıları aynıysa rahatlıkla concat() kullanılabilir\n# concat(liste)  ==>   argument oarak bir liste alır. Bu listede birleştirilece data frame'ların ismi vardır.",
      "metadata": {
        "trusted": true
      },
      "outputs": [],
      "execution_count": 26
    },
    {
      "cell_type": "code",
      "source": "pd.concat([dataFrame1,dataFrame2,dataFrame3])",
      "metadata": {
        "trusted": true
      },
      "outputs": [
        {
          "execution_count": 25,
          "output_type": "execute_result",
          "data": {
            "text/plain": "      İsim       Spor  Kalori\n0    Ahmet       Koşu     100\n1   Mehmet      Yüzme     200\n2   Zeyneb       Koşu     300\n3      Ali  Basketbol     400\n4    Osman       Koşu     200\n5   Levent      Yüzme     100\n6    Alper       Koşu      50\n7    Fatma  Basketbol     300\n8     Ayşe       Koşu     300\n9   Mahmut      Yüzme     400\n10   Duygu  Badminton     500\n11     Nur      Tenis     250",
            "text/html": "<div>\n<style scoped>\n    .dataframe tbody tr th:only-of-type {\n        vertical-align: middle;\n    }\n\n    .dataframe tbody tr th {\n        vertical-align: top;\n    }\n\n    .dataframe thead th {\n        text-align: right;\n    }\n</style>\n<table border=\"1\" class=\"dataframe\">\n  <thead>\n    <tr style=\"text-align: right;\">\n      <th></th>\n      <th>İsim</th>\n      <th>Spor</th>\n      <th>Kalori</th>\n    </tr>\n  </thead>\n  <tbody>\n    <tr>\n      <th>0</th>\n      <td>Ahmet</td>\n      <td>Koşu</td>\n      <td>100</td>\n    </tr>\n    <tr>\n      <th>1</th>\n      <td>Mehmet</td>\n      <td>Yüzme</td>\n      <td>200</td>\n    </tr>\n    <tr>\n      <th>2</th>\n      <td>Zeyneb</td>\n      <td>Koşu</td>\n      <td>300</td>\n    </tr>\n    <tr>\n      <th>3</th>\n      <td>Ali</td>\n      <td>Basketbol</td>\n      <td>400</td>\n    </tr>\n    <tr>\n      <th>4</th>\n      <td>Osman</td>\n      <td>Koşu</td>\n      <td>200</td>\n    </tr>\n    <tr>\n      <th>5</th>\n      <td>Levent</td>\n      <td>Yüzme</td>\n      <td>100</td>\n    </tr>\n    <tr>\n      <th>6</th>\n      <td>Alper</td>\n      <td>Koşu</td>\n      <td>50</td>\n    </tr>\n    <tr>\n      <th>7</th>\n      <td>Fatma</td>\n      <td>Basketbol</td>\n      <td>300</td>\n    </tr>\n    <tr>\n      <th>8</th>\n      <td>Ayşe</td>\n      <td>Koşu</td>\n      <td>300</td>\n    </tr>\n    <tr>\n      <th>9</th>\n      <td>Mahmut</td>\n      <td>Yüzme</td>\n      <td>400</td>\n    </tr>\n    <tr>\n      <th>10</th>\n      <td>Duygu</td>\n      <td>Badminton</td>\n      <td>500</td>\n    </tr>\n    <tr>\n      <th>11</th>\n      <td>Nur</td>\n      <td>Tenis</td>\n      <td>250</td>\n    </tr>\n  </tbody>\n</table>\n</div>"
          },
          "metadata": {}
        }
      ],
      "execution_count": 25
    },
    {
      "cell_type": "code",
      "source": "pd.concat([dataFrame1,dataFrame2,dataFrame3], axis=0)   ## axis=1 denseydi yanyana koymaya çalışacaktı, o da birçok Nan verirdi",
      "metadata": {
        "trusted": true
      },
      "outputs": [
        {
          "execution_count": 28,
          "output_type": "execute_result",
          "data": {
            "text/plain": "      İsim       Spor  Kalori\n0    Ahmet       Koşu     100\n1   Mehmet      Yüzme     200\n2   Zeyneb       Koşu     300\n3      Ali  Basketbol     400\n4    Osman       Koşu     200\n5   Levent      Yüzme     100\n6    Alper       Koşu      50\n7    Fatma  Basketbol     300\n8     Ayşe       Koşu     300\n9   Mahmut      Yüzme     400\n10   Duygu  Badminton     500\n11     Nur      Tenis     250",
            "text/html": "<div>\n<style scoped>\n    .dataframe tbody tr th:only-of-type {\n        vertical-align: middle;\n    }\n\n    .dataframe tbody tr th {\n        vertical-align: top;\n    }\n\n    .dataframe thead th {\n        text-align: right;\n    }\n</style>\n<table border=\"1\" class=\"dataframe\">\n  <thead>\n    <tr style=\"text-align: right;\">\n      <th></th>\n      <th>İsim</th>\n      <th>Spor</th>\n      <th>Kalori</th>\n    </tr>\n  </thead>\n  <tbody>\n    <tr>\n      <th>0</th>\n      <td>Ahmet</td>\n      <td>Koşu</td>\n      <td>100</td>\n    </tr>\n    <tr>\n      <th>1</th>\n      <td>Mehmet</td>\n      <td>Yüzme</td>\n      <td>200</td>\n    </tr>\n    <tr>\n      <th>2</th>\n      <td>Zeyneb</td>\n      <td>Koşu</td>\n      <td>300</td>\n    </tr>\n    <tr>\n      <th>3</th>\n      <td>Ali</td>\n      <td>Basketbol</td>\n      <td>400</td>\n    </tr>\n    <tr>\n      <th>4</th>\n      <td>Osman</td>\n      <td>Koşu</td>\n      <td>200</td>\n    </tr>\n    <tr>\n      <th>5</th>\n      <td>Levent</td>\n      <td>Yüzme</td>\n      <td>100</td>\n    </tr>\n    <tr>\n      <th>6</th>\n      <td>Alper</td>\n      <td>Koşu</td>\n      <td>50</td>\n    </tr>\n    <tr>\n      <th>7</th>\n      <td>Fatma</td>\n      <td>Basketbol</td>\n      <td>300</td>\n    </tr>\n    <tr>\n      <th>8</th>\n      <td>Ayşe</td>\n      <td>Koşu</td>\n      <td>300</td>\n    </tr>\n    <tr>\n      <th>9</th>\n      <td>Mahmut</td>\n      <td>Yüzme</td>\n      <td>400</td>\n    </tr>\n    <tr>\n      <th>10</th>\n      <td>Duygu</td>\n      <td>Badminton</td>\n      <td>500</td>\n    </tr>\n    <tr>\n      <th>11</th>\n      <td>Nur</td>\n      <td>Tenis</td>\n      <td>250</td>\n    </tr>\n  </tbody>\n</table>\n</div>"
          },
          "metadata": {}
        }
      ],
      "execution_count": 28
    },
    {
      "cell_type": "markdown",
      "source": "## merge",
      "metadata": {}
    },
    {
      "cell_type": "code",
      "source": "# Birleştirmek, kaynaştırmak anlamında. \n# İki ayrı data frame2deki ortak column üzerinden data frame'leri birleştirip tek data frame elde etmek",
      "metadata": {
        "trusted": true
      },
      "outputs": [],
      "execution_count": 30
    },
    {
      "cell_type": "code",
      "source": "mergeSozluk1 = {\"İsim\": [\"Ahmet\", \"Mehmet\", \"Zeyneb\", \"Ali\"],\n           \"Spor\": [\"Koşu\", \"Yüzme\", \"Koşu\", \"Basketbol\"]}",
      "metadata": {
        "trusted": true
      },
      "outputs": [],
      "execution_count": 31
    },
    {
      "cell_type": "code",
      "source": "mergeDataFrame1 = pd.DataFrame(mergeSozluk1)",
      "metadata": {
        "trusted": true
      },
      "outputs": [],
      "execution_count": 32
    },
    {
      "cell_type": "code",
      "source": "mergeDataFrame1",
      "metadata": {
        "trusted": true
      },
      "outputs": [
        {
          "execution_count": 33,
          "output_type": "execute_result",
          "data": {
            "text/plain": "     İsim       Spor\n0   Ahmet       Koşu\n1  Mehmet      Yüzme\n2  Zeyneb       Koşu\n3     Ali  Basketbol",
            "text/html": "<div>\n<style scoped>\n    .dataframe tbody tr th:only-of-type {\n        vertical-align: middle;\n    }\n\n    .dataframe tbody tr th {\n        vertical-align: top;\n    }\n\n    .dataframe thead th {\n        text-align: right;\n    }\n</style>\n<table border=\"1\" class=\"dataframe\">\n  <thead>\n    <tr style=\"text-align: right;\">\n      <th></th>\n      <th>İsim</th>\n      <th>Spor</th>\n    </tr>\n  </thead>\n  <tbody>\n    <tr>\n      <th>0</th>\n      <td>Ahmet</td>\n      <td>Koşu</td>\n    </tr>\n    <tr>\n      <th>1</th>\n      <td>Mehmet</td>\n      <td>Yüzme</td>\n    </tr>\n    <tr>\n      <th>2</th>\n      <td>Zeyneb</td>\n      <td>Koşu</td>\n    </tr>\n    <tr>\n      <th>3</th>\n      <td>Ali</td>\n      <td>Basketbol</td>\n    </tr>\n  </tbody>\n</table>\n</div>"
          },
          "metadata": {}
        }
      ],
      "execution_count": 33
    },
    {
      "cell_type": "code",
      "source": "mergeSozluk2 = {\"İsim\": [\"Ahmet\", \"Mehmet\", \"Zeyneb\", \"Ali\"],\n            \"Kalori\": [100,200,150,250]}",
      "metadata": {
        "trusted": true
      },
      "outputs": [],
      "execution_count": 35
    },
    {
      "cell_type": "code",
      "source": "mergeDataFrame2 = pd.DataFrame(mergeSozluk2)",
      "metadata": {
        "trusted": true
      },
      "outputs": [],
      "execution_count": 36
    },
    {
      "cell_type": "code",
      "source": "mergeDataFrame2",
      "metadata": {
        "trusted": true
      },
      "outputs": [
        {
          "execution_count": 37,
          "output_type": "execute_result",
          "data": {
            "text/plain": "     İsim  Kalori\n0   Ahmet     100\n1  Mehmet     200\n2  Zeyneb     150\n3     Ali     250",
            "text/html": "<div>\n<style scoped>\n    .dataframe tbody tr th:only-of-type {\n        vertical-align: middle;\n    }\n\n    .dataframe tbody tr th {\n        vertical-align: top;\n    }\n\n    .dataframe thead th {\n        text-align: right;\n    }\n</style>\n<table border=\"1\" class=\"dataframe\">\n  <thead>\n    <tr style=\"text-align: right;\">\n      <th></th>\n      <th>İsim</th>\n      <th>Kalori</th>\n    </tr>\n  </thead>\n  <tbody>\n    <tr>\n      <th>0</th>\n      <td>Ahmet</td>\n      <td>100</td>\n    </tr>\n    <tr>\n      <th>1</th>\n      <td>Mehmet</td>\n      <td>200</td>\n    </tr>\n    <tr>\n      <th>2</th>\n      <td>Zeyneb</td>\n      <td>150</td>\n    </tr>\n    <tr>\n      <th>3</th>\n      <td>Ali</td>\n      <td>250</td>\n    </tr>\n  </tbody>\n</table>\n</div>"
          },
          "metadata": {}
        }
      ],
      "execution_count": 37
    },
    {
      "cell_type": "code",
      "source": "# merge() argument olarak birleştirilecek data frameler ve \n# \"on\" ifadesi ile hangi ortak column üzerinden birleştirme yapılacak belirtilir.\n\npd.merge(mergeDataFrame1, mergeDataFrame2, on = \"İsim\")",
      "metadata": {
        "trusted": true
      },
      "outputs": [
        {
          "execution_count": 39,
          "output_type": "execute_result",
          "data": {
            "text/plain": "     İsim       Spor  Kalori\n0   Ahmet       Koşu     100\n1  Mehmet      Yüzme     200\n2  Zeyneb       Koşu     150\n3     Ali  Basketbol     250",
            "text/html": "<div>\n<style scoped>\n    .dataframe tbody tr th:only-of-type {\n        vertical-align: middle;\n    }\n\n    .dataframe tbody tr th {\n        vertical-align: top;\n    }\n\n    .dataframe thead th {\n        text-align: right;\n    }\n</style>\n<table border=\"1\" class=\"dataframe\">\n  <thead>\n    <tr style=\"text-align: right;\">\n      <th></th>\n      <th>İsim</th>\n      <th>Spor</th>\n      <th>Kalori</th>\n    </tr>\n  </thead>\n  <tbody>\n    <tr>\n      <th>0</th>\n      <td>Ahmet</td>\n      <td>Koşu</td>\n      <td>100</td>\n    </tr>\n    <tr>\n      <th>1</th>\n      <td>Mehmet</td>\n      <td>Yüzme</td>\n      <td>200</td>\n    </tr>\n    <tr>\n      <th>2</th>\n      <td>Zeyneb</td>\n      <td>Koşu</td>\n      <td>150</td>\n    </tr>\n    <tr>\n      <th>3</th>\n      <td>Ali</td>\n      <td>Basketbol</td>\n      <td>250</td>\n    </tr>\n  </tbody>\n</table>\n</div>"
          },
          "metadata": {}
        }
      ],
      "execution_count": 39
    },
    {
      "cell_type": "markdown",
      "source": "## Pandas İleri Operasyonlar",
      "metadata": {}
    },
    {
      "cell_type": "code",
      "source": "# Püf noktalar",
      "metadata": {
        "trusted": true
      },
      "outputs": [],
      "execution_count": 40
    },
    {
      "cell_type": "code",
      "source": "# Örneğin bir veri setinden tekrar etmeyen değerler nasıl alınır?",
      "metadata": {
        "trusted": true
      },
      "outputs": [],
      "execution_count": 41
    },
    {
      "cell_type": "code",
      "source": "maasSozluk = { \"Çalışan İsimleri\": [\"Ahmet\", \"Mehmet\", \"Ali\", \"Zeyneb\"],\n    \"Departman\" :[\"Yazılım\", \"Satış\", \"Pazarlama\", \"Yazılım\"],\n    \"Maaş\": [100,200,300,400]}",
      "metadata": {
        "trusted": true
      },
      "outputs": [],
      "execution_count": 42
    },
    {
      "cell_type": "code",
      "source": "maasDataFrame = pd.DataFrame(maasSozluk)",
      "metadata": {
        "trusted": true
      },
      "outputs": [],
      "execution_count": 43
    },
    {
      "cell_type": "code",
      "source": "maasDataFrame",
      "metadata": {
        "trusted": true
      },
      "outputs": [
        {
          "execution_count": 44,
          "output_type": "execute_result",
          "data": {
            "text/plain": "  Çalışan İsimleri  Departman  Maaş\n0            Ahmet    Yazılım   100\n1           Mehmet      Satış   200\n2              Ali  Pazarlama   300\n3           Zeyneb    Yazılım   400",
            "text/html": "<div>\n<style scoped>\n    .dataframe tbody tr th:only-of-type {\n        vertical-align: middle;\n    }\n\n    .dataframe tbody tr th {\n        vertical-align: top;\n    }\n\n    .dataframe thead th {\n        text-align: right;\n    }\n</style>\n<table border=\"1\" class=\"dataframe\">\n  <thead>\n    <tr style=\"text-align: right;\">\n      <th></th>\n      <th>Çalışan İsimleri</th>\n      <th>Departman</th>\n      <th>Maaş</th>\n    </tr>\n  </thead>\n  <tbody>\n    <tr>\n      <th>0</th>\n      <td>Ahmet</td>\n      <td>Yazılım</td>\n      <td>100</td>\n    </tr>\n    <tr>\n      <th>1</th>\n      <td>Mehmet</td>\n      <td>Satış</td>\n      <td>200</td>\n    </tr>\n    <tr>\n      <th>2</th>\n      <td>Ali</td>\n      <td>Pazarlama</td>\n      <td>300</td>\n    </tr>\n    <tr>\n      <th>3</th>\n      <td>Zeyneb</td>\n      <td>Yazılım</td>\n      <td>400</td>\n    </tr>\n  </tbody>\n</table>\n</div>"
          },
          "metadata": {}
        }
      ],
      "execution_count": 44
    },
    {
      "cell_type": "code",
      "source": "maasDataFrame[\"Departman\"]",
      "metadata": {
        "trusted": true
      },
      "outputs": [
        {
          "execution_count": 45,
          "output_type": "execute_result",
          "data": {
            "text/plain": "0      Yazılım\n1        Satış\n2    Pazarlama\n3      Yazılım\nName: Departman, dtype: object"
          },
          "metadata": {}
        }
      ],
      "execution_count": 45
    },
    {
      "cell_type": "code",
      "source": "maasDataFrame[\"Departman\"].unique() # tekrar etmeden departmanları getirir",
      "metadata": {
        "trusted": true
      },
      "outputs": [
        {
          "execution_count": 48,
          "output_type": "execute_result",
          "data": {
            "text/plain": "array(['Yazılım', 'Satış', 'Pazarlama'], dtype=object)"
          },
          "metadata": {}
        }
      ],
      "execution_count": 48
    },
    {
      "cell_type": "code",
      "source": "maasDataFrame[\"Departman\"].nunique() # number of unique departmants",
      "metadata": {
        "trusted": true
      },
      "outputs": [
        {
          "execution_count": 49,
          "output_type": "execute_result",
          "data": {
            "text/plain": "3"
          },
          "metadata": {}
        }
      ],
      "execution_count": 49
    },
    {
      "cell_type": "code",
      "source": "maasDataFrame[\"Departman\"].value_counts()  # her departmandan kaç tane var",
      "metadata": {
        "trusted": true
      },
      "outputs": [
        {
          "execution_count": 51,
          "output_type": "execute_result",
          "data": {
            "text/plain": "Yazılım      2\nSatış        1\nPazarlama    1\nName: Departman, dtype: int64"
          },
          "metadata": {}
        }
      ],
      "execution_count": 51
    },
    {
      "cell_type": "code",
      "source": "def bruttenNete(maas):\n    return maas * 0.66",
      "metadata": {
        "trusted": true
      },
      "outputs": [],
      "execution_count": 55
    },
    {
      "cell_type": "code",
      "source": "maasDataFrame[\"Maaş\"]",
      "metadata": {
        "trusted": true
      },
      "outputs": [
        {
          "execution_count": 56,
          "output_type": "execute_result",
          "data": {
            "text/plain": "0    100\n1    200\n2    300\n3    400\nName: Maaş, dtype: int64"
          },
          "metadata": {}
        }
      ],
      "execution_count": 56
    },
    {
      "cell_type": "code",
      "source": "maasDataFrame[\"Maaş\"].apply(bruttenNete)  # normal bir fonksiyonu bütün column'a uygulamak için: \"apply()\" kullanılır",
      "metadata": {
        "trusted": true
      },
      "outputs": [
        {
          "execution_count": 59,
          "output_type": "execute_result",
          "data": {
            "text/plain": "0     66.0\n1    132.0\n2    198.0\n3    264.0\nName: Maaş, dtype: float64"
          },
          "metadata": {}
        }
      ],
      "execution_count": 59
    },
    {
      "cell_type": "code",
      "source": "#null değer var mı?\nmaasDataFrame.isnull()",
      "metadata": {
        "trusted": true
      },
      "outputs": [
        {
          "execution_count": 61,
          "output_type": "execute_result",
          "data": {
            "text/plain": "   Çalışan İsimleri  Departman   Maaş\n0             False      False  False\n1             False      False  False\n2             False      False  False\n3             False      False  False",
            "text/html": "<div>\n<style scoped>\n    .dataframe tbody tr th:only-of-type {\n        vertical-align: middle;\n    }\n\n    .dataframe tbody tr th {\n        vertical-align: top;\n    }\n\n    .dataframe thead th {\n        text-align: right;\n    }\n</style>\n<table border=\"1\" class=\"dataframe\">\n  <thead>\n    <tr style=\"text-align: right;\">\n      <th></th>\n      <th>Çalışan İsimleri</th>\n      <th>Departman</th>\n      <th>Maaş</th>\n    </tr>\n  </thead>\n  <tbody>\n    <tr>\n      <th>0</th>\n      <td>False</td>\n      <td>False</td>\n      <td>False</td>\n    </tr>\n    <tr>\n      <th>1</th>\n      <td>False</td>\n      <td>False</td>\n      <td>False</td>\n    </tr>\n    <tr>\n      <th>2</th>\n      <td>False</td>\n      <td>False</td>\n      <td>False</td>\n    </tr>\n    <tr>\n      <th>3</th>\n      <td>False</td>\n      <td>False</td>\n      <td>False</td>\n    </tr>\n  </tbody>\n</table>\n</div>"
          },
          "metadata": {}
        }
      ],
      "execution_count": 61
    },
    {
      "cell_type": "code",
      "source": "# Pivot table: Excel'de kullanılır. Burda da kullanılabilir",
      "metadata": {
        "trusted": true
      },
      "outputs": [],
      "execution_count": 64
    },
    {
      "cell_type": "code",
      "source": "yeniSozluk = {\"Karakterler\" : [\"Erdem\", \"Babamın Gölgesi\", \"Maysa\", \"Erdem\"],\n             \"Karakter İsmi\": [\"Zepi\", \"Osman\", \"Bulut\", \"Arif\"],\n             \"Karakter Yaşı\": [11, 13, 17, 27]}",
      "metadata": {
        "trusted": true
      },
      "outputs": [],
      "execution_count": 68
    },
    {
      "cell_type": "code",
      "source": "karakterDF = pd.DataFrame(yeniSozluk)",
      "metadata": {
        "trusted": true
      },
      "outputs": [],
      "execution_count": 69
    },
    {
      "cell_type": "code",
      "source": "karakterDF",
      "metadata": {
        "trusted": true
      },
      "outputs": [
        {
          "execution_count": 70,
          "output_type": "execute_result",
          "data": {
            "text/plain": "       Karakterler Karakter İsmi  Karakter Yaşı\n0            Erdem          Zepi             11\n1  Babamın Gölgesi         Osman             13\n2            Maysa         Bulut             17\n3            Erdem          Arif             27",
            "text/html": "<div>\n<style scoped>\n    .dataframe tbody tr th:only-of-type {\n        vertical-align: middle;\n    }\n\n    .dataframe tbody tr th {\n        vertical-align: top;\n    }\n\n    .dataframe thead th {\n        text-align: right;\n    }\n</style>\n<table border=\"1\" class=\"dataframe\">\n  <thead>\n    <tr style=\"text-align: right;\">\n      <th></th>\n      <th>Karakterler</th>\n      <th>Karakter İsmi</th>\n      <th>Karakter Yaşı</th>\n    </tr>\n  </thead>\n  <tbody>\n    <tr>\n      <th>0</th>\n      <td>Erdem</td>\n      <td>Zepi</td>\n      <td>11</td>\n    </tr>\n    <tr>\n      <th>1</th>\n      <td>Babamın Gölgesi</td>\n      <td>Osman</td>\n      <td>13</td>\n    </tr>\n    <tr>\n      <th>2</th>\n      <td>Maysa</td>\n      <td>Bulut</td>\n      <td>17</td>\n    </tr>\n    <tr>\n      <th>3</th>\n      <td>Erdem</td>\n      <td>Arif</td>\n      <td>27</td>\n    </tr>\n  </tbody>\n</table>\n</div>"
          },
          "metadata": {}
        }
      ],
      "execution_count": 70
    },
    {
      "cell_type": "code",
      "source": "karakterDF.pivot_table(values=\"Karakter Yaşı\",index= [\"Karakterler\", \"Karakter İsmi\"]  )",
      "metadata": {
        "trusted": true
      },
      "outputs": [
        {
          "execution_count": 74,
          "output_type": "execute_result",
          "data": {
            "text/plain": "                               Karakter Yaşı\nKarakterler     Karakter İsmi               \nBabamın Gölgesi Osman                     13\nErdem           Arif                      27\n                Zepi                      11\nMaysa           Bulut                     17",
            "text/html": "<div>\n<style scoped>\n    .dataframe tbody tr th:only-of-type {\n        vertical-align: middle;\n    }\n\n    .dataframe tbody tr th {\n        vertical-align: top;\n    }\n\n    .dataframe thead th {\n        text-align: right;\n    }\n</style>\n<table border=\"1\" class=\"dataframe\">\n  <thead>\n    <tr style=\"text-align: right;\">\n      <th></th>\n      <th></th>\n      <th>Karakter Yaşı</th>\n    </tr>\n    <tr>\n      <th>Karakterler</th>\n      <th>Karakter İsmi</th>\n      <th></th>\n    </tr>\n  </thead>\n  <tbody>\n    <tr>\n      <th>Babamın Gölgesi</th>\n      <th>Osman</th>\n      <td>13</td>\n    </tr>\n    <tr>\n      <th rowspan=\"2\" valign=\"top\">Erdem</th>\n      <th>Arif</th>\n      <td>27</td>\n    </tr>\n    <tr>\n      <th>Zepi</th>\n      <td>11</td>\n    </tr>\n    <tr>\n      <th>Maysa</th>\n      <th>Bulut</th>\n      <td>17</td>\n    </tr>\n  </tbody>\n</table>\n</div>"
          },
          "metadata": {}
        }
      ],
      "execution_count": 74
    },
    {
      "cell_type": "code",
      "source": "# Pivot table kullanmanın amacı multi  index değil.\n# aggfunc()'da belirtmezsek ortalamasını alıyor",
      "metadata": {
        "trusted": true
      },
      "outputs": [],
      "execution_count": 77
    },
    {
      "cell_type": "code",
      "source": "karakterDF.pivot_table(values=\"Karakter Yaşı\",index= [\"Karakterler\", \"Karakter İsmi\"], aggfunc=np.sum  )",
      "metadata": {
        "trusted": true
      },
      "outputs": [
        {
          "execution_count": 76,
          "output_type": "execute_result",
          "data": {
            "text/plain": "                               Karakter Yaşı\nKarakterler     Karakter İsmi               \nBabamın Gölgesi Osman                     13\nErdem           Arif                      27\n                Zepi                      11\nMaysa           Bulut                     17",
            "text/html": "<div>\n<style scoped>\n    .dataframe tbody tr th:only-of-type {\n        vertical-align: middle;\n    }\n\n    .dataframe tbody tr th {\n        vertical-align: top;\n    }\n\n    .dataframe thead th {\n        text-align: right;\n    }\n</style>\n<table border=\"1\" class=\"dataframe\">\n  <thead>\n    <tr style=\"text-align: right;\">\n      <th></th>\n      <th></th>\n      <th>Karakter Yaşı</th>\n    </tr>\n    <tr>\n      <th>Karakterler</th>\n      <th>Karakter İsmi</th>\n      <th></th>\n    </tr>\n  </thead>\n  <tbody>\n    <tr>\n      <th>Babamın Gölgesi</th>\n      <th>Osman</th>\n      <td>13</td>\n    </tr>\n    <tr>\n      <th rowspan=\"2\" valign=\"top\">Erdem</th>\n      <th>Arif</th>\n      <td>27</td>\n    </tr>\n    <tr>\n      <th>Zepi</th>\n      <td>11</td>\n    </tr>\n    <tr>\n      <th>Maysa</th>\n      <th>Bulut</th>\n      <td>17</td>\n    </tr>\n  </tbody>\n</table>\n</div>"
          },
          "metadata": {}
        }
      ],
      "execution_count": 76
    },
    {
      "cell_type": "code",
      "source": "",
      "metadata": {
        "trusted": true
      },
      "outputs": [],
      "execution_count": null
    }
  ]
}