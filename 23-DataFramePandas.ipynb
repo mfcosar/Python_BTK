{
  "metadata": {
    "kernelspec": {
      "name": "python",
      "display_name": "Python (Pyodide)",
      "language": "python"
    },
    "language_info": {
      "codemirror_mode": {
        "name": "python",
        "version": 3
      },
      "file_extension": ".py",
      "mimetype": "text/x-python",
      "name": "python",
      "nbconvert_exporter": "python",
      "pygments_lexer": "ipython3",
      "version": "3.8"
    }
  },
  "nbformat_minor": 4,
  "nbformat": 4,
  "cells": [
    {
      "cell_type": "markdown",
      "source": "## 23-DataFramePandas",
      "metadata": {}
    },
    {
      "cell_type": "code",
      "source": "import numpy as np\nimport pandas as pd",
      "metadata": {
        "trusted": true
      },
      "outputs": [],
      "execution_count": 180
    },
    {
      "cell_type": "code",
      "source": "## DataFrame: serilerin yanyana gelmesiyle oluşturulmuş bir Excel tablosu gibi düşünülebilir",
      "metadata": {
        "trusted": true
      },
      "outputs": [],
      "execution_count": 181
    },
    {
      "cell_type": "code",
      "source": "data = np.random.randn(4,3)  ## normal distribution ile 4e 3 bir matrix verir",
      "metadata": {
        "trusted": true
      },
      "outputs": [],
      "execution_count": 182
    },
    {
      "cell_type": "code",
      "source": "data",
      "metadata": {
        "trusted": true
      },
      "outputs": [
        {
          "execution_count": 183,
          "output_type": "execute_result",
          "data": {
            "text/plain": "array([[ 0.65324135,  0.81086295, -0.6135493 ],\n       [-0.77846891, -1.32956138,  0.21471379],\n       [ 0.39907474, -1.08080322, -0.29779868],\n       [-2.12864309, -1.39460539,  1.53574712]])"
          },
          "metadata": {}
        }
      ],
      "execution_count": 183
    },
    {
      "cell_type": "code",
      "source": "dataFrame = pd.DataFrame(data)",
      "metadata": {
        "trusted": true
      },
      "outputs": [],
      "execution_count": 184
    },
    {
      "cell_type": "code",
      "source": "dataFrame",
      "metadata": {
        "trusted": true
      },
      "outputs": [
        {
          "execution_count": 185,
          "output_type": "execute_result",
          "data": {
            "text/plain": "          0         1         2\n0  0.653241  0.810863 -0.613549\n1 -0.778469 -1.329561  0.214714\n2  0.399075 -1.080803 -0.297799\n3 -2.128643 -1.394605  1.535747",
            "text/html": "<div>\n<style scoped>\n    .dataframe tbody tr th:only-of-type {\n        vertical-align: middle;\n    }\n\n    .dataframe tbody tr th {\n        vertical-align: top;\n    }\n\n    .dataframe thead th {\n        text-align: right;\n    }\n</style>\n<table border=\"1\" class=\"dataframe\">\n  <thead>\n    <tr style=\"text-align: right;\">\n      <th></th>\n      <th>0</th>\n      <th>1</th>\n      <th>2</th>\n    </tr>\n  </thead>\n  <tbody>\n    <tr>\n      <th>0</th>\n      <td>0.653241</td>\n      <td>0.810863</td>\n      <td>-0.613549</td>\n    </tr>\n    <tr>\n      <th>1</th>\n      <td>-0.778469</td>\n      <td>-1.329561</td>\n      <td>0.214714</td>\n    </tr>\n    <tr>\n      <th>2</th>\n      <td>0.399075</td>\n      <td>-1.080803</td>\n      <td>-0.297799</td>\n    </tr>\n    <tr>\n      <th>3</th>\n      <td>-2.128643</td>\n      <td>-1.394605</td>\n      <td>1.535747</td>\n    </tr>\n  </tbody>\n</table>\n</div>"
          },
          "metadata": {}
        }
      ],
      "execution_count": 185
    },
    {
      "cell_type": "code",
      "source": "dataFrame[0]   # ilk column'ı getirir.. matrixteki gibi row'u getirmez..",
      "metadata": {
        "trusted": true
      },
      "outputs": [
        {
          "execution_count": 186,
          "output_type": "execute_result",
          "data": {
            "text/plain": "0    0.653241\n1   -0.778469\n2    0.399075\n3   -2.128643\nName: 0, dtype: float64"
          },
          "metadata": {}
        }
      ],
      "execution_count": 186
    },
    {
      "cell_type": "code",
      "source": "type(dataFrame)   ## Bir series'dir",
      "metadata": {
        "trusted": true
      },
      "outputs": [
        {
          "execution_count": 187,
          "output_type": "execute_result",
          "data": {
            "text/plain": "pandas.core.frame.DataFrame"
          },
          "metadata": {}
        }
      ],
      "execution_count": 187
    },
    {
      "cell_type": "code",
      "source": "# DataFrame'lere index nasıl atanır?",
      "metadata": {
        "trusted": true
      },
      "outputs": [],
      "execution_count": 188
    },
    {
      "cell_type": "code",
      "source": "dataFrame1 = pd.DataFrame(data, index=[\"Ali\", \"Ayşe\", \"Hatice\", \"Said\"], columns=[\"Maaş\", \"Yaş\", \"Çalışma saati\"])",
      "metadata": {
        "trusted": true
      },
      "outputs": [],
      "execution_count": 189
    },
    {
      "cell_type": "code",
      "source": "dataFrame1",
      "metadata": {
        "trusted": true
      },
      "outputs": [
        {
          "execution_count": 190,
          "output_type": "execute_result",
          "data": {
            "text/plain": "            Maaş       Yaş  Çalışma saati\nAli     0.653241  0.810863      -0.613549\nAyşe   -0.778469 -1.329561       0.214714\nHatice  0.399075 -1.080803      -0.297799\nSaid   -2.128643 -1.394605       1.535747",
            "text/html": "<div>\n<style scoped>\n    .dataframe tbody tr th:only-of-type {\n        vertical-align: middle;\n    }\n\n    .dataframe tbody tr th {\n        vertical-align: top;\n    }\n\n    .dataframe thead th {\n        text-align: right;\n    }\n</style>\n<table border=\"1\" class=\"dataframe\">\n  <thead>\n    <tr style=\"text-align: right;\">\n      <th></th>\n      <th>Maaş</th>\n      <th>Yaş</th>\n      <th>Çalışma saati</th>\n    </tr>\n  </thead>\n  <tbody>\n    <tr>\n      <th>Ali</th>\n      <td>0.653241</td>\n      <td>0.810863</td>\n      <td>-0.613549</td>\n    </tr>\n    <tr>\n      <th>Ayşe</th>\n      <td>-0.778469</td>\n      <td>-1.329561</td>\n      <td>0.214714</td>\n    </tr>\n    <tr>\n      <th>Hatice</th>\n      <td>0.399075</td>\n      <td>-1.080803</td>\n      <td>-0.297799</td>\n    </tr>\n    <tr>\n      <th>Said</th>\n      <td>-2.128643</td>\n      <td>-1.394605</td>\n      <td>1.535747</td>\n    </tr>\n  </tbody>\n</table>\n</div>"
          },
          "metadata": {}
        }
      ],
      "execution_count": 190
    },
    {
      "cell_type": "code",
      "source": "dataFrame1[\"Yaş\"]",
      "metadata": {
        "trusted": true
      },
      "outputs": [
        {
          "execution_count": 191,
          "output_type": "execute_result",
          "data": {
            "text/plain": "Ali       0.810863\nAyşe     -1.329561\nHatice   -1.080803\nSaid     -1.394605\nName: Yaş, dtype: float64"
          },
          "metadata": {}
        }
      ],
      "execution_count": 191
    },
    {
      "cell_type": "code",
      "source": "## dataFrame1[\"Said\"]   ==> # Hata veriyor, row alınmıyor",
      "metadata": {
        "trusted": true
      },
      "outputs": [],
      "execution_count": 192
    },
    {
      "cell_type": "code",
      "source": "dataFrame1[[\"Maaş\" , \"Yaş\"]]",
      "metadata": {
        "trusted": true
      },
      "outputs": [
        {
          "execution_count": 193,
          "output_type": "execute_result",
          "data": {
            "text/plain": "            Maaş       Yaş\nAli     0.653241  0.810863\nAyşe   -0.778469 -1.329561\nHatice  0.399075 -1.080803\nSaid   -2.128643 -1.394605",
            "text/html": "<div>\n<style scoped>\n    .dataframe tbody tr th:only-of-type {\n        vertical-align: middle;\n    }\n\n    .dataframe tbody tr th {\n        vertical-align: top;\n    }\n\n    .dataframe thead th {\n        text-align: right;\n    }\n</style>\n<table border=\"1\" class=\"dataframe\">\n  <thead>\n    <tr style=\"text-align: right;\">\n      <th></th>\n      <th>Maaş</th>\n      <th>Yaş</th>\n    </tr>\n  </thead>\n  <tbody>\n    <tr>\n      <th>Ali</th>\n      <td>0.653241</td>\n      <td>0.810863</td>\n    </tr>\n    <tr>\n      <th>Ayşe</th>\n      <td>-0.778469</td>\n      <td>-1.329561</td>\n    </tr>\n    <tr>\n      <th>Hatice</th>\n      <td>0.399075</td>\n      <td>-1.080803</td>\n    </tr>\n    <tr>\n      <th>Said</th>\n      <td>-2.128643</td>\n      <td>-1.394605</td>\n    </tr>\n  </tbody>\n</table>\n</div>"
          },
          "metadata": {}
        }
      ],
      "execution_count": 193
    },
    {
      "cell_type": "code",
      "source": "dataFrame1.loc[\"Said\"]   #loc, location yazınva hata vermden ilgili row'u getirir",
      "metadata": {
        "trusted": true
      },
      "outputs": [
        {
          "execution_count": 194,
          "output_type": "execute_result",
          "data": {
            "text/plain": "Maaş            -2.128643\nYaş             -1.394605\nÇalışma saati    1.535747\nName: Said, dtype: float64"
          },
          "metadata": {}
        }
      ],
      "execution_count": 194
    },
    {
      "cell_type": "code",
      "source": "dataFrame1.loc[\"Ali\"]",
      "metadata": {
        "trusted": true
      },
      "outputs": [
        {
          "execution_count": 195,
          "output_type": "execute_result",
          "data": {
            "text/plain": "Maaş             0.653241\nYaş              0.810863\nÇalışma saati   -0.613549\nName: Ali, dtype: float64"
          },
          "metadata": {}
        }
      ],
      "execution_count": 195
    },
    {
      "cell_type": "code",
      "source": "dataFrame1.iloc[1] # iloc ==> index location.. row getirir",
      "metadata": {
        "trusted": true
      },
      "outputs": [
        {
          "execution_count": 196,
          "output_type": "execute_result",
          "data": {
            "text/plain": "Maaş            -0.778469\nYaş             -1.329561\nÇalışma saati    0.214714\nName: Ayşe, dtype: float64"
          },
          "metadata": {}
        }
      ],
      "execution_count": 196
    },
    {
      "cell_type": "code",
      "source": "dataFrame1[\"Emeklilik yaşı\"] = dataFrame1[\"Yaş\"] + dataFrame1[\"Yaş\"]",
      "metadata": {
        "trusted": true
      },
      "outputs": [],
      "execution_count": 197
    },
    {
      "cell_type": "code",
      "source": "dataFrame1",
      "metadata": {
        "trusted": true
      },
      "outputs": [
        {
          "execution_count": 198,
          "output_type": "execute_result",
          "data": {
            "text/plain": "            Maaş       Yaş  Çalışma saati  Emeklilik yaşı\nAli     0.653241  0.810863      -0.613549        1.621726\nAyşe   -0.778469 -1.329561       0.214714       -2.659123\nHatice  0.399075 -1.080803      -0.297799       -2.161606\nSaid   -2.128643 -1.394605       1.535747       -2.789211",
            "text/html": "<div>\n<style scoped>\n    .dataframe tbody tr th:only-of-type {\n        vertical-align: middle;\n    }\n\n    .dataframe tbody tr th {\n        vertical-align: top;\n    }\n\n    .dataframe thead th {\n        text-align: right;\n    }\n</style>\n<table border=\"1\" class=\"dataframe\">\n  <thead>\n    <tr style=\"text-align: right;\">\n      <th></th>\n      <th>Maaş</th>\n      <th>Yaş</th>\n      <th>Çalışma saati</th>\n      <th>Emeklilik yaşı</th>\n    </tr>\n  </thead>\n  <tbody>\n    <tr>\n      <th>Ali</th>\n      <td>0.653241</td>\n      <td>0.810863</td>\n      <td>-0.613549</td>\n      <td>1.621726</td>\n    </tr>\n    <tr>\n      <th>Ayşe</th>\n      <td>-0.778469</td>\n      <td>-1.329561</td>\n      <td>0.214714</td>\n      <td>-2.659123</td>\n    </tr>\n    <tr>\n      <th>Hatice</th>\n      <td>0.399075</td>\n      <td>-1.080803</td>\n      <td>-0.297799</td>\n      <td>-2.161606</td>\n    </tr>\n    <tr>\n      <th>Said</th>\n      <td>-2.128643</td>\n      <td>-1.394605</td>\n      <td>1.535747</td>\n      <td>-2.789211</td>\n    </tr>\n  </tbody>\n</table>\n</div>"
          },
          "metadata": {}
        }
      ],
      "execution_count": 198
    },
    {
      "cell_type": "code",
      "source": "# column silme nasıl yapılır? axis=1 diyerek silerek\n\ndataFrame1.drop(\"Emeklilik yaşı\", axis=1)",
      "metadata": {
        "trusted": true
      },
      "outputs": [
        {
          "execution_count": 199,
          "output_type": "execute_result",
          "data": {
            "text/plain": "            Maaş       Yaş  Çalışma saati\nAli     0.653241  0.810863      -0.613549\nAyşe   -0.778469 -1.329561       0.214714\nHatice  0.399075 -1.080803      -0.297799\nSaid   -2.128643 -1.394605       1.535747",
            "text/html": "<div>\n<style scoped>\n    .dataframe tbody tr th:only-of-type {\n        vertical-align: middle;\n    }\n\n    .dataframe tbody tr th {\n        vertical-align: top;\n    }\n\n    .dataframe thead th {\n        text-align: right;\n    }\n</style>\n<table border=\"1\" class=\"dataframe\">\n  <thead>\n    <tr style=\"text-align: right;\">\n      <th></th>\n      <th>Maaş</th>\n      <th>Yaş</th>\n      <th>Çalışma saati</th>\n    </tr>\n  </thead>\n  <tbody>\n    <tr>\n      <th>Ali</th>\n      <td>0.653241</td>\n      <td>0.810863</td>\n      <td>-0.613549</td>\n    </tr>\n    <tr>\n      <th>Ayşe</th>\n      <td>-0.778469</td>\n      <td>-1.329561</td>\n      <td>0.214714</td>\n    </tr>\n    <tr>\n      <th>Hatice</th>\n      <td>0.399075</td>\n      <td>-1.080803</td>\n      <td>-0.297799</td>\n    </tr>\n    <tr>\n      <th>Said</th>\n      <td>-2.128643</td>\n      <td>-1.394605</td>\n      <td>1.535747</td>\n    </tr>\n  </tbody>\n</table>\n</div>"
          },
          "metadata": {}
        }
      ],
      "execution_count": 199
    },
    {
      "cell_type": "code",
      "source": "# row silme nasıl yapılır?   axis= 0  diyerek silme işlemi yapılır",
      "metadata": {
        "trusted": true
      },
      "outputs": [],
      "execution_count": 200
    },
    {
      "cell_type": "code",
      "source": "dataFrame1.drop(\"Hatice\", axis=0)",
      "metadata": {
        "trusted": true
      },
      "outputs": [
        {
          "execution_count": 201,
          "output_type": "execute_result",
          "data": {
            "text/plain": "          Maaş       Yaş  Çalışma saati  Emeklilik yaşı\nAli   0.653241  0.810863      -0.613549        1.621726\nAyşe -0.778469 -1.329561       0.214714       -2.659123\nSaid -2.128643 -1.394605       1.535747       -2.789211",
            "text/html": "<div>\n<style scoped>\n    .dataframe tbody tr th:only-of-type {\n        vertical-align: middle;\n    }\n\n    .dataframe tbody tr th {\n        vertical-align: top;\n    }\n\n    .dataframe thead th {\n        text-align: right;\n    }\n</style>\n<table border=\"1\" class=\"dataframe\">\n  <thead>\n    <tr style=\"text-align: right;\">\n      <th></th>\n      <th>Maaş</th>\n      <th>Yaş</th>\n      <th>Çalışma saati</th>\n      <th>Emeklilik yaşı</th>\n    </tr>\n  </thead>\n  <tbody>\n    <tr>\n      <th>Ali</th>\n      <td>0.653241</td>\n      <td>0.810863</td>\n      <td>-0.613549</td>\n      <td>1.621726</td>\n    </tr>\n    <tr>\n      <th>Ayşe</th>\n      <td>-0.778469</td>\n      <td>-1.329561</td>\n      <td>0.214714</td>\n      <td>-2.659123</td>\n    </tr>\n    <tr>\n      <th>Said</th>\n      <td>-2.128643</td>\n      <td>-1.394605</td>\n      <td>1.535747</td>\n      <td>-2.789211</td>\n    </tr>\n  </tbody>\n</table>\n</div>"
          },
          "metadata": {}
        }
      ],
      "execution_count": 201
    },
    {
      "cell_type": "code",
      "source": "dataFrame1",
      "metadata": {
        "trusted": true
      },
      "outputs": [
        {
          "execution_count": 202,
          "output_type": "execute_result",
          "data": {
            "text/plain": "            Maaş       Yaş  Çalışma saati  Emeklilik yaşı\nAli     0.653241  0.810863      -0.613549        1.621726\nAyşe   -0.778469 -1.329561       0.214714       -2.659123\nHatice  0.399075 -1.080803      -0.297799       -2.161606\nSaid   -2.128643 -1.394605       1.535747       -2.789211",
            "text/html": "<div>\n<style scoped>\n    .dataframe tbody tr th:only-of-type {\n        vertical-align: middle;\n    }\n\n    .dataframe tbody tr th {\n        vertical-align: top;\n    }\n\n    .dataframe thead th {\n        text-align: right;\n    }\n</style>\n<table border=\"1\" class=\"dataframe\">\n  <thead>\n    <tr style=\"text-align: right;\">\n      <th></th>\n      <th>Maaş</th>\n      <th>Yaş</th>\n      <th>Çalışma saati</th>\n      <th>Emeklilik yaşı</th>\n    </tr>\n  </thead>\n  <tbody>\n    <tr>\n      <th>Ali</th>\n      <td>0.653241</td>\n      <td>0.810863</td>\n      <td>-0.613549</td>\n      <td>1.621726</td>\n    </tr>\n    <tr>\n      <th>Ayşe</th>\n      <td>-0.778469</td>\n      <td>-1.329561</td>\n      <td>0.214714</td>\n      <td>-2.659123</td>\n    </tr>\n    <tr>\n      <th>Hatice</th>\n      <td>0.399075</td>\n      <td>-1.080803</td>\n      <td>-0.297799</td>\n      <td>-2.161606</td>\n    </tr>\n    <tr>\n      <th>Said</th>\n      <td>-2.128643</td>\n      <td>-1.394605</td>\n      <td>1.535747</td>\n      <td>-2.789211</td>\n    </tr>\n  </tbody>\n</table>\n</div>"
          },
          "metadata": {}
        }
      ],
      "execution_count": 202
    },
    {
      "cell_type": "code",
      "source": "dataFrame1.drop(\"Emeklilik yaşı\", axis=1, inplace= True)  # içinde bu işlemi yap, serielere uygula,, demektir. \n## inplace  yazılmazsa orijinal dosya sabit kalır, yazılırsa orijinal dosyada değişiklik yapılır",
      "metadata": {
        "trusted": true
      },
      "outputs": [],
      "execution_count": 203
    },
    {
      "cell_type": "code",
      "source": "dataFrame1.loc[\"Said\"]",
      "metadata": {
        "trusted": true
      },
      "outputs": [
        {
          "execution_count": 204,
          "output_type": "execute_result",
          "data": {
            "text/plain": "Maaş            -2.128643\nYaş             -1.394605\nÇalışma saati    1.535747\nName: Said, dtype: float64"
          },
          "metadata": {}
        }
      ],
      "execution_count": 204
    },
    {
      "cell_type": "code",
      "source": "dataFrame1.loc[\"Said\"][\"Maaş\"]",
      "metadata": {
        "trusted": true
      },
      "outputs": [
        {
          "execution_count": 205,
          "output_type": "execute_result",
          "data": {
            "text/plain": "-2.1286430869919033"
          },
          "metadata": {}
        }
      ],
      "execution_count": 205
    },
    {
      "cell_type": "code",
      "source": "dataFrame1.loc[\"Said\"][\"Yaş\"]",
      "metadata": {
        "trusted": true
      },
      "outputs": [
        {
          "execution_count": 206,
          "output_type": "execute_result",
          "data": {
            "text/plain": "-1.3946053874520075"
          },
          "metadata": {}
        }
      ],
      "execution_count": 206
    },
    {
      "cell_type": "code",
      "source": "dataFrame1.loc[\"Said\", \"Maaş\"]",
      "metadata": {
        "trusted": true
      },
      "outputs": [
        {
          "execution_count": 207,
          "output_type": "execute_result",
          "data": {
            "text/plain": "-2.1286430869919033"
          },
          "metadata": {}
        }
      ],
      "execution_count": 207
    },
    {
      "cell_type": "code",
      "source": "dataFrame1",
      "metadata": {
        "trusted": true
      },
      "outputs": [
        {
          "execution_count": 208,
          "output_type": "execute_result",
          "data": {
            "text/plain": "            Maaş       Yaş  Çalışma saati\nAli     0.653241  0.810863      -0.613549\nAyşe   -0.778469 -1.329561       0.214714\nHatice  0.399075 -1.080803      -0.297799\nSaid   -2.128643 -1.394605       1.535747",
            "text/html": "<div>\n<style scoped>\n    .dataframe tbody tr th:only-of-type {\n        vertical-align: middle;\n    }\n\n    .dataframe tbody tr th {\n        vertical-align: top;\n    }\n\n    .dataframe thead th {\n        text-align: right;\n    }\n</style>\n<table border=\"1\" class=\"dataframe\">\n  <thead>\n    <tr style=\"text-align: right;\">\n      <th></th>\n      <th>Maaş</th>\n      <th>Yaş</th>\n      <th>Çalışma saati</th>\n    </tr>\n  </thead>\n  <tbody>\n    <tr>\n      <th>Ali</th>\n      <td>0.653241</td>\n      <td>0.810863</td>\n      <td>-0.613549</td>\n    </tr>\n    <tr>\n      <th>Ayşe</th>\n      <td>-0.778469</td>\n      <td>-1.329561</td>\n      <td>0.214714</td>\n    </tr>\n    <tr>\n      <th>Hatice</th>\n      <td>0.399075</td>\n      <td>-1.080803</td>\n      <td>-0.297799</td>\n    </tr>\n    <tr>\n      <th>Said</th>\n      <td>-2.128643</td>\n      <td>-1.394605</td>\n      <td>1.535747</td>\n    </tr>\n  </tbody>\n</table>\n</div>"
          },
          "metadata": {}
        }
      ],
      "execution_count": 208
    },
    {
      "cell_type": "code",
      "source": "#0'dan küçük değerleri bulmak için:\nbooleanFrame= dataFrame1 < 0",
      "metadata": {
        "trusted": true
      },
      "outputs": [],
      "execution_count": 209
    },
    {
      "cell_type": "code",
      "source": "booleanFrame",
      "metadata": {
        "trusted": true
      },
      "outputs": [
        {
          "execution_count": 210,
          "output_type": "execute_result",
          "data": {
            "text/plain": "         Maaş    Yaş  Çalışma saati\nAli     False  False           True\nAyşe     True   True          False\nHatice  False   True           True\nSaid     True   True          False",
            "text/html": "<div>\n<style scoped>\n    .dataframe tbody tr th:only-of-type {\n        vertical-align: middle;\n    }\n\n    .dataframe tbody tr th {\n        vertical-align: top;\n    }\n\n    .dataframe thead th {\n        text-align: right;\n    }\n</style>\n<table border=\"1\" class=\"dataframe\">\n  <thead>\n    <tr style=\"text-align: right;\">\n      <th></th>\n      <th>Maaş</th>\n      <th>Yaş</th>\n      <th>Çalışma saati</th>\n    </tr>\n  </thead>\n  <tbody>\n    <tr>\n      <th>Ali</th>\n      <td>False</td>\n      <td>False</td>\n      <td>True</td>\n    </tr>\n    <tr>\n      <th>Ayşe</th>\n      <td>True</td>\n      <td>True</td>\n      <td>False</td>\n    </tr>\n    <tr>\n      <th>Hatice</th>\n      <td>False</td>\n      <td>True</td>\n      <td>True</td>\n    </tr>\n    <tr>\n      <th>Said</th>\n      <td>True</td>\n      <td>True</td>\n      <td>False</td>\n    </tr>\n  </tbody>\n</table>\n</div>"
          },
          "metadata": {}
        }
      ],
      "execution_count": 210
    },
    {
      "cell_type": "code",
      "source": "dataFrame1",
      "metadata": {
        "trusted": true
      },
      "outputs": [
        {
          "execution_count": 211,
          "output_type": "execute_result",
          "data": {
            "text/plain": "            Maaş       Yaş  Çalışma saati\nAli     0.653241  0.810863      -0.613549\nAyşe   -0.778469 -1.329561       0.214714\nHatice  0.399075 -1.080803      -0.297799\nSaid   -2.128643 -1.394605       1.535747",
            "text/html": "<div>\n<style scoped>\n    .dataframe tbody tr th:only-of-type {\n        vertical-align: middle;\n    }\n\n    .dataframe tbody tr th {\n        vertical-align: top;\n    }\n\n    .dataframe thead th {\n        text-align: right;\n    }\n</style>\n<table border=\"1\" class=\"dataframe\">\n  <thead>\n    <tr style=\"text-align: right;\">\n      <th></th>\n      <th>Maaş</th>\n      <th>Yaş</th>\n      <th>Çalışma saati</th>\n    </tr>\n  </thead>\n  <tbody>\n    <tr>\n      <th>Ali</th>\n      <td>0.653241</td>\n      <td>0.810863</td>\n      <td>-0.613549</td>\n    </tr>\n    <tr>\n      <th>Ayşe</th>\n      <td>-0.778469</td>\n      <td>-1.329561</td>\n      <td>0.214714</td>\n    </tr>\n    <tr>\n      <th>Hatice</th>\n      <td>0.399075</td>\n      <td>-1.080803</td>\n      <td>-0.297799</td>\n    </tr>\n    <tr>\n      <th>Said</th>\n      <td>-2.128643</td>\n      <td>-1.394605</td>\n      <td>1.535747</td>\n    </tr>\n  </tbody>\n</table>\n</div>"
          },
          "metadata": {}
        }
      ],
      "execution_count": 211
    },
    {
      "cell_type": "code",
      "source": "dataFrame1[booleanFrame]     ## filtreleme yapılır: sadece 0'dan küçük olanların değerlerini getirir\n\n## Bunu : dataFrame1[ dataFrame1 < 0]   : olarak da yazılabilir. Aynı sonucu getirir",
      "metadata": {
        "trusted": true
      },
      "outputs": [
        {
          "execution_count": 212,
          "output_type": "execute_result",
          "data": {
            "text/plain": "            Maaş       Yaş  Çalışma saati\nAli          NaN       NaN      -0.613549\nAyşe   -0.778469 -1.329561            NaN\nHatice       NaN -1.080803      -0.297799\nSaid   -2.128643 -1.394605            NaN",
            "text/html": "<div>\n<style scoped>\n    .dataframe tbody tr th:only-of-type {\n        vertical-align: middle;\n    }\n\n    .dataframe tbody tr th {\n        vertical-align: top;\n    }\n\n    .dataframe thead th {\n        text-align: right;\n    }\n</style>\n<table border=\"1\" class=\"dataframe\">\n  <thead>\n    <tr style=\"text-align: right;\">\n      <th></th>\n      <th>Maaş</th>\n      <th>Yaş</th>\n      <th>Çalışma saati</th>\n    </tr>\n  </thead>\n  <tbody>\n    <tr>\n      <th>Ali</th>\n      <td>NaN</td>\n      <td>NaN</td>\n      <td>-0.613549</td>\n    </tr>\n    <tr>\n      <th>Ayşe</th>\n      <td>-0.778469</td>\n      <td>-1.329561</td>\n      <td>NaN</td>\n    </tr>\n    <tr>\n      <th>Hatice</th>\n      <td>NaN</td>\n      <td>-1.080803</td>\n      <td>-0.297799</td>\n    </tr>\n    <tr>\n      <th>Said</th>\n      <td>-2.128643</td>\n      <td>-1.394605</td>\n      <td>NaN</td>\n    </tr>\n  </tbody>\n</table>\n</div>"
          },
          "metadata": {}
        }
      ],
      "execution_count": 212
    },
    {
      "cell_type": "code",
      "source": "## Bu tarz işlemler columnlar arasında yapılabilir mi?",
      "metadata": {
        "trusted": true
      },
      "outputs": [],
      "execution_count": 213
    },
    {
      "cell_type": "code",
      "source": "dataFrame1[\"Yaş\"]",
      "metadata": {
        "trusted": true
      },
      "outputs": [
        {
          "execution_count": 214,
          "output_type": "execute_result",
          "data": {
            "text/plain": "Ali       0.810863\nAyşe     -1.329561\nHatice   -1.080803\nSaid     -1.394605\nName: Yaş, dtype: float64"
          },
          "metadata": {}
        }
      ],
      "execution_count": 214
    },
    {
      "cell_type": "code",
      "source": "dataFrame1[\"Yaş\"] > 0",
      "metadata": {
        "trusted": true
      },
      "outputs": [
        {
          "execution_count": 215,
          "output_type": "execute_result",
          "data": {
            "text/plain": "Ali        True\nAyşe      False\nHatice    False\nSaid      False\nName: Yaş, dtype: bool"
          },
          "metadata": {}
        }
      ],
      "execution_count": 215
    },
    {
      "cell_type": "code",
      "source": "dataFrame1[dataFrame1[\"Yaş\"] > 0] #Yaş column'u 0'dan büyük olanları getirir, 0'dan küçük olan row'ları siler, getirmez.",
      "metadata": {
        "trusted": true
      },
      "outputs": [
        {
          "execution_count": 216,
          "output_type": "execute_result",
          "data": {
            "text/plain": "         Maaş       Yaş  Çalışma saati\nAli  0.653241  0.810863      -0.613549",
            "text/html": "<div>\n<style scoped>\n    .dataframe tbody tr th:only-of-type {\n        vertical-align: middle;\n    }\n\n    .dataframe tbody tr th {\n        vertical-align: top;\n    }\n\n    .dataframe thead th {\n        text-align: right;\n    }\n</style>\n<table border=\"1\" class=\"dataframe\">\n  <thead>\n    <tr style=\"text-align: right;\">\n      <th></th>\n      <th>Maaş</th>\n      <th>Yaş</th>\n      <th>Çalışma saati</th>\n    </tr>\n  </thead>\n  <tbody>\n    <tr>\n      <th>Ali</th>\n      <td>0.653241</td>\n      <td>0.810863</td>\n      <td>-0.613549</td>\n    </tr>\n  </tbody>\n</table>\n</div>"
          },
          "metadata": {}
        }
      ],
      "execution_count": 216
    },
    {
      "cell_type": "code",
      "source": "dataFrame1[dataFrame1[\"Çalışma saati\"] > 0] ",
      "metadata": {
        "trusted": true
      },
      "outputs": [
        {
          "execution_count": 217,
          "output_type": "execute_result",
          "data": {
            "text/plain": "          Maaş       Yaş  Çalışma saati\nAyşe -0.778469 -1.329561       0.214714\nSaid -2.128643 -1.394605       1.535747",
            "text/html": "<div>\n<style scoped>\n    .dataframe tbody tr th:only-of-type {\n        vertical-align: middle;\n    }\n\n    .dataframe tbody tr th {\n        vertical-align: top;\n    }\n\n    .dataframe thead th {\n        text-align: right;\n    }\n</style>\n<table border=\"1\" class=\"dataframe\">\n  <thead>\n    <tr style=\"text-align: right;\">\n      <th></th>\n      <th>Maaş</th>\n      <th>Yaş</th>\n      <th>Çalışma saati</th>\n    </tr>\n  </thead>\n  <tbody>\n    <tr>\n      <th>Ayşe</th>\n      <td>-0.778469</td>\n      <td>-1.329561</td>\n      <td>0.214714</td>\n    </tr>\n    <tr>\n      <th>Said</th>\n      <td>-2.128643</td>\n      <td>-1.394605</td>\n      <td>1.535747</td>\n    </tr>\n  </tbody>\n</table>\n</div>"
          },
          "metadata": {}
        }
      ],
      "execution_count": 217
    },
    {
      "cell_type": "markdown",
      "source": "## Index nasıl değiştirilir?",
      "metadata": {}
    },
    {
      "cell_type": "code",
      "source": "dataFrame1.reset_index()      # soldaki isim olan index yerine 0,1,2.. geldi. İsim index'i column oldu",
      "metadata": {
        "trusted": true
      },
      "outputs": [
        {
          "execution_count": 218,
          "output_type": "execute_result",
          "data": {
            "text/plain": "    index      Maaş       Yaş  Çalışma saati\n0     Ali  0.653241  0.810863      -0.613549\n1    Ayşe -0.778469 -1.329561       0.214714\n2  Hatice  0.399075 -1.080803      -0.297799\n3    Said -2.128643 -1.394605       1.535747",
            "text/html": "<div>\n<style scoped>\n    .dataframe tbody tr th:only-of-type {\n        vertical-align: middle;\n    }\n\n    .dataframe tbody tr th {\n        vertical-align: top;\n    }\n\n    .dataframe thead th {\n        text-align: right;\n    }\n</style>\n<table border=\"1\" class=\"dataframe\">\n  <thead>\n    <tr style=\"text-align: right;\">\n      <th></th>\n      <th>index</th>\n      <th>Maaş</th>\n      <th>Yaş</th>\n      <th>Çalışma saati</th>\n    </tr>\n  </thead>\n  <tbody>\n    <tr>\n      <th>0</th>\n      <td>Ali</td>\n      <td>0.653241</td>\n      <td>0.810863</td>\n      <td>-0.613549</td>\n    </tr>\n    <tr>\n      <th>1</th>\n      <td>Ayşe</td>\n      <td>-0.778469</td>\n      <td>-1.329561</td>\n      <td>0.214714</td>\n    </tr>\n    <tr>\n      <th>2</th>\n      <td>Hatice</td>\n      <td>0.399075</td>\n      <td>-1.080803</td>\n      <td>-0.297799</td>\n    </tr>\n    <tr>\n      <th>3</th>\n      <td>Said</td>\n      <td>-2.128643</td>\n      <td>-1.394605</td>\n      <td>1.535747</td>\n    </tr>\n  </tbody>\n</table>\n</div>"
          },
          "metadata": {}
        }
      ],
      "execution_count": 218
    },
    {
      "cell_type": "code",
      "source": "## dataFrame1 'i çağırırsak yine eski haline döner, index'i isimler olarak verir. \n## Kalıcı değişiklik için inplace kullanmak gerekir",
      "metadata": {
        "trusted": true
      },
      "outputs": [],
      "execution_count": 219
    },
    {
      "cell_type": "code",
      "source": "yeniIndexListesi = [\"Ali\", \"Ayş\", \"Hat\", \"Sai\"]",
      "metadata": {
        "trusted": true
      },
      "outputs": [],
      "execution_count": 220
    },
    {
      "cell_type": "code",
      "source": "dataFrame1[\"Yeni Index\"] = yeniIndexListesi",
      "metadata": {
        "trusted": true
      },
      "outputs": [],
      "execution_count": 221
    },
    {
      "cell_type": "code",
      "source": "dataFrame1",
      "metadata": {
        "trusted": true
      },
      "outputs": [
        {
          "execution_count": 222,
          "output_type": "execute_result",
          "data": {
            "text/plain": "            Maaş       Yaş  Çalışma saati Yeni Index\nAli     0.653241  0.810863      -0.613549        Ali\nAyşe   -0.778469 -1.329561       0.214714        Ayş\nHatice  0.399075 -1.080803      -0.297799        Hat\nSaid   -2.128643 -1.394605       1.535747        Sai",
            "text/html": "<div>\n<style scoped>\n    .dataframe tbody tr th:only-of-type {\n        vertical-align: middle;\n    }\n\n    .dataframe tbody tr th {\n        vertical-align: top;\n    }\n\n    .dataframe thead th {\n        text-align: right;\n    }\n</style>\n<table border=\"1\" class=\"dataframe\">\n  <thead>\n    <tr style=\"text-align: right;\">\n      <th></th>\n      <th>Maaş</th>\n      <th>Yaş</th>\n      <th>Çalışma saati</th>\n      <th>Yeni Index</th>\n    </tr>\n  </thead>\n  <tbody>\n    <tr>\n      <th>Ali</th>\n      <td>0.653241</td>\n      <td>0.810863</td>\n      <td>-0.613549</td>\n      <td>Ali</td>\n    </tr>\n    <tr>\n      <th>Ayşe</th>\n      <td>-0.778469</td>\n      <td>-1.329561</td>\n      <td>0.214714</td>\n      <td>Ayş</td>\n    </tr>\n    <tr>\n      <th>Hatice</th>\n      <td>0.399075</td>\n      <td>-1.080803</td>\n      <td>-0.297799</td>\n      <td>Hat</td>\n    </tr>\n    <tr>\n      <th>Said</th>\n      <td>-2.128643</td>\n      <td>-1.394605</td>\n      <td>1.535747</td>\n      <td>Sai</td>\n    </tr>\n  </tbody>\n</table>\n</div>"
          },
          "metadata": {}
        }
      ],
      "execution_count": 222
    },
    {
      "cell_type": "code",
      "source": "dataFrame1.set_index(\"Yeni Index\")  # dataframe'ın index'i hangi column olacak onu belirtir.",
      "metadata": {
        "trusted": true
      },
      "outputs": [
        {
          "execution_count": 223,
          "output_type": "execute_result",
          "data": {
            "text/plain": "                Maaş       Yaş  Çalışma saati\nYeni Index                                   \nAli         0.653241  0.810863      -0.613549\nAyş        -0.778469 -1.329561       0.214714\nHat         0.399075 -1.080803      -0.297799\nSai        -2.128643 -1.394605       1.535747",
            "text/html": "<div>\n<style scoped>\n    .dataframe tbody tr th:only-of-type {\n        vertical-align: middle;\n    }\n\n    .dataframe tbody tr th {\n        vertical-align: top;\n    }\n\n    .dataframe thead th {\n        text-align: right;\n    }\n</style>\n<table border=\"1\" class=\"dataframe\">\n  <thead>\n    <tr style=\"text-align: right;\">\n      <th></th>\n      <th>Maaş</th>\n      <th>Yaş</th>\n      <th>Çalışma saati</th>\n    </tr>\n    <tr>\n      <th>Yeni Index</th>\n      <th></th>\n      <th></th>\n      <th></th>\n    </tr>\n  </thead>\n  <tbody>\n    <tr>\n      <th>Ali</th>\n      <td>0.653241</td>\n      <td>0.810863</td>\n      <td>-0.613549</td>\n    </tr>\n    <tr>\n      <th>Ayş</th>\n      <td>-0.778469</td>\n      <td>-1.329561</td>\n      <td>0.214714</td>\n    </tr>\n    <tr>\n      <th>Hat</th>\n      <td>0.399075</td>\n      <td>-1.080803</td>\n      <td>-0.297799</td>\n    </tr>\n    <tr>\n      <th>Sai</th>\n      <td>-2.128643</td>\n      <td>-1.394605</td>\n      <td>1.535747</td>\n    </tr>\n  </tbody>\n</table>\n</div>"
          },
          "metadata": {}
        }
      ],
      "execution_count": 223
    },
    {
      "cell_type": "code",
      "source": "dataFrame1 ## Eski haline dönmüş",
      "metadata": {
        "trusted": true
      },
      "outputs": [
        {
          "execution_count": 224,
          "output_type": "execute_result",
          "data": {
            "text/plain": "            Maaş       Yaş  Çalışma saati Yeni Index\nAli     0.653241  0.810863      -0.613549        Ali\nAyşe   -0.778469 -1.329561       0.214714        Ayş\nHatice  0.399075 -1.080803      -0.297799        Hat\nSaid   -2.128643 -1.394605       1.535747        Sai",
            "text/html": "<div>\n<style scoped>\n    .dataframe tbody tr th:only-of-type {\n        vertical-align: middle;\n    }\n\n    .dataframe tbody tr th {\n        vertical-align: top;\n    }\n\n    .dataframe thead th {\n        text-align: right;\n    }\n</style>\n<table border=\"1\" class=\"dataframe\">\n  <thead>\n    <tr style=\"text-align: right;\">\n      <th></th>\n      <th>Maaş</th>\n      <th>Yaş</th>\n      <th>Çalışma saati</th>\n      <th>Yeni Index</th>\n    </tr>\n  </thead>\n  <tbody>\n    <tr>\n      <th>Ali</th>\n      <td>0.653241</td>\n      <td>0.810863</td>\n      <td>-0.613549</td>\n      <td>Ali</td>\n    </tr>\n    <tr>\n      <th>Ayşe</th>\n      <td>-0.778469</td>\n      <td>-1.329561</td>\n      <td>0.214714</td>\n      <td>Ayş</td>\n    </tr>\n    <tr>\n      <th>Hatice</th>\n      <td>0.399075</td>\n      <td>-1.080803</td>\n      <td>-0.297799</td>\n      <td>Hat</td>\n    </tr>\n    <tr>\n      <th>Said</th>\n      <td>-2.128643</td>\n      <td>-1.394605</td>\n      <td>1.535747</td>\n      <td>Sai</td>\n    </tr>\n  </tbody>\n</table>\n</div>"
          },
          "metadata": {}
        }
      ],
      "execution_count": 224
    },
    {
      "cell_type": "code",
      "source": "## Bu değişikliği kalıcı yapmak için:",
      "metadata": {
        "trusted": true
      },
      "outputs": [],
      "execution_count": 225
    },
    {
      "cell_type": "code",
      "source": "dataFrame1.set_index(\"Yeni Index\", inplace=True )  \n#değişiklik kalıcı olarak yapılacak",
      "metadata": {
        "trusted": true
      },
      "outputs": [],
      "execution_count": 226
    },
    {
      "cell_type": "code",
      "source": "dataFrame1",
      "metadata": {
        "trusted": true
      },
      "outputs": [
        {
          "execution_count": 227,
          "output_type": "execute_result",
          "data": {
            "text/plain": "                Maaş       Yaş  Çalışma saati\nYeni Index                                   \nAli         0.653241  0.810863      -0.613549\nAyş        -0.778469 -1.329561       0.214714\nHat         0.399075 -1.080803      -0.297799\nSai        -2.128643 -1.394605       1.535747",
            "text/html": "<div>\n<style scoped>\n    .dataframe tbody tr th:only-of-type {\n        vertical-align: middle;\n    }\n\n    .dataframe tbody tr th {\n        vertical-align: top;\n    }\n\n    .dataframe thead th {\n        text-align: right;\n    }\n</style>\n<table border=\"1\" class=\"dataframe\">\n  <thead>\n    <tr style=\"text-align: right;\">\n      <th></th>\n      <th>Maaş</th>\n      <th>Yaş</th>\n      <th>Çalışma saati</th>\n    </tr>\n    <tr>\n      <th>Yeni Index</th>\n      <th></th>\n      <th></th>\n      <th></th>\n    </tr>\n  </thead>\n  <tbody>\n    <tr>\n      <th>Ali</th>\n      <td>0.653241</td>\n      <td>0.810863</td>\n      <td>-0.613549</td>\n    </tr>\n    <tr>\n      <th>Ayş</th>\n      <td>-0.778469</td>\n      <td>-1.329561</td>\n      <td>0.214714</td>\n    </tr>\n    <tr>\n      <th>Hat</th>\n      <td>0.399075</td>\n      <td>-1.080803</td>\n      <td>-0.297799</td>\n    </tr>\n    <tr>\n      <th>Sai</th>\n      <td>-2.128643</td>\n      <td>-1.394605</td>\n      <td>1.535747</td>\n    </tr>\n  </tbody>\n</table>\n</div>"
          },
          "metadata": {}
        }
      ],
      "execution_count": 227
    },
    {
      "cell_type": "code",
      "source": "dataFrame1.loc[\"Ayş\"] # Ayş row'undaki bilgileri getirir",
      "metadata": {
        "trusted": true
      },
      "outputs": [
        {
          "execution_count": 228,
          "output_type": "execute_result",
          "data": {
            "text/plain": "Maaş            -0.778469\nYaş             -1.329561\nÇalışma saati    0.214714\nName: Ayş, dtype: float64"
          },
          "metadata": {}
        }
      ],
      "execution_count": 228
    },
    {
      "cell_type": "markdown",
      "source": "## Multi Index:",
      "metadata": {}
    },
    {
      "cell_type": "code",
      "source": "ilkIndexler = [\"Babamın gölgesi\",\"Babamın gölgesi\",\"Babamın gölgesi\",\"Erdem\",\"Erdem\",\"Erdem\",]",
      "metadata": {
        "trusted": true
      },
      "outputs": [],
      "execution_count": 229
    },
    {
      "cell_type": "code",
      "source": "icIndexler = [\"Zeyneb\",\"Osman\",\"Mehmet\", \"Zepi\", \"Arif\", \"Kurtçuk\"]",
      "metadata": {
        "trusted": true
      },
      "outputs": [],
      "execution_count": 230
    },
    {
      "cell_type": "code",
      "source": "birlesmisIndex =  list(zip(ilkIndexler, icIndexler))",
      "metadata": {
        "trusted": true
      },
      "outputs": [],
      "execution_count": 231
    },
    {
      "cell_type": "code",
      "source": "birlesmisIndex",
      "metadata": {
        "trusted": true
      },
      "outputs": [
        {
          "execution_count": 232,
          "output_type": "execute_result",
          "data": {
            "text/plain": "[('Babamın gölgesi', 'Zeyneb'),\n ('Babamın gölgesi', 'Osman'),\n ('Babamın gölgesi', 'Mehmet'),\n ('Erdem', 'Zepi'),\n ('Erdem', 'Arif'),\n ('Erdem', 'Kurtçuk')]"
          },
          "metadata": {}
        }
      ],
      "execution_count": 232
    },
    {
      "cell_type": "code",
      "source": "birlesmisIndex2 = pd.MultiIndex.from_tuples(birlesmisIndex)",
      "metadata": {
        "trusted": true
      },
      "outputs": [],
      "execution_count": 233
    },
    {
      "cell_type": "code",
      "source": "birlesmisIndex2",
      "metadata": {
        "trusted": true
      },
      "outputs": [
        {
          "execution_count": 234,
          "output_type": "execute_result",
          "data": {
            "text/plain": "MultiIndex([('Babamın gölgesi',  'Zeyneb'),\n            ('Babamın gölgesi',   'Osman'),\n            ('Babamın gölgesi',  'Mehmet'),\n            (          'Erdem',    'Zepi'),\n            (          'Erdem',    'Arif'),\n            (          'Erdem', 'Kurtçuk')],\n           )"
          },
          "metadata": {}
        }
      ],
      "execution_count": 234
    },
    {
      "cell_type": "code",
      "source": "cizgiFilmListesi = [[40, \"A\"],[10, \"B\"], [30, \"C\"], [9, \"D\"], [10, \"E\"], [11, \"F\"] ]",
      "metadata": {
        "trusted": true
      },
      "outputs": [],
      "execution_count": 235
    },
    {
      "cell_type": "code",
      "source": "cizgiFilmNumpyDizisi = np.array(cizgiFilmListesi)",
      "metadata": {
        "trusted": true
      },
      "outputs": [],
      "execution_count": 236
    },
    {
      "cell_type": "code",
      "source": "cizgiFilmDataFrame = pd.DataFrame(cizgiFilmNumpyDizisi, index=birlesmisIndex, columns= [\"Yaş\", \"Meslek\"])",
      "metadata": {
        "trusted": true
      },
      "outputs": [],
      "execution_count": 237
    },
    {
      "cell_type": "code",
      "source": "cizgiFilmDataFrame",
      "metadata": {
        "trusted": true
      },
      "outputs": [
        {
          "execution_count": 244,
          "output_type": "execute_result",
          "data": {
            "text/plain": "                          Yaş Meslek\n(Babamın gölgesi, Zeyneb)  40      A\n(Babamın gölgesi, Osman)   10      B\n(Babamın gölgesi, Mehmet)  30      C\n(Erdem, Zepi)               9      D\n(Erdem, Arif)              10      E\n(Erdem, Kurtçuk)           11      F",
            "text/html": "<div>\n<style scoped>\n    .dataframe tbody tr th:only-of-type {\n        vertical-align: middle;\n    }\n\n    .dataframe tbody tr th {\n        vertical-align: top;\n    }\n\n    .dataframe thead th {\n        text-align: right;\n    }\n</style>\n<table border=\"1\" class=\"dataframe\">\n  <thead>\n    <tr style=\"text-align: right;\">\n      <th></th>\n      <th>Yaş</th>\n      <th>Meslek</th>\n    </tr>\n  </thead>\n  <tbody>\n    <tr>\n      <th>(Babamın gölgesi, Zeyneb)</th>\n      <td>40</td>\n      <td>A</td>\n    </tr>\n    <tr>\n      <th>(Babamın gölgesi, Osman)</th>\n      <td>10</td>\n      <td>B</td>\n    </tr>\n    <tr>\n      <th>(Babamın gölgesi, Mehmet)</th>\n      <td>30</td>\n      <td>C</td>\n    </tr>\n    <tr>\n      <th>(Erdem, Zepi)</th>\n      <td>9</td>\n      <td>D</td>\n    </tr>\n    <tr>\n      <th>(Erdem, Arif)</th>\n      <td>10</td>\n      <td>E</td>\n    </tr>\n    <tr>\n      <th>(Erdem, Kurtçuk)</th>\n      <td>11</td>\n      <td>F</td>\n    </tr>\n  </tbody>\n</table>\n</div>"
          },
          "metadata": {}
        }
      ],
      "execution_count": 244
    },
    {
      "cell_type": "code",
      "source": "cizgiFilmDataFrame.loc[\"Babamın gölgesi\"]",
      "metadata": {
        "trusted": true
      },
      "outputs": [
        {
          "ename": "<class 'KeyError'>",
          "evalue": "'Babamın gölgesi'",
          "traceback": [
            "\u001b[0;31m---------------------------------------------------------------------------\u001b[0m",
            "\u001b[0;31mKeyError\u001b[0m                                  Traceback (most recent call last)",
            "File \u001b[0;32m/lib/python3.11/site-packages/pandas/core/indexes/base.py:3802\u001b[0m, in \u001b[0;36mIndex.get_loc\u001b[0;34m(self, key, method, tolerance)\u001b[0m\n\u001b[1;32m   3801\u001b[0m \u001b[38;5;28;01mtry\u001b[39;00m:\n\u001b[0;32m-> 3802\u001b[0m     \u001b[38;5;28;01mreturn\u001b[39;00m \u001b[38;5;28;43mself\u001b[39;49m\u001b[38;5;241;43m.\u001b[39;49m\u001b[43m_engine\u001b[49m\u001b[38;5;241;43m.\u001b[39;49m\u001b[43mget_loc\u001b[49m\u001b[43m(\u001b[49m\u001b[43mcasted_key\u001b[49m\u001b[43m)\u001b[49m\n\u001b[1;32m   3803\u001b[0m \u001b[38;5;28;01mexcept\u001b[39;00m \u001b[38;5;167;01mKeyError\u001b[39;00m \u001b[38;5;28;01mas\u001b[39;00m err:\n",
            "File \u001b[0;32m/lib/python3.11/site-packages/pandas/_libs/index.pyx:138\u001b[0m, in \u001b[0;36mpandas._libs.index.IndexEngine.get_loc\u001b[0;34m()\u001b[0m\n",
            "File \u001b[0;32m/lib/python3.11/site-packages/pandas/_libs/index.pyx:165\u001b[0m, in \u001b[0;36mpandas._libs.index.IndexEngine.get_loc\u001b[0;34m()\u001b[0m\n",
            "File \u001b[0;32mpandas/_libs/hashtable_class_helper.pxi:5745\u001b[0m, in \u001b[0;36mpandas._libs.hashtable.PyObjectHashTable.get_item\u001b[0;34m()\u001b[0m\n",
            "File \u001b[0;32mpandas/_libs/hashtable_class_helper.pxi:5753\u001b[0m, in \u001b[0;36mpandas._libs.hashtable.PyObjectHashTable.get_item\u001b[0;34m()\u001b[0m\n",
            "\u001b[0;31mKeyError\u001b[0m: 'Babamın gölgesi'",
            "\nThe above exception was the direct cause of the following exception:\n",
            "\u001b[0;31mKeyError\u001b[0m                                  Traceback (most recent call last)",
            "Cell \u001b[0;32mIn[243], line 1\u001b[0m\n\u001b[0;32m----> 1\u001b[0m \u001b[43mcizgiFilmDataFrame\u001b[49m\u001b[38;5;241;43m.\u001b[39;49m\u001b[43mloc\u001b[49m\u001b[43m[\u001b[49m\u001b[38;5;124;43m\"\u001b[39;49m\u001b[38;5;124;43mBabamın gölgesi\u001b[39;49m\u001b[38;5;124;43m\"\u001b[39;49m\u001b[43m]\u001b[49m\n",
            "File \u001b[0;32m/lib/python3.11/site-packages/pandas/core/indexing.py:1073\u001b[0m, in \u001b[0;36m_LocationIndexer.__getitem__\u001b[0;34m(self, key)\u001b[0m\n\u001b[1;32m   1070\u001b[0m axis \u001b[38;5;241m=\u001b[39m \u001b[38;5;28mself\u001b[39m\u001b[38;5;241m.\u001b[39maxis \u001b[38;5;129;01mor\u001b[39;00m \u001b[38;5;241m0\u001b[39m\n\u001b[1;32m   1072\u001b[0m maybe_callable \u001b[38;5;241m=\u001b[39m com\u001b[38;5;241m.\u001b[39mapply_if_callable(key, \u001b[38;5;28mself\u001b[39m\u001b[38;5;241m.\u001b[39mobj)\n\u001b[0;32m-> 1073\u001b[0m \u001b[38;5;28;01mreturn\u001b[39;00m \u001b[38;5;28;43mself\u001b[39;49m\u001b[38;5;241;43m.\u001b[39;49m\u001b[43m_getitem_axis\u001b[49m\u001b[43m(\u001b[49m\u001b[43mmaybe_callable\u001b[49m\u001b[43m,\u001b[49m\u001b[43m \u001b[49m\u001b[43maxis\u001b[49m\u001b[38;5;241;43m=\u001b[39;49m\u001b[43maxis\u001b[49m\u001b[43m)\u001b[49m\n",
            "File \u001b[0;32m/lib/python3.11/site-packages/pandas/core/indexing.py:1312\u001b[0m, in \u001b[0;36m_LocIndexer._getitem_axis\u001b[0;34m(self, key, axis)\u001b[0m\n\u001b[1;32m   1310\u001b[0m \u001b[38;5;66;03m# fall thru to straight lookup\u001b[39;00m\n\u001b[1;32m   1311\u001b[0m \u001b[38;5;28mself\u001b[39m\u001b[38;5;241m.\u001b[39m_validate_key(key, axis)\n\u001b[0;32m-> 1312\u001b[0m \u001b[38;5;28;01mreturn\u001b[39;00m \u001b[38;5;28;43mself\u001b[39;49m\u001b[38;5;241;43m.\u001b[39;49m\u001b[43m_get_label\u001b[49m\u001b[43m(\u001b[49m\u001b[43mkey\u001b[49m\u001b[43m,\u001b[49m\u001b[43m \u001b[49m\u001b[43maxis\u001b[49m\u001b[38;5;241;43m=\u001b[39;49m\u001b[43maxis\u001b[49m\u001b[43m)\u001b[49m\n",
            "File \u001b[0;32m/lib/python3.11/site-packages/pandas/core/indexing.py:1260\u001b[0m, in \u001b[0;36m_LocIndexer._get_label\u001b[0;34m(self, label, axis)\u001b[0m\n\u001b[1;32m   1258\u001b[0m \u001b[38;5;28;01mdef\u001b[39;00m \u001b[38;5;21m_get_label\u001b[39m(\u001b[38;5;28mself\u001b[39m, label, axis: \u001b[38;5;28mint\u001b[39m):\n\u001b[1;32m   1259\u001b[0m     \u001b[38;5;66;03m# GH#5567 this will fail if the label is not present in the axis.\u001b[39;00m\n\u001b[0;32m-> 1260\u001b[0m     \u001b[38;5;28;01mreturn\u001b[39;00m \u001b[38;5;28;43mself\u001b[39;49m\u001b[38;5;241;43m.\u001b[39;49m\u001b[43mobj\u001b[49m\u001b[38;5;241;43m.\u001b[39;49m\u001b[43mxs\u001b[49m\u001b[43m(\u001b[49m\u001b[43mlabel\u001b[49m\u001b[43m,\u001b[49m\u001b[43m \u001b[49m\u001b[43maxis\u001b[49m\u001b[38;5;241;43m=\u001b[39;49m\u001b[43maxis\u001b[49m\u001b[43m)\u001b[49m\n",
            "File \u001b[0;32m/lib/python3.11/site-packages/pandas/core/generic.py:4056\u001b[0m, in \u001b[0;36mNDFrame.xs\u001b[0;34m(self, key, axis, level, drop_level)\u001b[0m\n\u001b[1;32m   4054\u001b[0m             new_index \u001b[38;5;241m=\u001b[39m index[loc]\n\u001b[1;32m   4055\u001b[0m \u001b[38;5;28;01melse\u001b[39;00m:\n\u001b[0;32m-> 4056\u001b[0m     loc \u001b[38;5;241m=\u001b[39m \u001b[43mindex\u001b[49m\u001b[38;5;241;43m.\u001b[39;49m\u001b[43mget_loc\u001b[49m\u001b[43m(\u001b[49m\u001b[43mkey\u001b[49m\u001b[43m)\u001b[49m\n\u001b[1;32m   4058\u001b[0m     \u001b[38;5;28;01mif\u001b[39;00m \u001b[38;5;28misinstance\u001b[39m(loc, np\u001b[38;5;241m.\u001b[39mndarray):\n\u001b[1;32m   4059\u001b[0m         \u001b[38;5;28;01mif\u001b[39;00m loc\u001b[38;5;241m.\u001b[39mdtype \u001b[38;5;241m==\u001b[39m np\u001b[38;5;241m.\u001b[39mbool_:\n",
            "File \u001b[0;32m/lib/python3.11/site-packages/pandas/core/indexes/base.py:3804\u001b[0m, in \u001b[0;36mIndex.get_loc\u001b[0;34m(self, key, method, tolerance)\u001b[0m\n\u001b[1;32m   3802\u001b[0m     \u001b[38;5;28;01mreturn\u001b[39;00m \u001b[38;5;28mself\u001b[39m\u001b[38;5;241m.\u001b[39m_engine\u001b[38;5;241m.\u001b[39mget_loc(casted_key)\n\u001b[1;32m   3803\u001b[0m \u001b[38;5;28;01mexcept\u001b[39;00m \u001b[38;5;167;01mKeyError\u001b[39;00m \u001b[38;5;28;01mas\u001b[39;00m err:\n\u001b[0;32m-> 3804\u001b[0m     \u001b[38;5;28;01mraise\u001b[39;00m \u001b[38;5;167;01mKeyError\u001b[39;00m(key) \u001b[38;5;28;01mfrom\u001b[39;00m \u001b[38;5;21;01merr\u001b[39;00m\n\u001b[1;32m   3805\u001b[0m \u001b[38;5;28;01mexcept\u001b[39;00m \u001b[38;5;167;01mTypeError\u001b[39;00m:\n\u001b[1;32m   3806\u001b[0m     \u001b[38;5;66;03m# If we have a listlike key, _check_indexing_error will raise\u001b[39;00m\n\u001b[1;32m   3807\u001b[0m     \u001b[38;5;66;03m#  InvalidIndexError. Otherwise we fall through and re-raise\u001b[39;00m\n\u001b[1;32m   3808\u001b[0m     \u001b[38;5;66;03m#  the TypeError.\u001b[39;00m\n\u001b[1;32m   3809\u001b[0m     \u001b[38;5;28mself\u001b[39m\u001b[38;5;241m.\u001b[39m_check_indexing_error(key)\n",
            "\u001b[0;31mKeyError\u001b[0m: 'Babamın gölgesi'"
          ],
          "output_type": "error"
        }
      ],
      "execution_count": 243
    },
    {
      "cell_type": "code",
      "source": "cizgiFilmDataFrame.loc[\"Babamın gölgesi\"].loc[\"Osman\"]",
      "metadata": {
        "trusted": true
      },
      "outputs": [
        {
          "ename": "<class 'KeyError'>",
          "evalue": "'Babamın gölgesi'",
          "traceback": [
            "\u001b[0;31m---------------------------------------------------------------------------\u001b[0m",
            "\u001b[0;31mKeyError\u001b[0m                                  Traceback (most recent call last)",
            "File \u001b[0;32m/lib/python3.11/site-packages/pandas/core/indexes/base.py:3802\u001b[0m, in \u001b[0;36mIndex.get_loc\u001b[0;34m(self, key, method, tolerance)\u001b[0m\n\u001b[1;32m   3801\u001b[0m \u001b[38;5;28;01mtry\u001b[39;00m:\n\u001b[0;32m-> 3802\u001b[0m     \u001b[38;5;28;01mreturn\u001b[39;00m \u001b[38;5;28;43mself\u001b[39;49m\u001b[38;5;241;43m.\u001b[39;49m\u001b[43m_engine\u001b[49m\u001b[38;5;241;43m.\u001b[39;49m\u001b[43mget_loc\u001b[49m\u001b[43m(\u001b[49m\u001b[43mcasted_key\u001b[49m\u001b[43m)\u001b[49m\n\u001b[1;32m   3803\u001b[0m \u001b[38;5;28;01mexcept\u001b[39;00m \u001b[38;5;167;01mKeyError\u001b[39;00m \u001b[38;5;28;01mas\u001b[39;00m err:\n",
            "File \u001b[0;32m/lib/python3.11/site-packages/pandas/_libs/index.pyx:138\u001b[0m, in \u001b[0;36mpandas._libs.index.IndexEngine.get_loc\u001b[0;34m()\u001b[0m\n",
            "File \u001b[0;32m/lib/python3.11/site-packages/pandas/_libs/index.pyx:165\u001b[0m, in \u001b[0;36mpandas._libs.index.IndexEngine.get_loc\u001b[0;34m()\u001b[0m\n",
            "File \u001b[0;32mpandas/_libs/hashtable_class_helper.pxi:5745\u001b[0m, in \u001b[0;36mpandas._libs.hashtable.PyObjectHashTable.get_item\u001b[0;34m()\u001b[0m\n",
            "File \u001b[0;32mpandas/_libs/hashtable_class_helper.pxi:5753\u001b[0m, in \u001b[0;36mpandas._libs.hashtable.PyObjectHashTable.get_item\u001b[0;34m()\u001b[0m\n",
            "\u001b[0;31mKeyError\u001b[0m: 'Babamın gölgesi'",
            "\nThe above exception was the direct cause of the following exception:\n",
            "\u001b[0;31mKeyError\u001b[0m                                  Traceback (most recent call last)",
            "Cell \u001b[0;32mIn[245], line 1\u001b[0m\n\u001b[0;32m----> 1\u001b[0m \u001b[43mcizgiFilmDataFrame\u001b[49m\u001b[38;5;241;43m.\u001b[39;49m\u001b[43mloc\u001b[49m\u001b[43m[\u001b[49m\u001b[38;5;124;43m\"\u001b[39;49m\u001b[38;5;124;43mBabamın gölgesi\u001b[39;49m\u001b[38;5;124;43m\"\u001b[39;49m\u001b[43m]\u001b[49m\u001b[38;5;241m.\u001b[39mloc[\u001b[38;5;124m\"\u001b[39m\u001b[38;5;124mOsman\u001b[39m\u001b[38;5;124m\"\u001b[39m]\n",
            "File \u001b[0;32m/lib/python3.11/site-packages/pandas/core/indexing.py:1073\u001b[0m, in \u001b[0;36m_LocationIndexer.__getitem__\u001b[0;34m(self, key)\u001b[0m\n\u001b[1;32m   1070\u001b[0m axis \u001b[38;5;241m=\u001b[39m \u001b[38;5;28mself\u001b[39m\u001b[38;5;241m.\u001b[39maxis \u001b[38;5;129;01mor\u001b[39;00m \u001b[38;5;241m0\u001b[39m\n\u001b[1;32m   1072\u001b[0m maybe_callable \u001b[38;5;241m=\u001b[39m com\u001b[38;5;241m.\u001b[39mapply_if_callable(key, \u001b[38;5;28mself\u001b[39m\u001b[38;5;241m.\u001b[39mobj)\n\u001b[0;32m-> 1073\u001b[0m \u001b[38;5;28;01mreturn\u001b[39;00m \u001b[38;5;28;43mself\u001b[39;49m\u001b[38;5;241;43m.\u001b[39;49m\u001b[43m_getitem_axis\u001b[49m\u001b[43m(\u001b[49m\u001b[43mmaybe_callable\u001b[49m\u001b[43m,\u001b[49m\u001b[43m \u001b[49m\u001b[43maxis\u001b[49m\u001b[38;5;241;43m=\u001b[39;49m\u001b[43maxis\u001b[49m\u001b[43m)\u001b[49m\n",
            "File \u001b[0;32m/lib/python3.11/site-packages/pandas/core/indexing.py:1312\u001b[0m, in \u001b[0;36m_LocIndexer._getitem_axis\u001b[0;34m(self, key, axis)\u001b[0m\n\u001b[1;32m   1310\u001b[0m \u001b[38;5;66;03m# fall thru to straight lookup\u001b[39;00m\n\u001b[1;32m   1311\u001b[0m \u001b[38;5;28mself\u001b[39m\u001b[38;5;241m.\u001b[39m_validate_key(key, axis)\n\u001b[0;32m-> 1312\u001b[0m \u001b[38;5;28;01mreturn\u001b[39;00m \u001b[38;5;28;43mself\u001b[39;49m\u001b[38;5;241;43m.\u001b[39;49m\u001b[43m_get_label\u001b[49m\u001b[43m(\u001b[49m\u001b[43mkey\u001b[49m\u001b[43m,\u001b[49m\u001b[43m \u001b[49m\u001b[43maxis\u001b[49m\u001b[38;5;241;43m=\u001b[39;49m\u001b[43maxis\u001b[49m\u001b[43m)\u001b[49m\n",
            "File \u001b[0;32m/lib/python3.11/site-packages/pandas/core/indexing.py:1260\u001b[0m, in \u001b[0;36m_LocIndexer._get_label\u001b[0;34m(self, label, axis)\u001b[0m\n\u001b[1;32m   1258\u001b[0m \u001b[38;5;28;01mdef\u001b[39;00m \u001b[38;5;21m_get_label\u001b[39m(\u001b[38;5;28mself\u001b[39m, label, axis: \u001b[38;5;28mint\u001b[39m):\n\u001b[1;32m   1259\u001b[0m     \u001b[38;5;66;03m# GH#5567 this will fail if the label is not present in the axis.\u001b[39;00m\n\u001b[0;32m-> 1260\u001b[0m     \u001b[38;5;28;01mreturn\u001b[39;00m \u001b[38;5;28;43mself\u001b[39;49m\u001b[38;5;241;43m.\u001b[39;49m\u001b[43mobj\u001b[49m\u001b[38;5;241;43m.\u001b[39;49m\u001b[43mxs\u001b[49m\u001b[43m(\u001b[49m\u001b[43mlabel\u001b[49m\u001b[43m,\u001b[49m\u001b[43m \u001b[49m\u001b[43maxis\u001b[49m\u001b[38;5;241;43m=\u001b[39;49m\u001b[43maxis\u001b[49m\u001b[43m)\u001b[49m\n",
            "File \u001b[0;32m/lib/python3.11/site-packages/pandas/core/generic.py:4056\u001b[0m, in \u001b[0;36mNDFrame.xs\u001b[0;34m(self, key, axis, level, drop_level)\u001b[0m\n\u001b[1;32m   4054\u001b[0m             new_index \u001b[38;5;241m=\u001b[39m index[loc]\n\u001b[1;32m   4055\u001b[0m \u001b[38;5;28;01melse\u001b[39;00m:\n\u001b[0;32m-> 4056\u001b[0m     loc \u001b[38;5;241m=\u001b[39m \u001b[43mindex\u001b[49m\u001b[38;5;241;43m.\u001b[39;49m\u001b[43mget_loc\u001b[49m\u001b[43m(\u001b[49m\u001b[43mkey\u001b[49m\u001b[43m)\u001b[49m\n\u001b[1;32m   4058\u001b[0m     \u001b[38;5;28;01mif\u001b[39;00m \u001b[38;5;28misinstance\u001b[39m(loc, np\u001b[38;5;241m.\u001b[39mndarray):\n\u001b[1;32m   4059\u001b[0m         \u001b[38;5;28;01mif\u001b[39;00m loc\u001b[38;5;241m.\u001b[39mdtype \u001b[38;5;241m==\u001b[39m np\u001b[38;5;241m.\u001b[39mbool_:\n",
            "File \u001b[0;32m/lib/python3.11/site-packages/pandas/core/indexes/base.py:3804\u001b[0m, in \u001b[0;36mIndex.get_loc\u001b[0;34m(self, key, method, tolerance)\u001b[0m\n\u001b[1;32m   3802\u001b[0m     \u001b[38;5;28;01mreturn\u001b[39;00m \u001b[38;5;28mself\u001b[39m\u001b[38;5;241m.\u001b[39m_engine\u001b[38;5;241m.\u001b[39mget_loc(casted_key)\n\u001b[1;32m   3803\u001b[0m \u001b[38;5;28;01mexcept\u001b[39;00m \u001b[38;5;167;01mKeyError\u001b[39;00m \u001b[38;5;28;01mas\u001b[39;00m err:\n\u001b[0;32m-> 3804\u001b[0m     \u001b[38;5;28;01mraise\u001b[39;00m \u001b[38;5;167;01mKeyError\u001b[39;00m(key) \u001b[38;5;28;01mfrom\u001b[39;00m \u001b[38;5;21;01merr\u001b[39;00m\n\u001b[1;32m   3805\u001b[0m \u001b[38;5;28;01mexcept\u001b[39;00m \u001b[38;5;167;01mTypeError\u001b[39;00m:\n\u001b[1;32m   3806\u001b[0m     \u001b[38;5;66;03m# If we have a listlike key, _check_indexing_error will raise\u001b[39;00m\n\u001b[1;32m   3807\u001b[0m     \u001b[38;5;66;03m#  InvalidIndexError. Otherwise we fall through and re-raise\u001b[39;00m\n\u001b[1;32m   3808\u001b[0m     \u001b[38;5;66;03m#  the TypeError.\u001b[39;00m\n\u001b[1;32m   3809\u001b[0m     \u001b[38;5;28mself\u001b[39m\u001b[38;5;241m.\u001b[39m_check_indexing_error(key)\n",
            "\u001b[0;31mKeyError\u001b[0m: 'Babamın gölgesi'"
          ],
          "output_type": "error"
        }
      ],
      "execution_count": 245
    },
    {
      "cell_type": "code",
      "source": "cizgiFilmDataFrame",
      "metadata": {
        "trusted": true
      },
      "outputs": [
        {
          "execution_count": 246,
          "output_type": "execute_result",
          "data": {
            "text/plain": "                          Yaş Meslek\n(Babamın gölgesi, Zeyneb)  40      A\n(Babamın gölgesi, Osman)   10      B\n(Babamın gölgesi, Mehmet)  30      C\n(Erdem, Zepi)               9      D\n(Erdem, Arif)              10      E\n(Erdem, Kurtçuk)           11      F",
            "text/html": "<div>\n<style scoped>\n    .dataframe tbody tr th:only-of-type {\n        vertical-align: middle;\n    }\n\n    .dataframe tbody tr th {\n        vertical-align: top;\n    }\n\n    .dataframe thead th {\n        text-align: right;\n    }\n</style>\n<table border=\"1\" class=\"dataframe\">\n  <thead>\n    <tr style=\"text-align: right;\">\n      <th></th>\n      <th>Yaş</th>\n      <th>Meslek</th>\n    </tr>\n  </thead>\n  <tbody>\n    <tr>\n      <th>(Babamın gölgesi, Zeyneb)</th>\n      <td>40</td>\n      <td>A</td>\n    </tr>\n    <tr>\n      <th>(Babamın gölgesi, Osman)</th>\n      <td>10</td>\n      <td>B</td>\n    </tr>\n    <tr>\n      <th>(Babamın gölgesi, Mehmet)</th>\n      <td>30</td>\n      <td>C</td>\n    </tr>\n    <tr>\n      <th>(Erdem, Zepi)</th>\n      <td>9</td>\n      <td>D</td>\n    </tr>\n    <tr>\n      <th>(Erdem, Arif)</th>\n      <td>10</td>\n      <td>E</td>\n    </tr>\n    <tr>\n      <th>(Erdem, Kurtçuk)</th>\n      <td>11</td>\n      <td>F</td>\n    </tr>\n  </tbody>\n</table>\n</div>"
          },
          "metadata": {}
        }
      ],
      "execution_count": 246
    },
    {
      "cell_type": "code",
      "source": "cizgiFilmDataFrame.index.names = [\"Film adı\", \"İsim\"]",
      "metadata": {
        "trusted": true
      },
      "outputs": [
        {
          "ename": "<class 'ValueError'>",
          "evalue": "Length of new names must be 1, got 2",
          "traceback": [
            "\u001b[0;31m---------------------------------------------------------------------------\u001b[0m",
            "\u001b[0;31mValueError\u001b[0m                                Traceback (most recent call last)",
            "Cell \u001b[0;32mIn[247], line 1\u001b[0m\n\u001b[0;32m----> 1\u001b[0m \u001b[43mcizgiFilmDataFrame\u001b[49m\u001b[38;5;241;43m.\u001b[39;49m\u001b[43mindex\u001b[49m\u001b[38;5;241;43m.\u001b[39;49m\u001b[43mnames\u001b[49m \u001b[38;5;241m=\u001b[39m [\u001b[38;5;124m\"\u001b[39m\u001b[38;5;124mFilm adı\u001b[39m\u001b[38;5;124m\"\u001b[39m, \u001b[38;5;124m\"\u001b[39m\u001b[38;5;124mİsim\u001b[39m\u001b[38;5;124m\"\u001b[39m]\n",
            "File \u001b[0;32m/lib/python3.11/site-packages/pandas/core/indexes/base.py:1842\u001b[0m, in \u001b[0;36mIndex._set_names\u001b[0;34m(self, values, level)\u001b[0m\n\u001b[1;32m   1840\u001b[0m     \u001b[38;5;28;01mraise\u001b[39;00m \u001b[38;5;167;01mValueError\u001b[39;00m(\u001b[38;5;124m\"\u001b[39m\u001b[38;5;124mNames must be a list-like\u001b[39m\u001b[38;5;124m\"\u001b[39m)\n\u001b[1;32m   1841\u001b[0m \u001b[38;5;28;01mif\u001b[39;00m \u001b[38;5;28mlen\u001b[39m(values) \u001b[38;5;241m!=\u001b[39m \u001b[38;5;241m1\u001b[39m:\n\u001b[0;32m-> 1842\u001b[0m     \u001b[38;5;28;01mraise\u001b[39;00m \u001b[38;5;167;01mValueError\u001b[39;00m(\u001b[38;5;124mf\u001b[39m\u001b[38;5;124m\"\u001b[39m\u001b[38;5;124mLength of new names must be 1, got \u001b[39m\u001b[38;5;132;01m{\u001b[39;00m\u001b[38;5;28mlen\u001b[39m(values)\u001b[38;5;132;01m}\u001b[39;00m\u001b[38;5;124m\"\u001b[39m)\n\u001b[1;32m   1844\u001b[0m \u001b[38;5;66;03m# GH 20527\u001b[39;00m\n\u001b[1;32m   1845\u001b[0m \u001b[38;5;66;03m# All items in 'name' need to be hashable:\u001b[39;00m\n\u001b[1;32m   1846\u001b[0m validate_all_hashable(\u001b[38;5;241m*\u001b[39mvalues, error_name\u001b[38;5;241m=\u001b[39m\u001b[38;5;124mf\u001b[39m\u001b[38;5;124m\"\u001b[39m\u001b[38;5;132;01m{\u001b[39;00m\u001b[38;5;28mtype\u001b[39m(\u001b[38;5;28mself\u001b[39m)\u001b[38;5;241m.\u001b[39m\u001b[38;5;18m__name__\u001b[39m\u001b[38;5;132;01m}\u001b[39;00m\u001b[38;5;124m.name\u001b[39m\u001b[38;5;124m\"\u001b[39m)\n",
            "\u001b[0;31mValueError\u001b[0m: Length of new names must be 1, got 2"
          ],
          "output_type": "error"
        }
      ],
      "execution_count": 247
    },
    {
      "cell_type": "code",
      "source": "cizgiFilmDataFrame",
      "metadata": {
        "trusted": true
      },
      "outputs": [
        {
          "execution_count": 248,
          "output_type": "execute_result",
          "data": {
            "text/plain": "                          Yaş Meslek\n(Babamın gölgesi, Zeyneb)  40      A\n(Babamın gölgesi, Osman)   10      B\n(Babamın gölgesi, Mehmet)  30      C\n(Erdem, Zepi)               9      D\n(Erdem, Arif)              10      E\n(Erdem, Kurtçuk)           11      F",
            "text/html": "<div>\n<style scoped>\n    .dataframe tbody tr th:only-of-type {\n        vertical-align: middle;\n    }\n\n    .dataframe tbody tr th {\n        vertical-align: top;\n    }\n\n    .dataframe thead th {\n        text-align: right;\n    }\n</style>\n<table border=\"1\" class=\"dataframe\">\n  <thead>\n    <tr style=\"text-align: right;\">\n      <th></th>\n      <th>Yaş</th>\n      <th>Meslek</th>\n    </tr>\n  </thead>\n  <tbody>\n    <tr>\n      <th>(Babamın gölgesi, Zeyneb)</th>\n      <td>40</td>\n      <td>A</td>\n    </tr>\n    <tr>\n      <th>(Babamın gölgesi, Osman)</th>\n      <td>10</td>\n      <td>B</td>\n    </tr>\n    <tr>\n      <th>(Babamın gölgesi, Mehmet)</th>\n      <td>30</td>\n      <td>C</td>\n    </tr>\n    <tr>\n      <th>(Erdem, Zepi)</th>\n      <td>9</td>\n      <td>D</td>\n    </tr>\n    <tr>\n      <th>(Erdem, Arif)</th>\n      <td>10</td>\n      <td>E</td>\n    </tr>\n    <tr>\n      <th>(Erdem, Kurtçuk)</th>\n      <td>11</td>\n      <td>F</td>\n    </tr>\n  </tbody>\n</table>\n</div>"
          },
          "metadata": {}
        }
      ],
      "execution_count": 248
    },
    {
      "cell_type": "code",
      "source": "",
      "metadata": {
        "trusted": true
      },
      "outputs": [],
      "execution_count": null
    }
  ]
}