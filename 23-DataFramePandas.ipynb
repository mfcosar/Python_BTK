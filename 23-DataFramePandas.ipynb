{
  "metadata": {
    "kernelspec": {
      "name": "python",
      "display_name": "Python (Pyodide)",
      "language": "python"
    },
    "language_info": {
      "codemirror_mode": {
        "name": "python",
        "version": 3
      },
      "file_extension": ".py",
      "mimetype": "text/x-python",
      "name": "python",
      "nbconvert_exporter": "python",
      "pygments_lexer": "ipython3",
      "version": "3.8"
    }
  },
  "nbformat_minor": 4,
  "nbformat": 4,
  "cells": [
    {
      "cell_type": "markdown",
      "source": "## 23-DataFramePandas",
      "metadata": {}
    },
    {
      "cell_type": "code",
      "source": "import numpy as np\nimport pandas as pd",
      "metadata": {
        "trusted": true
      },
      "outputs": [],
      "execution_count": 9
    },
    {
      "cell_type": "code",
      "source": "## DataFrame: serilerin yanyana gelmesiyle oluşturulmuş bir Excel tablosu gibi düşünülebilir",
      "metadata": {
        "trusted": true
      },
      "outputs": [],
      "execution_count": 2
    },
    {
      "cell_type": "code",
      "source": "data = np.random.randn(4,3)  ## normal distribution ile 4e 3 bir matrix verir",
      "metadata": {
        "trusted": true
      },
      "outputs": [],
      "execution_count": 3
    },
    {
      "cell_type": "code",
      "source": "data",
      "metadata": {
        "trusted": true
      },
      "outputs": [
        {
          "execution_count": 4,
          "output_type": "execute_result",
          "data": {
            "text/plain": "array([[-1.02318114, -0.53284713,  0.12680036],\n       [ 1.73340431, -0.59930449, -0.60234711],\n       [ 1.12611939,  0.56557007,  0.19857405],\n       [-2.73291958,  0.1230956 , -2.41752206]])"
          },
          "metadata": {}
        }
      ],
      "execution_count": 4
    },
    {
      "cell_type": "code",
      "source": "dataFrame = pd.DataFrame(data)",
      "metadata": {
        "trusted": true
      },
      "outputs": [],
      "execution_count": 5
    },
    {
      "cell_type": "code",
      "source": "dataFrame",
      "metadata": {
        "trusted": true
      },
      "outputs": [
        {
          "execution_count": 6,
          "output_type": "execute_result",
          "data": {
            "text/plain": "          0         1         2\n0 -1.023181 -0.532847  0.126800\n1  1.733404 -0.599304 -0.602347\n2  1.126119  0.565570  0.198574\n3 -2.732920  0.123096 -2.417522",
            "text/html": "<div>\n<style scoped>\n    .dataframe tbody tr th:only-of-type {\n        vertical-align: middle;\n    }\n\n    .dataframe tbody tr th {\n        vertical-align: top;\n    }\n\n    .dataframe thead th {\n        text-align: right;\n    }\n</style>\n<table border=\"1\" class=\"dataframe\">\n  <thead>\n    <tr style=\"text-align: right;\">\n      <th></th>\n      <th>0</th>\n      <th>1</th>\n      <th>2</th>\n    </tr>\n  </thead>\n  <tbody>\n    <tr>\n      <th>0</th>\n      <td>-1.023181</td>\n      <td>-0.532847</td>\n      <td>0.126800</td>\n    </tr>\n    <tr>\n      <th>1</th>\n      <td>1.733404</td>\n      <td>-0.599304</td>\n      <td>-0.602347</td>\n    </tr>\n    <tr>\n      <th>2</th>\n      <td>1.126119</td>\n      <td>0.565570</td>\n      <td>0.198574</td>\n    </tr>\n    <tr>\n      <th>3</th>\n      <td>-2.732920</td>\n      <td>0.123096</td>\n      <td>-2.417522</td>\n    </tr>\n  </tbody>\n</table>\n</div>"
          },
          "metadata": {}
        }
      ],
      "execution_count": 6
    },
    {
      "cell_type": "code",
      "source": "dataFrame[0]   # ilk column'ı getirir.. matrixteki gibi row'u getirmez..",
      "metadata": {
        "trusted": true
      },
      "outputs": [
        {
          "execution_count": 7,
          "output_type": "execute_result",
          "data": {
            "text/plain": "0   -1.023181\n1    1.733404\n2    1.126119\n3   -2.732920\nName: 0, dtype: float64"
          },
          "metadata": {}
        }
      ],
      "execution_count": 7
    },
    {
      "cell_type": "code",
      "source": "type(dataFrame)   ## Bir series'dir",
      "metadata": {
        "trusted": true
      },
      "outputs": [
        {
          "execution_count": 8,
          "output_type": "execute_result",
          "data": {
            "text/plain": "pandas.core.frame.DataFrame"
          },
          "metadata": {}
        }
      ],
      "execution_count": 8
    },
    {
      "cell_type": "code",
      "source": "# DataFrame'lere index nasıl atanır?",
      "metadata": {
        "trusted": true
      },
      "outputs": [],
      "execution_count": 9
    },
    {
      "cell_type": "code",
      "source": "dataFrame1 = pd.DataFrame(data, index=[\"Ali\", \"Ayşe\", \"Hatice\", \"Said\"], columns=[\"Maaş\", \"Yaş\", \"Çalışma saati\"])",
      "metadata": {
        "trusted": true
      },
      "outputs": [],
      "execution_count": 10
    },
    {
      "cell_type": "code",
      "source": "dataFrame1",
      "metadata": {
        "trusted": true
      },
      "outputs": [
        {
          "execution_count": 11,
          "output_type": "execute_result",
          "data": {
            "text/plain": "            Maaş       Yaş  Çalışma saati\nAli    -1.023181 -0.532847       0.126800\nAyşe    1.733404 -0.599304      -0.602347\nHatice  1.126119  0.565570       0.198574\nSaid   -2.732920  0.123096      -2.417522",
            "text/html": "<div>\n<style scoped>\n    .dataframe tbody tr th:only-of-type {\n        vertical-align: middle;\n    }\n\n    .dataframe tbody tr th {\n        vertical-align: top;\n    }\n\n    .dataframe thead th {\n        text-align: right;\n    }\n</style>\n<table border=\"1\" class=\"dataframe\">\n  <thead>\n    <tr style=\"text-align: right;\">\n      <th></th>\n      <th>Maaş</th>\n      <th>Yaş</th>\n      <th>Çalışma saati</th>\n    </tr>\n  </thead>\n  <tbody>\n    <tr>\n      <th>Ali</th>\n      <td>-1.023181</td>\n      <td>-0.532847</td>\n      <td>0.126800</td>\n    </tr>\n    <tr>\n      <th>Ayşe</th>\n      <td>1.733404</td>\n      <td>-0.599304</td>\n      <td>-0.602347</td>\n    </tr>\n    <tr>\n      <th>Hatice</th>\n      <td>1.126119</td>\n      <td>0.565570</td>\n      <td>0.198574</td>\n    </tr>\n    <tr>\n      <th>Said</th>\n      <td>-2.732920</td>\n      <td>0.123096</td>\n      <td>-2.417522</td>\n    </tr>\n  </tbody>\n</table>\n</div>"
          },
          "metadata": {}
        }
      ],
      "execution_count": 11
    },
    {
      "cell_type": "code",
      "source": "dataFrame1[\"Yaş\"]",
      "metadata": {
        "trusted": true
      },
      "outputs": [
        {
          "execution_count": 12,
          "output_type": "execute_result",
          "data": {
            "text/plain": "Ali      -0.532847\nAyşe     -0.599304\nHatice    0.565570\nSaid      0.123096\nName: Yaş, dtype: float64"
          },
          "metadata": {}
        }
      ],
      "execution_count": 12
    },
    {
      "cell_type": "code",
      "source": "## dataFrame1[\"Said\"]   ==> # Hata veriyor, row alınmıyor",
      "metadata": {
        "trusted": true
      },
      "outputs": [],
      "execution_count": 13
    },
    {
      "cell_type": "code",
      "source": "dataFrame1[[\"Maaş\" , \"Yaş\"]]",
      "metadata": {
        "trusted": true
      },
      "outputs": [
        {
          "execution_count": 14,
          "output_type": "execute_result",
          "data": {
            "text/plain": "            Maaş       Yaş\nAli    -1.023181 -0.532847\nAyşe    1.733404 -0.599304\nHatice  1.126119  0.565570\nSaid   -2.732920  0.123096",
            "text/html": "<div>\n<style scoped>\n    .dataframe tbody tr th:only-of-type {\n        vertical-align: middle;\n    }\n\n    .dataframe tbody tr th {\n        vertical-align: top;\n    }\n\n    .dataframe thead th {\n        text-align: right;\n    }\n</style>\n<table border=\"1\" class=\"dataframe\">\n  <thead>\n    <tr style=\"text-align: right;\">\n      <th></th>\n      <th>Maaş</th>\n      <th>Yaş</th>\n    </tr>\n  </thead>\n  <tbody>\n    <tr>\n      <th>Ali</th>\n      <td>-1.023181</td>\n      <td>-0.532847</td>\n    </tr>\n    <tr>\n      <th>Ayşe</th>\n      <td>1.733404</td>\n      <td>-0.599304</td>\n    </tr>\n    <tr>\n      <th>Hatice</th>\n      <td>1.126119</td>\n      <td>0.565570</td>\n    </tr>\n    <tr>\n      <th>Said</th>\n      <td>-2.732920</td>\n      <td>0.123096</td>\n    </tr>\n  </tbody>\n</table>\n</div>"
          },
          "metadata": {}
        }
      ],
      "execution_count": 14
    },
    {
      "cell_type": "code",
      "source": "dataFrame1.loc[\"Said\"]   #loc, location yazınca hata vermeden ilgili row'u getirir",
      "metadata": {
        "trusted": true
      },
      "outputs": [
        {
          "execution_count": 15,
          "output_type": "execute_result",
          "data": {
            "text/plain": "Maaş            -2.732920\nYaş              0.123096\nÇalışma saati   -2.417522\nName: Said, dtype: float64"
          },
          "metadata": {}
        }
      ],
      "execution_count": 15
    },
    {
      "cell_type": "code",
      "source": "dataFrame1.loc[\"Ali\"]",
      "metadata": {
        "trusted": true
      },
      "outputs": [
        {
          "execution_count": 16,
          "output_type": "execute_result",
          "data": {
            "text/plain": "Maaş            -1.023181\nYaş             -0.532847\nÇalışma saati    0.126800\nName: Ali, dtype: float64"
          },
          "metadata": {}
        }
      ],
      "execution_count": 16
    },
    {
      "cell_type": "code",
      "source": "dataFrame1.iloc[1] # iloc ==> index location.. row getirir",
      "metadata": {
        "trusted": true
      },
      "outputs": [
        {
          "execution_count": 17,
          "output_type": "execute_result",
          "data": {
            "text/plain": "Maaş             1.733404\nYaş             -0.599304\nÇalışma saati   -0.602347\nName: Ayşe, dtype: float64"
          },
          "metadata": {}
        }
      ],
      "execution_count": 17
    },
    {
      "cell_type": "code",
      "source": "dataFrame1[\"Emeklilik yaşı\"] = dataFrame1[\"Yaş\"] + dataFrame1[\"Yaş\"]",
      "metadata": {
        "trusted": true
      },
      "outputs": [],
      "execution_count": 18
    },
    {
      "cell_type": "code",
      "source": "dataFrame1",
      "metadata": {
        "trusted": true
      },
      "outputs": [
        {
          "execution_count": 19,
          "output_type": "execute_result",
          "data": {
            "text/plain": "            Maaş       Yaş  Çalışma saati  Emeklilik yaşı\nAli    -1.023181 -0.532847       0.126800       -1.065694\nAyşe    1.733404 -0.599304      -0.602347       -1.198609\nHatice  1.126119  0.565570       0.198574        1.131140\nSaid   -2.732920  0.123096      -2.417522        0.246191",
            "text/html": "<div>\n<style scoped>\n    .dataframe tbody tr th:only-of-type {\n        vertical-align: middle;\n    }\n\n    .dataframe tbody tr th {\n        vertical-align: top;\n    }\n\n    .dataframe thead th {\n        text-align: right;\n    }\n</style>\n<table border=\"1\" class=\"dataframe\">\n  <thead>\n    <tr style=\"text-align: right;\">\n      <th></th>\n      <th>Maaş</th>\n      <th>Yaş</th>\n      <th>Çalışma saati</th>\n      <th>Emeklilik yaşı</th>\n    </tr>\n  </thead>\n  <tbody>\n    <tr>\n      <th>Ali</th>\n      <td>-1.023181</td>\n      <td>-0.532847</td>\n      <td>0.126800</td>\n      <td>-1.065694</td>\n    </tr>\n    <tr>\n      <th>Ayşe</th>\n      <td>1.733404</td>\n      <td>-0.599304</td>\n      <td>-0.602347</td>\n      <td>-1.198609</td>\n    </tr>\n    <tr>\n      <th>Hatice</th>\n      <td>1.126119</td>\n      <td>0.565570</td>\n      <td>0.198574</td>\n      <td>1.131140</td>\n    </tr>\n    <tr>\n      <th>Said</th>\n      <td>-2.732920</td>\n      <td>0.123096</td>\n      <td>-2.417522</td>\n      <td>0.246191</td>\n    </tr>\n  </tbody>\n</table>\n</div>"
          },
          "metadata": {}
        }
      ],
      "execution_count": 19
    },
    {
      "cell_type": "code",
      "source": "# column silme nasıl yapılır? drop(column_name,axis=1) diyerek silerek\n\ndataFrame1.drop(\"Emeklilik yaşı\", axis=1)",
      "metadata": {
        "trusted": true
      },
      "outputs": [
        {
          "execution_count": 20,
          "output_type": "execute_result",
          "data": {
            "text/plain": "            Maaş       Yaş  Çalışma saati\nAli    -1.023181 -0.532847       0.126800\nAyşe    1.733404 -0.599304      -0.602347\nHatice  1.126119  0.565570       0.198574\nSaid   -2.732920  0.123096      -2.417522",
            "text/html": "<div>\n<style scoped>\n    .dataframe tbody tr th:only-of-type {\n        vertical-align: middle;\n    }\n\n    .dataframe tbody tr th {\n        vertical-align: top;\n    }\n\n    .dataframe thead th {\n        text-align: right;\n    }\n</style>\n<table border=\"1\" class=\"dataframe\">\n  <thead>\n    <tr style=\"text-align: right;\">\n      <th></th>\n      <th>Maaş</th>\n      <th>Yaş</th>\n      <th>Çalışma saati</th>\n    </tr>\n  </thead>\n  <tbody>\n    <tr>\n      <th>Ali</th>\n      <td>-1.023181</td>\n      <td>-0.532847</td>\n      <td>0.126800</td>\n    </tr>\n    <tr>\n      <th>Ayşe</th>\n      <td>1.733404</td>\n      <td>-0.599304</td>\n      <td>-0.602347</td>\n    </tr>\n    <tr>\n      <th>Hatice</th>\n      <td>1.126119</td>\n      <td>0.565570</td>\n      <td>0.198574</td>\n    </tr>\n    <tr>\n      <th>Said</th>\n      <td>-2.732920</td>\n      <td>0.123096</td>\n      <td>-2.417522</td>\n    </tr>\n  </tbody>\n</table>\n</div>"
          },
          "metadata": {}
        }
      ],
      "execution_count": 20
    },
    {
      "cell_type": "code",
      "source": "# row silme nasıl yapılır?   drop(row_name,axis= 0)  diyerek silme işlemi yapılır",
      "metadata": {
        "trusted": true
      },
      "outputs": [],
      "execution_count": 21
    },
    {
      "cell_type": "code",
      "source": "dataFrame1.drop(\"Hatice\", axis=0)",
      "metadata": {
        "trusted": true
      },
      "outputs": [
        {
          "execution_count": 22,
          "output_type": "execute_result",
          "data": {
            "text/plain": "          Maaş       Yaş  Çalışma saati  Emeklilik yaşı\nAli  -1.023181 -0.532847       0.126800       -1.065694\nAyşe  1.733404 -0.599304      -0.602347       -1.198609\nSaid -2.732920  0.123096      -2.417522        0.246191",
            "text/html": "<div>\n<style scoped>\n    .dataframe tbody tr th:only-of-type {\n        vertical-align: middle;\n    }\n\n    .dataframe tbody tr th {\n        vertical-align: top;\n    }\n\n    .dataframe thead th {\n        text-align: right;\n    }\n</style>\n<table border=\"1\" class=\"dataframe\">\n  <thead>\n    <tr style=\"text-align: right;\">\n      <th></th>\n      <th>Maaş</th>\n      <th>Yaş</th>\n      <th>Çalışma saati</th>\n      <th>Emeklilik yaşı</th>\n    </tr>\n  </thead>\n  <tbody>\n    <tr>\n      <th>Ali</th>\n      <td>-1.023181</td>\n      <td>-0.532847</td>\n      <td>0.126800</td>\n      <td>-1.065694</td>\n    </tr>\n    <tr>\n      <th>Ayşe</th>\n      <td>1.733404</td>\n      <td>-0.599304</td>\n      <td>-0.602347</td>\n      <td>-1.198609</td>\n    </tr>\n    <tr>\n      <th>Said</th>\n      <td>-2.732920</td>\n      <td>0.123096</td>\n      <td>-2.417522</td>\n      <td>0.246191</td>\n    </tr>\n  </tbody>\n</table>\n</div>"
          },
          "metadata": {}
        }
      ],
      "execution_count": 22
    },
    {
      "cell_type": "code",
      "source": "dataFrame1",
      "metadata": {
        "trusted": true
      },
      "outputs": [
        {
          "execution_count": 23,
          "output_type": "execute_result",
          "data": {
            "text/plain": "            Maaş       Yaş  Çalışma saati  Emeklilik yaşı\nAli    -1.023181 -0.532847       0.126800       -1.065694\nAyşe    1.733404 -0.599304      -0.602347       -1.198609\nHatice  1.126119  0.565570       0.198574        1.131140\nSaid   -2.732920  0.123096      -2.417522        0.246191",
            "text/html": "<div>\n<style scoped>\n    .dataframe tbody tr th:only-of-type {\n        vertical-align: middle;\n    }\n\n    .dataframe tbody tr th {\n        vertical-align: top;\n    }\n\n    .dataframe thead th {\n        text-align: right;\n    }\n</style>\n<table border=\"1\" class=\"dataframe\">\n  <thead>\n    <tr style=\"text-align: right;\">\n      <th></th>\n      <th>Maaş</th>\n      <th>Yaş</th>\n      <th>Çalışma saati</th>\n      <th>Emeklilik yaşı</th>\n    </tr>\n  </thead>\n  <tbody>\n    <tr>\n      <th>Ali</th>\n      <td>-1.023181</td>\n      <td>-0.532847</td>\n      <td>0.126800</td>\n      <td>-1.065694</td>\n    </tr>\n    <tr>\n      <th>Ayşe</th>\n      <td>1.733404</td>\n      <td>-0.599304</td>\n      <td>-0.602347</td>\n      <td>-1.198609</td>\n    </tr>\n    <tr>\n      <th>Hatice</th>\n      <td>1.126119</td>\n      <td>0.565570</td>\n      <td>0.198574</td>\n      <td>1.131140</td>\n    </tr>\n    <tr>\n      <th>Said</th>\n      <td>-2.732920</td>\n      <td>0.123096</td>\n      <td>-2.417522</td>\n      <td>0.246191</td>\n    </tr>\n  </tbody>\n</table>\n</div>"
          },
          "metadata": {}
        }
      ],
      "execution_count": 23
    },
    {
      "cell_type": "code",
      "source": "dataFrame1.drop(\"Emeklilik yaşı\", axis=1, inplace= True)  # içinde bu işlemi yap, serielere uygula,, demektir. \n## inplace  yazılmazsa orijinal dosya sabit kalır, yazılırsa orijinal dosyada değişiklik yapılır",
      "metadata": {
        "trusted": true
      },
      "outputs": [],
      "execution_count": 24
    },
    {
      "cell_type": "code",
      "source": "dataFrame1.loc[\"Said\"]",
      "metadata": {
        "trusted": true
      },
      "outputs": [
        {
          "execution_count": 25,
          "output_type": "execute_result",
          "data": {
            "text/plain": "Maaş            -2.732920\nYaş              0.123096\nÇalışma saati   -2.417522\nName: Said, dtype: float64"
          },
          "metadata": {}
        }
      ],
      "execution_count": 25
    },
    {
      "cell_type": "code",
      "source": "dataFrame1.loc[\"Said\"][\"Maaş\"]",
      "metadata": {
        "trusted": true
      },
      "outputs": [
        {
          "execution_count": 26,
          "output_type": "execute_result",
          "data": {
            "text/plain": "-2.7329195766281527"
          },
          "metadata": {}
        }
      ],
      "execution_count": 26
    },
    {
      "cell_type": "code",
      "source": "dataFrame1.loc[\"Said\"][\"Yaş\"]",
      "metadata": {
        "trusted": true
      },
      "outputs": [
        {
          "execution_count": 27,
          "output_type": "execute_result",
          "data": {
            "text/plain": "0.12309560031938187"
          },
          "metadata": {}
        }
      ],
      "execution_count": 27
    },
    {
      "cell_type": "code",
      "source": "dataFrame1.loc[\"Said\", \"Maaş\"]",
      "metadata": {
        "trusted": true
      },
      "outputs": [
        {
          "execution_count": 28,
          "output_type": "execute_result",
          "data": {
            "text/plain": "-2.7329195766281527"
          },
          "metadata": {}
        }
      ],
      "execution_count": 28
    },
    {
      "cell_type": "code",
      "source": "dataFrame1",
      "metadata": {
        "trusted": true
      },
      "outputs": [
        {
          "execution_count": 29,
          "output_type": "execute_result",
          "data": {
            "text/plain": "            Maaş       Yaş  Çalışma saati\nAli    -1.023181 -0.532847       0.126800\nAyşe    1.733404 -0.599304      -0.602347\nHatice  1.126119  0.565570       0.198574\nSaid   -2.732920  0.123096      -2.417522",
            "text/html": "<div>\n<style scoped>\n    .dataframe tbody tr th:only-of-type {\n        vertical-align: middle;\n    }\n\n    .dataframe tbody tr th {\n        vertical-align: top;\n    }\n\n    .dataframe thead th {\n        text-align: right;\n    }\n</style>\n<table border=\"1\" class=\"dataframe\">\n  <thead>\n    <tr style=\"text-align: right;\">\n      <th></th>\n      <th>Maaş</th>\n      <th>Yaş</th>\n      <th>Çalışma saati</th>\n    </tr>\n  </thead>\n  <tbody>\n    <tr>\n      <th>Ali</th>\n      <td>-1.023181</td>\n      <td>-0.532847</td>\n      <td>0.126800</td>\n    </tr>\n    <tr>\n      <th>Ayşe</th>\n      <td>1.733404</td>\n      <td>-0.599304</td>\n      <td>-0.602347</td>\n    </tr>\n    <tr>\n      <th>Hatice</th>\n      <td>1.126119</td>\n      <td>0.565570</td>\n      <td>0.198574</td>\n    </tr>\n    <tr>\n      <th>Said</th>\n      <td>-2.732920</td>\n      <td>0.123096</td>\n      <td>-2.417522</td>\n    </tr>\n  </tbody>\n</table>\n</div>"
          },
          "metadata": {}
        }
      ],
      "execution_count": 29
    },
    {
      "cell_type": "code",
      "source": "#0'dan küçük değerleri bulmak için:\nbooleanFrame= dataFrame1 < 0",
      "metadata": {
        "trusted": true
      },
      "outputs": [],
      "execution_count": 30
    },
    {
      "cell_type": "code",
      "source": "booleanFrame",
      "metadata": {
        "trusted": true
      },
      "outputs": [
        {
          "execution_count": 31,
          "output_type": "execute_result",
          "data": {
            "text/plain": "         Maaş    Yaş  Çalışma saati\nAli      True   True          False\nAyşe    False   True           True\nHatice  False  False          False\nSaid     True  False           True",
            "text/html": "<div>\n<style scoped>\n    .dataframe tbody tr th:only-of-type {\n        vertical-align: middle;\n    }\n\n    .dataframe tbody tr th {\n        vertical-align: top;\n    }\n\n    .dataframe thead th {\n        text-align: right;\n    }\n</style>\n<table border=\"1\" class=\"dataframe\">\n  <thead>\n    <tr style=\"text-align: right;\">\n      <th></th>\n      <th>Maaş</th>\n      <th>Yaş</th>\n      <th>Çalışma saati</th>\n    </tr>\n  </thead>\n  <tbody>\n    <tr>\n      <th>Ali</th>\n      <td>True</td>\n      <td>True</td>\n      <td>False</td>\n    </tr>\n    <tr>\n      <th>Ayşe</th>\n      <td>False</td>\n      <td>True</td>\n      <td>True</td>\n    </tr>\n    <tr>\n      <th>Hatice</th>\n      <td>False</td>\n      <td>False</td>\n      <td>False</td>\n    </tr>\n    <tr>\n      <th>Said</th>\n      <td>True</td>\n      <td>False</td>\n      <td>True</td>\n    </tr>\n  </tbody>\n</table>\n</div>"
          },
          "metadata": {}
        }
      ],
      "execution_count": 31
    },
    {
      "cell_type": "code",
      "source": "dataFrame1",
      "metadata": {
        "trusted": true
      },
      "outputs": [
        {
          "execution_count": 32,
          "output_type": "execute_result",
          "data": {
            "text/plain": "            Maaş       Yaş  Çalışma saati\nAli    -1.023181 -0.532847       0.126800\nAyşe    1.733404 -0.599304      -0.602347\nHatice  1.126119  0.565570       0.198574\nSaid   -2.732920  0.123096      -2.417522",
            "text/html": "<div>\n<style scoped>\n    .dataframe tbody tr th:only-of-type {\n        vertical-align: middle;\n    }\n\n    .dataframe tbody tr th {\n        vertical-align: top;\n    }\n\n    .dataframe thead th {\n        text-align: right;\n    }\n</style>\n<table border=\"1\" class=\"dataframe\">\n  <thead>\n    <tr style=\"text-align: right;\">\n      <th></th>\n      <th>Maaş</th>\n      <th>Yaş</th>\n      <th>Çalışma saati</th>\n    </tr>\n  </thead>\n  <tbody>\n    <tr>\n      <th>Ali</th>\n      <td>-1.023181</td>\n      <td>-0.532847</td>\n      <td>0.126800</td>\n    </tr>\n    <tr>\n      <th>Ayşe</th>\n      <td>1.733404</td>\n      <td>-0.599304</td>\n      <td>-0.602347</td>\n    </tr>\n    <tr>\n      <th>Hatice</th>\n      <td>1.126119</td>\n      <td>0.565570</td>\n      <td>0.198574</td>\n    </tr>\n    <tr>\n      <th>Said</th>\n      <td>-2.732920</td>\n      <td>0.123096</td>\n      <td>-2.417522</td>\n    </tr>\n  </tbody>\n</table>\n</div>"
          },
          "metadata": {}
        }
      ],
      "execution_count": 32
    },
    {
      "cell_type": "code",
      "source": "dataFrame1[booleanFrame]     ## filtreleme yapılır: sadece 0'dan küçük olanların değerlerini getirir\n\n## Bunu : dataFrame1[ dataFrame1 < 0]   : olarak da yazılabilir. Aynı sonucu getirir",
      "metadata": {
        "trusted": true
      },
      "outputs": [
        {
          "execution_count": 33,
          "output_type": "execute_result",
          "data": {
            "text/plain": "            Maaş       Yaş  Çalışma saati\nAli    -1.023181 -0.532847            NaN\nAyşe         NaN -0.599304      -0.602347\nHatice       NaN       NaN            NaN\nSaid   -2.732920       NaN      -2.417522",
            "text/html": "<div>\n<style scoped>\n    .dataframe tbody tr th:only-of-type {\n        vertical-align: middle;\n    }\n\n    .dataframe tbody tr th {\n        vertical-align: top;\n    }\n\n    .dataframe thead th {\n        text-align: right;\n    }\n</style>\n<table border=\"1\" class=\"dataframe\">\n  <thead>\n    <tr style=\"text-align: right;\">\n      <th></th>\n      <th>Maaş</th>\n      <th>Yaş</th>\n      <th>Çalışma saati</th>\n    </tr>\n  </thead>\n  <tbody>\n    <tr>\n      <th>Ali</th>\n      <td>-1.023181</td>\n      <td>-0.532847</td>\n      <td>NaN</td>\n    </tr>\n    <tr>\n      <th>Ayşe</th>\n      <td>NaN</td>\n      <td>-0.599304</td>\n      <td>-0.602347</td>\n    </tr>\n    <tr>\n      <th>Hatice</th>\n      <td>NaN</td>\n      <td>NaN</td>\n      <td>NaN</td>\n    </tr>\n    <tr>\n      <th>Said</th>\n      <td>-2.732920</td>\n      <td>NaN</td>\n      <td>-2.417522</td>\n    </tr>\n  </tbody>\n</table>\n</div>"
          },
          "metadata": {}
        }
      ],
      "execution_count": 33
    },
    {
      "cell_type": "code",
      "source": "## Bu tarz işlemler columnlar arasında yapılabilir mi?",
      "metadata": {
        "trusted": true
      },
      "outputs": [],
      "execution_count": 34
    },
    {
      "cell_type": "code",
      "source": "dataFrame1[\"Yaş\"]",
      "metadata": {
        "trusted": true
      },
      "outputs": [
        {
          "execution_count": 35,
          "output_type": "execute_result",
          "data": {
            "text/plain": "Ali      -0.532847\nAyşe     -0.599304\nHatice    0.565570\nSaid      0.123096\nName: Yaş, dtype: float64"
          },
          "metadata": {}
        }
      ],
      "execution_count": 35
    },
    {
      "cell_type": "code",
      "source": "dataFrame1[\"Yaş\"] > 0",
      "metadata": {
        "trusted": true
      },
      "outputs": [
        {
          "execution_count": 36,
          "output_type": "execute_result",
          "data": {
            "text/plain": "Ali       False\nAyşe      False\nHatice     True\nSaid       True\nName: Yaş, dtype: bool"
          },
          "metadata": {}
        }
      ],
      "execution_count": 36
    },
    {
      "cell_type": "code",
      "source": "dataFrame1[dataFrame1[\"Yaş\"] > 0] #Yaş column'u 0'dan büyük olanları getirir, 0'dan küçük olan row'ları siler, getirmez.",
      "metadata": {
        "trusted": true
      },
      "outputs": [
        {
          "execution_count": 37,
          "output_type": "execute_result",
          "data": {
            "text/plain": "            Maaş       Yaş  Çalışma saati\nHatice  1.126119  0.565570       0.198574\nSaid   -2.732920  0.123096      -2.417522",
            "text/html": "<div>\n<style scoped>\n    .dataframe tbody tr th:only-of-type {\n        vertical-align: middle;\n    }\n\n    .dataframe tbody tr th {\n        vertical-align: top;\n    }\n\n    .dataframe thead th {\n        text-align: right;\n    }\n</style>\n<table border=\"1\" class=\"dataframe\">\n  <thead>\n    <tr style=\"text-align: right;\">\n      <th></th>\n      <th>Maaş</th>\n      <th>Yaş</th>\n      <th>Çalışma saati</th>\n    </tr>\n  </thead>\n  <tbody>\n    <tr>\n      <th>Hatice</th>\n      <td>1.126119</td>\n      <td>0.565570</td>\n      <td>0.198574</td>\n    </tr>\n    <tr>\n      <th>Said</th>\n      <td>-2.732920</td>\n      <td>0.123096</td>\n      <td>-2.417522</td>\n    </tr>\n  </tbody>\n</table>\n</div>"
          },
          "metadata": {}
        }
      ],
      "execution_count": 37
    },
    {
      "cell_type": "code",
      "source": "dataFrame1[dataFrame1[\"Çalışma saati\"] > 0] ",
      "metadata": {
        "trusted": true
      },
      "outputs": [
        {
          "execution_count": 38,
          "output_type": "execute_result",
          "data": {
            "text/plain": "            Maaş       Yaş  Çalışma saati\nAli    -1.023181 -0.532847       0.126800\nHatice  1.126119  0.565570       0.198574",
            "text/html": "<div>\n<style scoped>\n    .dataframe tbody tr th:only-of-type {\n        vertical-align: middle;\n    }\n\n    .dataframe tbody tr th {\n        vertical-align: top;\n    }\n\n    .dataframe thead th {\n        text-align: right;\n    }\n</style>\n<table border=\"1\" class=\"dataframe\">\n  <thead>\n    <tr style=\"text-align: right;\">\n      <th></th>\n      <th>Maaş</th>\n      <th>Yaş</th>\n      <th>Çalışma saati</th>\n    </tr>\n  </thead>\n  <tbody>\n    <tr>\n      <th>Ali</th>\n      <td>-1.023181</td>\n      <td>-0.532847</td>\n      <td>0.126800</td>\n    </tr>\n    <tr>\n      <th>Hatice</th>\n      <td>1.126119</td>\n      <td>0.565570</td>\n      <td>0.198574</td>\n    </tr>\n  </tbody>\n</table>\n</div>"
          },
          "metadata": {}
        }
      ],
      "execution_count": 38
    },
    {
      "cell_type": "markdown",
      "source": "## Index nasıl değiştirilir?",
      "metadata": {}
    },
    {
      "cell_type": "code",
      "source": "dataFrame1.reset_index()      # soldaki isim olan index yerine 0,1,2.. geldi. İsim index'i column oldu",
      "metadata": {
        "trusted": true
      },
      "outputs": [
        {
          "execution_count": 39,
          "output_type": "execute_result",
          "data": {
            "text/plain": "    index      Maaş       Yaş  Çalışma saati\n0     Ali -1.023181 -0.532847       0.126800\n1    Ayşe  1.733404 -0.599304      -0.602347\n2  Hatice  1.126119  0.565570       0.198574\n3    Said -2.732920  0.123096      -2.417522",
            "text/html": "<div>\n<style scoped>\n    .dataframe tbody tr th:only-of-type {\n        vertical-align: middle;\n    }\n\n    .dataframe tbody tr th {\n        vertical-align: top;\n    }\n\n    .dataframe thead th {\n        text-align: right;\n    }\n</style>\n<table border=\"1\" class=\"dataframe\">\n  <thead>\n    <tr style=\"text-align: right;\">\n      <th></th>\n      <th>index</th>\n      <th>Maaş</th>\n      <th>Yaş</th>\n      <th>Çalışma saati</th>\n    </tr>\n  </thead>\n  <tbody>\n    <tr>\n      <th>0</th>\n      <td>Ali</td>\n      <td>-1.023181</td>\n      <td>-0.532847</td>\n      <td>0.126800</td>\n    </tr>\n    <tr>\n      <th>1</th>\n      <td>Ayşe</td>\n      <td>1.733404</td>\n      <td>-0.599304</td>\n      <td>-0.602347</td>\n    </tr>\n    <tr>\n      <th>2</th>\n      <td>Hatice</td>\n      <td>1.126119</td>\n      <td>0.565570</td>\n      <td>0.198574</td>\n    </tr>\n    <tr>\n      <th>3</th>\n      <td>Said</td>\n      <td>-2.732920</td>\n      <td>0.123096</td>\n      <td>-2.417522</td>\n    </tr>\n  </tbody>\n</table>\n</div>"
          },
          "metadata": {}
        }
      ],
      "execution_count": 39
    },
    {
      "cell_type": "code",
      "source": "## dataFrame1 'i çağırırsak yine eski haline döner, index'i isimler olarak verir. \n## Kalıcı değişiklik için inplace kullanmak gerekir",
      "metadata": {
        "trusted": true
      },
      "outputs": [],
      "execution_count": 40
    },
    {
      "cell_type": "code",
      "source": "yeniIndexListesi = [\"Ali\", \"Ayş\", \"Hat\", \"Sai\"]",
      "metadata": {
        "trusted": true
      },
      "outputs": [],
      "execution_count": 41
    },
    {
      "cell_type": "code",
      "source": "dataFrame1[\"Yeni Index\"] = yeniIndexListesi",
      "metadata": {
        "trusted": true
      },
      "outputs": [],
      "execution_count": 42
    },
    {
      "cell_type": "code",
      "source": "dataFrame1",
      "metadata": {
        "trusted": true
      },
      "outputs": [
        {
          "execution_count": 43,
          "output_type": "execute_result",
          "data": {
            "text/plain": "            Maaş       Yaş  Çalışma saati Yeni Index\nAli    -1.023181 -0.532847       0.126800        Ali\nAyşe    1.733404 -0.599304      -0.602347        Ayş\nHatice  1.126119  0.565570       0.198574        Hat\nSaid   -2.732920  0.123096      -2.417522        Sai",
            "text/html": "<div>\n<style scoped>\n    .dataframe tbody tr th:only-of-type {\n        vertical-align: middle;\n    }\n\n    .dataframe tbody tr th {\n        vertical-align: top;\n    }\n\n    .dataframe thead th {\n        text-align: right;\n    }\n</style>\n<table border=\"1\" class=\"dataframe\">\n  <thead>\n    <tr style=\"text-align: right;\">\n      <th></th>\n      <th>Maaş</th>\n      <th>Yaş</th>\n      <th>Çalışma saati</th>\n      <th>Yeni Index</th>\n    </tr>\n  </thead>\n  <tbody>\n    <tr>\n      <th>Ali</th>\n      <td>-1.023181</td>\n      <td>-0.532847</td>\n      <td>0.126800</td>\n      <td>Ali</td>\n    </tr>\n    <tr>\n      <th>Ayşe</th>\n      <td>1.733404</td>\n      <td>-0.599304</td>\n      <td>-0.602347</td>\n      <td>Ayş</td>\n    </tr>\n    <tr>\n      <th>Hatice</th>\n      <td>1.126119</td>\n      <td>0.565570</td>\n      <td>0.198574</td>\n      <td>Hat</td>\n    </tr>\n    <tr>\n      <th>Said</th>\n      <td>-2.732920</td>\n      <td>0.123096</td>\n      <td>-2.417522</td>\n      <td>Sai</td>\n    </tr>\n  </tbody>\n</table>\n</div>"
          },
          "metadata": {}
        }
      ],
      "execution_count": 43
    },
    {
      "cell_type": "code",
      "source": "dataFrame1.set_index(\"Yeni Index\")  # dataframe'ın index'i hangi column olacak onu belirtir.",
      "metadata": {
        "trusted": true
      },
      "outputs": [
        {
          "execution_count": 44,
          "output_type": "execute_result",
          "data": {
            "text/plain": "                Maaş       Yaş  Çalışma saati\nYeni Index                                   \nAli        -1.023181 -0.532847       0.126800\nAyş         1.733404 -0.599304      -0.602347\nHat         1.126119  0.565570       0.198574\nSai        -2.732920  0.123096      -2.417522",
            "text/html": "<div>\n<style scoped>\n    .dataframe tbody tr th:only-of-type {\n        vertical-align: middle;\n    }\n\n    .dataframe tbody tr th {\n        vertical-align: top;\n    }\n\n    .dataframe thead th {\n        text-align: right;\n    }\n</style>\n<table border=\"1\" class=\"dataframe\">\n  <thead>\n    <tr style=\"text-align: right;\">\n      <th></th>\n      <th>Maaş</th>\n      <th>Yaş</th>\n      <th>Çalışma saati</th>\n    </tr>\n    <tr>\n      <th>Yeni Index</th>\n      <th></th>\n      <th></th>\n      <th></th>\n    </tr>\n  </thead>\n  <tbody>\n    <tr>\n      <th>Ali</th>\n      <td>-1.023181</td>\n      <td>-0.532847</td>\n      <td>0.126800</td>\n    </tr>\n    <tr>\n      <th>Ayş</th>\n      <td>1.733404</td>\n      <td>-0.599304</td>\n      <td>-0.602347</td>\n    </tr>\n    <tr>\n      <th>Hat</th>\n      <td>1.126119</td>\n      <td>0.565570</td>\n      <td>0.198574</td>\n    </tr>\n    <tr>\n      <th>Sai</th>\n      <td>-2.732920</td>\n      <td>0.123096</td>\n      <td>-2.417522</td>\n    </tr>\n  </tbody>\n</table>\n</div>"
          },
          "metadata": {}
        }
      ],
      "execution_count": 44
    },
    {
      "cell_type": "code",
      "source": "dataFrame1 ## Eski haline dönmüş",
      "metadata": {
        "trusted": true
      },
      "outputs": [
        {
          "execution_count": 45,
          "output_type": "execute_result",
          "data": {
            "text/plain": "            Maaş       Yaş  Çalışma saati Yeni Index\nAli    -1.023181 -0.532847       0.126800        Ali\nAyşe    1.733404 -0.599304      -0.602347        Ayş\nHatice  1.126119  0.565570       0.198574        Hat\nSaid   -2.732920  0.123096      -2.417522        Sai",
            "text/html": "<div>\n<style scoped>\n    .dataframe tbody tr th:only-of-type {\n        vertical-align: middle;\n    }\n\n    .dataframe tbody tr th {\n        vertical-align: top;\n    }\n\n    .dataframe thead th {\n        text-align: right;\n    }\n</style>\n<table border=\"1\" class=\"dataframe\">\n  <thead>\n    <tr style=\"text-align: right;\">\n      <th></th>\n      <th>Maaş</th>\n      <th>Yaş</th>\n      <th>Çalışma saati</th>\n      <th>Yeni Index</th>\n    </tr>\n  </thead>\n  <tbody>\n    <tr>\n      <th>Ali</th>\n      <td>-1.023181</td>\n      <td>-0.532847</td>\n      <td>0.126800</td>\n      <td>Ali</td>\n    </tr>\n    <tr>\n      <th>Ayşe</th>\n      <td>1.733404</td>\n      <td>-0.599304</td>\n      <td>-0.602347</td>\n      <td>Ayş</td>\n    </tr>\n    <tr>\n      <th>Hatice</th>\n      <td>1.126119</td>\n      <td>0.565570</td>\n      <td>0.198574</td>\n      <td>Hat</td>\n    </tr>\n    <tr>\n      <th>Said</th>\n      <td>-2.732920</td>\n      <td>0.123096</td>\n      <td>-2.417522</td>\n      <td>Sai</td>\n    </tr>\n  </tbody>\n</table>\n</div>"
          },
          "metadata": {}
        }
      ],
      "execution_count": 45
    },
    {
      "cell_type": "code",
      "source": "## Bu değişikliği kalıcı yapmak için:",
      "metadata": {
        "trusted": true
      },
      "outputs": [],
      "execution_count": 46
    },
    {
      "cell_type": "code",
      "source": "dataFrame1.set_index(\"Yeni Index\", inplace=True )  \n#değişiklik kalıcı olarak yapılacak",
      "metadata": {
        "trusted": true
      },
      "outputs": [],
      "execution_count": 47
    },
    {
      "cell_type": "code",
      "source": "dataFrame1",
      "metadata": {
        "trusted": true
      },
      "outputs": [
        {
          "execution_count": 48,
          "output_type": "execute_result",
          "data": {
            "text/plain": "                Maaş       Yaş  Çalışma saati\nYeni Index                                   \nAli        -1.023181 -0.532847       0.126800\nAyş         1.733404 -0.599304      -0.602347\nHat         1.126119  0.565570       0.198574\nSai        -2.732920  0.123096      -2.417522",
            "text/html": "<div>\n<style scoped>\n    .dataframe tbody tr th:only-of-type {\n        vertical-align: middle;\n    }\n\n    .dataframe tbody tr th {\n        vertical-align: top;\n    }\n\n    .dataframe thead th {\n        text-align: right;\n    }\n</style>\n<table border=\"1\" class=\"dataframe\">\n  <thead>\n    <tr style=\"text-align: right;\">\n      <th></th>\n      <th>Maaş</th>\n      <th>Yaş</th>\n      <th>Çalışma saati</th>\n    </tr>\n    <tr>\n      <th>Yeni Index</th>\n      <th></th>\n      <th></th>\n      <th></th>\n    </tr>\n  </thead>\n  <tbody>\n    <tr>\n      <th>Ali</th>\n      <td>-1.023181</td>\n      <td>-0.532847</td>\n      <td>0.126800</td>\n    </tr>\n    <tr>\n      <th>Ayş</th>\n      <td>1.733404</td>\n      <td>-0.599304</td>\n      <td>-0.602347</td>\n    </tr>\n    <tr>\n      <th>Hat</th>\n      <td>1.126119</td>\n      <td>0.565570</td>\n      <td>0.198574</td>\n    </tr>\n    <tr>\n      <th>Sai</th>\n      <td>-2.732920</td>\n      <td>0.123096</td>\n      <td>-2.417522</td>\n    </tr>\n  </tbody>\n</table>\n</div>"
          },
          "metadata": {}
        }
      ],
      "execution_count": 48
    },
    {
      "cell_type": "code",
      "source": "dataFrame1.loc[\"Ayş\"] # Ayş row'undaki bilgileri getirir",
      "metadata": {
        "trusted": true
      },
      "outputs": [
        {
          "execution_count": 49,
          "output_type": "execute_result",
          "data": {
            "text/plain": "Maaş             1.733404\nYaş             -0.599304\nÇalışma saati   -0.602347\nName: Ayş, dtype: float64"
          },
          "metadata": {}
        }
      ],
      "execution_count": 49
    },
    {
      "cell_type": "markdown",
      "source": "## Multi Index:",
      "metadata": {}
    },
    {
      "cell_type": "code",
      "source": "ilkIndexler = [\"Babamın gölgesi\",\"Babamın gölgesi\",\"Babamın gölgesi\",\"Erdem\",\"Erdem\",\"Erdem\",]",
      "metadata": {
        "trusted": true
      },
      "outputs": [],
      "execution_count": 4
    },
    {
      "cell_type": "code",
      "source": "icIndexler = [\"Zeyneb\",\"Osman\",\"Mehmet\", \"Zepi\", \"Arif\", \"Kurtçuk\"]",
      "metadata": {
        "trusted": true
      },
      "outputs": [],
      "execution_count": 5
    },
    {
      "cell_type": "code",
      "source": "birlesmisIndex =  list(zip(ilkIndexler, icIndexler))",
      "metadata": {
        "trusted": true
      },
      "outputs": [],
      "execution_count": 6
    },
    {
      "cell_type": "code",
      "source": "birlesmisIndex",
      "metadata": {
        "trusted": true
      },
      "outputs": [
        {
          "execution_count": 7,
          "output_type": "execute_result",
          "data": {
            "text/plain": "[('Babamın gölgesi', 'Zeyneb'),\n ('Babamın gölgesi', 'Osman'),\n ('Babamın gölgesi', 'Mehmet'),\n ('Erdem', 'Zepi'),\n ('Erdem', 'Arif'),\n ('Erdem', 'Kurtçuk')]"
          },
          "metadata": {}
        }
      ],
      "execution_count": 7
    },
    {
      "cell_type": "code",
      "source": "birlesmisIndex2 = pd.MultiIndex.from_tuples(birlesmisIndex)",
      "metadata": {
        "trusted": true
      },
      "outputs": [],
      "execution_count": 10
    },
    {
      "cell_type": "code",
      "source": "birlesmisIndex2",
      "metadata": {
        "trusted": true
      },
      "outputs": [
        {
          "execution_count": 11,
          "output_type": "execute_result",
          "data": {
            "text/plain": "MultiIndex([('Babamın gölgesi',  'Zeyneb'),\n            ('Babamın gölgesi',   'Osman'),\n            ('Babamın gölgesi',  'Mehmet'),\n            (          'Erdem',    'Zepi'),\n            (          'Erdem',    'Arif'),\n            (          'Erdem', 'Kurtçuk')],\n           )"
          },
          "metadata": {}
        }
      ],
      "execution_count": 11
    },
    {
      "cell_type": "code",
      "source": "cizgiFilmListesi = [[40, \"A\"],[10, \"B\"], [30, \"C\"], [9, \"D\"], [10, \"E\"], [11, \"F\"] ]",
      "metadata": {
        "trusted": true
      },
      "outputs": [],
      "execution_count": 12
    },
    {
      "cell_type": "code",
      "source": "cizgiFilmNumpyDizisi = np.array(cizgiFilmListesi)\ncizgiFilmNumpyDizisi",
      "metadata": {
        "trusted": true
      },
      "outputs": [
        {
          "execution_count": 22,
          "output_type": "execute_result",
          "data": {
            "text/plain": "array([['40', 'A'],\n       ['10', 'B'],\n       ['30', 'C'],\n       ['9', 'D'],\n       ['10', 'E'],\n       ['11', 'F']], dtype='<U11')"
          },
          "metadata": {}
        }
      ],
      "execution_count": 22
    },
    {
      "cell_type": "code",
      "source": "cizgiFilmDataFrame = pd.DataFrame(cizgiFilmNumpyDizisi, index=birlesmisIndex2, columns= [\"Yaş\", \"Meslek\"])",
      "metadata": {
        "trusted": true
      },
      "outputs": [],
      "execution_count": 23
    },
    {
      "cell_type": "code",
      "source": "cizgiFilmDataFrame",
      "metadata": {
        "trusted": true
      },
      "outputs": [
        {
          "execution_count": 25,
          "output_type": "execute_result",
          "data": {
            "text/plain": "                        Yaş Meslek\nBabamın gölgesi Zeyneb   40      A\n                Osman    10      B\n                Mehmet   30      C\nErdem           Zepi      9      D\n                Arif     10      E\n                Kurtçuk  11      F",
            "text/html": "<div>\n<style scoped>\n    .dataframe tbody tr th:only-of-type {\n        vertical-align: middle;\n    }\n\n    .dataframe tbody tr th {\n        vertical-align: top;\n    }\n\n    .dataframe thead th {\n        text-align: right;\n    }\n</style>\n<table border=\"1\" class=\"dataframe\">\n  <thead>\n    <tr style=\"text-align: right;\">\n      <th></th>\n      <th></th>\n      <th>Yaş</th>\n      <th>Meslek</th>\n    </tr>\n  </thead>\n  <tbody>\n    <tr>\n      <th rowspan=\"3\" valign=\"top\">Babamın gölgesi</th>\n      <th>Zeyneb</th>\n      <td>40</td>\n      <td>A</td>\n    </tr>\n    <tr>\n      <th>Osman</th>\n      <td>10</td>\n      <td>B</td>\n    </tr>\n    <tr>\n      <th>Mehmet</th>\n      <td>30</td>\n      <td>C</td>\n    </tr>\n    <tr>\n      <th rowspan=\"3\" valign=\"top\">Erdem</th>\n      <th>Zepi</th>\n      <td>9</td>\n      <td>D</td>\n    </tr>\n    <tr>\n      <th>Arif</th>\n      <td>10</td>\n      <td>E</td>\n    </tr>\n    <tr>\n      <th>Kurtçuk</th>\n      <td>11</td>\n      <td>F</td>\n    </tr>\n  </tbody>\n</table>\n</div>"
          },
          "metadata": {}
        }
      ],
      "execution_count": 25
    },
    {
      "cell_type": "code",
      "source": "cizgiFilmDataFrame.loc[\"Babamın gölgesi\"]",
      "metadata": {
        "trusted": true
      },
      "outputs": [
        {
          "execution_count": 26,
          "output_type": "execute_result",
          "data": {
            "text/plain": "       Yaş Meslek\nZeyneb  40      A\nOsman   10      B\nMehmet  30      C",
            "text/html": "<div>\n<style scoped>\n    .dataframe tbody tr th:only-of-type {\n        vertical-align: middle;\n    }\n\n    .dataframe tbody tr th {\n        vertical-align: top;\n    }\n\n    .dataframe thead th {\n        text-align: right;\n    }\n</style>\n<table border=\"1\" class=\"dataframe\">\n  <thead>\n    <tr style=\"text-align: right;\">\n      <th></th>\n      <th>Yaş</th>\n      <th>Meslek</th>\n    </tr>\n  </thead>\n  <tbody>\n    <tr>\n      <th>Zeyneb</th>\n      <td>40</td>\n      <td>A</td>\n    </tr>\n    <tr>\n      <th>Osman</th>\n      <td>10</td>\n      <td>B</td>\n    </tr>\n    <tr>\n      <th>Mehmet</th>\n      <td>30</td>\n      <td>C</td>\n    </tr>\n  </tbody>\n</table>\n</div>"
          },
          "metadata": {}
        }
      ],
      "execution_count": 26
    },
    {
      "cell_type": "code",
      "source": "cizgiFilmDataFrame.loc[\"Babamın gölgesi\"].loc[\"Osman\"]",
      "metadata": {
        "trusted": true
      },
      "outputs": [
        {
          "execution_count": 27,
          "output_type": "execute_result",
          "data": {
            "text/plain": "Yaş       10\nMeslek     B\nName: Osman, dtype: object"
          },
          "metadata": {}
        }
      ],
      "execution_count": 27
    },
    {
      "cell_type": "code",
      "source": "cizgiFilmDataFrame",
      "metadata": {
        "trusted": true
      },
      "outputs": [
        {
          "execution_count": 18,
          "output_type": "execute_result",
          "data": {
            "text/plain": "                          Yaş Meslek\n(Babamın gölgesi, Zeyneb)  40      A\n(Babamın gölgesi, Osman)   10      B\n(Babamın gölgesi, Mehmet)  30      C\n(Erdem, Zepi)               9      D\n(Erdem, Arif)              10      E\n(Erdem, Kurtçuk)           11      F",
            "text/html": "<div>\n<style scoped>\n    .dataframe tbody tr th:only-of-type {\n        vertical-align: middle;\n    }\n\n    .dataframe tbody tr th {\n        vertical-align: top;\n    }\n\n    .dataframe thead th {\n        text-align: right;\n    }\n</style>\n<table border=\"1\" class=\"dataframe\">\n  <thead>\n    <tr style=\"text-align: right;\">\n      <th></th>\n      <th>Yaş</th>\n      <th>Meslek</th>\n    </tr>\n  </thead>\n  <tbody>\n    <tr>\n      <th>(Babamın gölgesi, Zeyneb)</th>\n      <td>40</td>\n      <td>A</td>\n    </tr>\n    <tr>\n      <th>(Babamın gölgesi, Osman)</th>\n      <td>10</td>\n      <td>B</td>\n    </tr>\n    <tr>\n      <th>(Babamın gölgesi, Mehmet)</th>\n      <td>30</td>\n      <td>C</td>\n    </tr>\n    <tr>\n      <th>(Erdem, Zepi)</th>\n      <td>9</td>\n      <td>D</td>\n    </tr>\n    <tr>\n      <th>(Erdem, Arif)</th>\n      <td>10</td>\n      <td>E</td>\n    </tr>\n    <tr>\n      <th>(Erdem, Kurtçuk)</th>\n      <td>11</td>\n      <td>F</td>\n    </tr>\n  </tbody>\n</table>\n</div>"
          },
          "metadata": {}
        }
      ],
      "execution_count": 18
    },
    {
      "cell_type": "code",
      "source": "cizgiFilmDataFrame.index.names = [\"Film adı\", \"İsim\"]",
      "metadata": {
        "trusted": true
      },
      "outputs": [],
      "execution_count": 29
    },
    {
      "cell_type": "code",
      "source": "cizgiFilmDataFrame",
      "metadata": {
        "trusted": true
      },
      "outputs": [
        {
          "execution_count": 30,
          "output_type": "execute_result",
          "data": {
            "text/plain": "                        Yaş Meslek\nFilm adı        İsim              \nBabamın gölgesi Zeyneb   40      A\n                Osman    10      B\n                Mehmet   30      C\nErdem           Zepi      9      D\n                Arif     10      E\n                Kurtçuk  11      F",
            "text/html": "<div>\n<style scoped>\n    .dataframe tbody tr th:only-of-type {\n        vertical-align: middle;\n    }\n\n    .dataframe tbody tr th {\n        vertical-align: top;\n    }\n\n    .dataframe thead th {\n        text-align: right;\n    }\n</style>\n<table border=\"1\" class=\"dataframe\">\n  <thead>\n    <tr style=\"text-align: right;\">\n      <th></th>\n      <th></th>\n      <th>Yaş</th>\n      <th>Meslek</th>\n    </tr>\n    <tr>\n      <th>Film adı</th>\n      <th>İsim</th>\n      <th></th>\n      <th></th>\n    </tr>\n  </thead>\n  <tbody>\n    <tr>\n      <th rowspan=\"3\" valign=\"top\">Babamın gölgesi</th>\n      <th>Zeyneb</th>\n      <td>40</td>\n      <td>A</td>\n    </tr>\n    <tr>\n      <th>Osman</th>\n      <td>10</td>\n      <td>B</td>\n    </tr>\n    <tr>\n      <th>Mehmet</th>\n      <td>30</td>\n      <td>C</td>\n    </tr>\n    <tr>\n      <th rowspan=\"3\" valign=\"top\">Erdem</th>\n      <th>Zepi</th>\n      <td>9</td>\n      <td>D</td>\n    </tr>\n    <tr>\n      <th>Arif</th>\n      <td>10</td>\n      <td>E</td>\n    </tr>\n    <tr>\n      <th>Kurtçuk</th>\n      <td>11</td>\n      <td>F</td>\n    </tr>\n  </tbody>\n</table>\n</div>"
          },
          "metadata": {}
        }
      ],
      "execution_count": 30
    },
    {
      "cell_type": "code",
      "source": "",
      "metadata": {
        "trusted": true
      },
      "outputs": [],
      "execution_count": null
    }
  ]
}