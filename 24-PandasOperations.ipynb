{
  "metadata": {
    "kernelspec": {
      "name": "python",
      "display_name": "Python (Pyodide)",
      "language": "python"
    },
    "language_info": {
      "codemirror_mode": {
        "name": "python",
        "version": 3
      },
      "file_extension": ".py",
      "mimetype": "text/x-python",
      "name": "python",
      "nbconvert_exporter": "python",
      "pygments_lexer": "ipython3",
      "version": "3.8"
    }
  },
  "nbformat_minor": 4,
  "nbformat": 4,
  "cells": [
    {
      "cell_type": "markdown",
      "source": "## 24-PandasOperations",
      "metadata": {}
    },
    {
      "cell_type": "code",
      "source": "# Eksik veri olduğunda ne yapılır?",
      "metadata": {
        "trusted": true
      },
      "outputs": [],
      "execution_count": 14
    },
    {
      "cell_type": "code",
      "source": "import numpy as np\nimport pandas as pd",
      "metadata": {
        "trusted": true
      },
      "outputs": [],
      "execution_count": 3
    },
    {
      "cell_type": "code",
      "source": "sozlukVerisi = {\"İstanbul\": [30,29,np.nan], \"Ankara\" : [20, np.nan, 25], \"İzmir\": [40,39,38]}\nhavaDurumuDataFrame = pd.DataFrame(sozlukVerisi)",
      "metadata": {
        "trusted": true
      },
      "outputs": [],
      "execution_count": 16
    },
    {
      "cell_type": "code",
      "source": "havaDurumuDataFrame",
      "metadata": {
        "trusted": true
      },
      "outputs": [
        {
          "execution_count": 17,
          "output_type": "execute_result",
          "data": {
            "text/plain": "   İstanbul  Ankara  İzmir\n0      30.0    20.0     40\n1      29.0     NaN     39\n2       NaN    25.0     38",
            "text/html": "<div>\n<style scoped>\n    .dataframe tbody tr th:only-of-type {\n        vertical-align: middle;\n    }\n\n    .dataframe tbody tr th {\n        vertical-align: top;\n    }\n\n    .dataframe thead th {\n        text-align: right;\n    }\n</style>\n<table border=\"1\" class=\"dataframe\">\n  <thead>\n    <tr style=\"text-align: right;\">\n      <th></th>\n      <th>İstanbul</th>\n      <th>Ankara</th>\n      <th>İzmir</th>\n    </tr>\n  </thead>\n  <tbody>\n    <tr>\n      <th>0</th>\n      <td>30.0</td>\n      <td>20.0</td>\n      <td>40</td>\n    </tr>\n    <tr>\n      <th>1</th>\n      <td>29.0</td>\n      <td>NaN</td>\n      <td>39</td>\n    </tr>\n    <tr>\n      <th>2</th>\n      <td>NaN</td>\n      <td>25.0</td>\n      <td>38</td>\n    </tr>\n  </tbody>\n</table>\n</div>"
          },
          "metadata": {}
        }
      ],
      "execution_count": 17
    },
    {
      "cell_type": "code",
      "source": "# olmayan veriler silinebilir. O zaman ne olur?\n\nhavaDurumuDataFrame.dropna()    #olmayan verilerin olduğu satırları siler ama orijinal dataframe bozulmaz.",
      "metadata": {
        "trusted": true
      },
      "outputs": [
        {
          "execution_count": 18,
          "output_type": "execute_result",
          "data": {
            "text/plain": "   İstanbul  Ankara  İzmir\n0      30.0    20.0     40",
            "text/html": "<div>\n<style scoped>\n    .dataframe tbody tr th:only-of-type {\n        vertical-align: middle;\n    }\n\n    .dataframe tbody tr th {\n        vertical-align: top;\n    }\n\n    .dataframe thead th {\n        text-align: right;\n    }\n</style>\n<table border=\"1\" class=\"dataframe\">\n  <thead>\n    <tr style=\"text-align: right;\">\n      <th></th>\n      <th>İstanbul</th>\n      <th>Ankara</th>\n      <th>İzmir</th>\n    </tr>\n  </thead>\n  <tbody>\n    <tr>\n      <th>0</th>\n      <td>30.0</td>\n      <td>20.0</td>\n      <td>40</td>\n    </tr>\n  </tbody>\n</table>\n</div>"
          },
          "metadata": {}
        }
      ],
      "execution_count": 18
    },
    {
      "cell_type": "code",
      "source": "havaDurumuDataFrame",
      "metadata": {
        "trusted": true
      },
      "outputs": [
        {
          "execution_count": 19,
          "output_type": "execute_result",
          "data": {
            "text/plain": "   İstanbul  Ankara  İzmir\n0      30.0    20.0     40\n1      29.0     NaN     39\n2       NaN    25.0     38",
            "text/html": "<div>\n<style scoped>\n    .dataframe tbody tr th:only-of-type {\n        vertical-align: middle;\n    }\n\n    .dataframe tbody tr th {\n        vertical-align: top;\n    }\n\n    .dataframe thead th {\n        text-align: right;\n    }\n</style>\n<table border=\"1\" class=\"dataframe\">\n  <thead>\n    <tr style=\"text-align: right;\">\n      <th></th>\n      <th>İstanbul</th>\n      <th>Ankara</th>\n      <th>İzmir</th>\n    </tr>\n  </thead>\n  <tbody>\n    <tr>\n      <th>0</th>\n      <td>30.0</td>\n      <td>20.0</td>\n      <td>40</td>\n    </tr>\n    <tr>\n      <th>1</th>\n      <td>29.0</td>\n      <td>NaN</td>\n      <td>39</td>\n    </tr>\n    <tr>\n      <th>2</th>\n      <td>NaN</td>\n      <td>25.0</td>\n      <td>38</td>\n    </tr>\n  </tbody>\n</table>\n</div>"
          },
          "metadata": {}
        }
      ],
      "execution_count": 19
    },
    {
      "cell_type": "code",
      "source": "havaDurumuDataFrame.dropna(axis=1)  # Na olmayan column'u getirir, Na olanları siler",
      "metadata": {
        "trusted": true
      },
      "outputs": [
        {
          "execution_count": 20,
          "output_type": "execute_result",
          "data": {
            "text/plain": "   İzmir\n0     40\n1     39\n2     38",
            "text/html": "<div>\n<style scoped>\n    .dataframe tbody tr th:only-of-type {\n        vertical-align: middle;\n    }\n\n    .dataframe tbody tr th {\n        vertical-align: top;\n    }\n\n    .dataframe thead th {\n        text-align: right;\n    }\n</style>\n<table border=\"1\" class=\"dataframe\">\n  <thead>\n    <tr style=\"text-align: right;\">\n      <th></th>\n      <th>İzmir</th>\n    </tr>\n  </thead>\n  <tbody>\n    <tr>\n      <th>0</th>\n      <td>40</td>\n    </tr>\n    <tr>\n      <th>1</th>\n      <td>39</td>\n    </tr>\n    <tr>\n      <th>2</th>\n      <td>38</td>\n    </tr>\n  </tbody>\n</table>\n</div>"
          },
          "metadata": {}
        }
      ],
      "execution_count": 20
    },
    {
      "cell_type": "code",
      "source": "sozlukVerisi2 = {\"İstanbul\": [30,29,np.nan], \"Ankara\" : [20, np.nan, 25], \"İzmir\": [40,39,38], \"Antalya\": [45, np.nan, np.nan]}\nhavaDurumuDataFrame2 = pd.DataFrame(sozlukVerisi2)",
      "metadata": {
        "trusted": true
      },
      "outputs": [],
      "execution_count": 21
    },
    {
      "cell_type": "code",
      "source": "havaDurumuDataFrame2",
      "metadata": {
        "trusted": true
      },
      "outputs": [
        {
          "execution_count": 22,
          "output_type": "execute_result",
          "data": {
            "text/plain": "   İstanbul  Ankara  İzmir  Antalya\n0      30.0    20.0     40     45.0\n1      29.0     NaN     39      NaN\n2       NaN    25.0     38      NaN",
            "text/html": "<div>\n<style scoped>\n    .dataframe tbody tr th:only-of-type {\n        vertical-align: middle;\n    }\n\n    .dataframe tbody tr th {\n        vertical-align: top;\n    }\n\n    .dataframe thead th {\n        text-align: right;\n    }\n</style>\n<table border=\"1\" class=\"dataframe\">\n  <thead>\n    <tr style=\"text-align: right;\">\n      <th></th>\n      <th>İstanbul</th>\n      <th>Ankara</th>\n      <th>İzmir</th>\n      <th>Antalya</th>\n    </tr>\n  </thead>\n  <tbody>\n    <tr>\n      <th>0</th>\n      <td>30.0</td>\n      <td>20.0</td>\n      <td>40</td>\n      <td>45.0</td>\n    </tr>\n    <tr>\n      <th>1</th>\n      <td>29.0</td>\n      <td>NaN</td>\n      <td>39</td>\n      <td>NaN</td>\n    </tr>\n    <tr>\n      <th>2</th>\n      <td>NaN</td>\n      <td>25.0</td>\n      <td>38</td>\n      <td>NaN</td>\n    </tr>\n  </tbody>\n</table>\n</div>"
          },
          "metadata": {}
        }
      ],
      "execution_count": 22
    },
    {
      "cell_type": "code",
      "source": "# Burda column'da bir tane Nan varsa al, daha fazla Nan varsa o column'u alma: threshold =2, eşik\n\nhavaDurumuDataFrame2.dropna(axis=1, thresh=2)",
      "metadata": {
        "trusted": true
      },
      "outputs": [
        {
          "execution_count": 26,
          "output_type": "execute_result",
          "data": {
            "text/plain": "   İstanbul  Ankara  İzmir\n0      30.0    20.0     40\n1      29.0     NaN     39\n2       NaN    25.0     38",
            "text/html": "<div>\n<style scoped>\n    .dataframe tbody tr th:only-of-type {\n        vertical-align: middle;\n    }\n\n    .dataframe tbody tr th {\n        vertical-align: top;\n    }\n\n    .dataframe thead th {\n        text-align: right;\n    }\n</style>\n<table border=\"1\" class=\"dataframe\">\n  <thead>\n    <tr style=\"text-align: right;\">\n      <th></th>\n      <th>İstanbul</th>\n      <th>Ankara</th>\n      <th>İzmir</th>\n    </tr>\n  </thead>\n  <tbody>\n    <tr>\n      <th>0</th>\n      <td>30.0</td>\n      <td>20.0</td>\n      <td>40</td>\n    </tr>\n    <tr>\n      <th>1</th>\n      <td>29.0</td>\n      <td>NaN</td>\n      <td>39</td>\n    </tr>\n    <tr>\n      <th>2</th>\n      <td>NaN</td>\n      <td>25.0</td>\n      <td>38</td>\n    </tr>\n  </tbody>\n</table>\n</div>"
          },
          "metadata": {}
        }
      ],
      "execution_count": 26
    },
    {
      "cell_type": "code",
      "source": "# Nan yazan yerlere belli bir sayı veya ortalamasını yazmayı düşünebiliriz\n\nhavaDurumuDataFrame2.fillna(20)    # boş olan yerlere 20 yaz",
      "metadata": {
        "trusted": true
      },
      "outputs": [
        {
          "execution_count": 33,
          "output_type": "execute_result",
          "data": {
            "text/plain": "   İstanbul  Ankara  İzmir  Antalya\n0      30.0    20.0     40     45.0\n1      29.0    20.0     39     20.0\n2      20.0    25.0     38     20.0",
            "text/html": "<div>\n<style scoped>\n    .dataframe tbody tr th:only-of-type {\n        vertical-align: middle;\n    }\n\n    .dataframe tbody tr th {\n        vertical-align: top;\n    }\n\n    .dataframe thead th {\n        text-align: right;\n    }\n</style>\n<table border=\"1\" class=\"dataframe\">\n  <thead>\n    <tr style=\"text-align: right;\">\n      <th></th>\n      <th>İstanbul</th>\n      <th>Ankara</th>\n      <th>İzmir</th>\n      <th>Antalya</th>\n    </tr>\n  </thead>\n  <tbody>\n    <tr>\n      <th>0</th>\n      <td>30.0</td>\n      <td>20.0</td>\n      <td>40</td>\n      <td>45.0</td>\n    </tr>\n    <tr>\n      <th>1</th>\n      <td>29.0</td>\n      <td>20.0</td>\n      <td>39</td>\n      <td>20.0</td>\n    </tr>\n    <tr>\n      <th>2</th>\n      <td>20.0</td>\n      <td>25.0</td>\n      <td>38</td>\n      <td>20.0</td>\n    </tr>\n  </tbody>\n</table>\n</div>"
          },
          "metadata": {}
        }
      ],
      "execution_count": 33
    },
    {
      "cell_type": "markdown",
      "source": "## groupby:",
      "metadata": {}
    },
    {
      "cell_type": "code",
      "source": "# veriyi gruplamak için . Veri analizinde çok önemli",
      "metadata": {
        "trusted": true
      },
      "outputs": [],
      "execution_count": 36
    },
    {
      "cell_type": "code",
      "source": "maasDictionary = {\"Departman\" :[\"Yazılım\", \"Yazılım\", \"Pazarlama\", \"Pazarlama\", \"Hukuk\", \"Hukuk\"],\n                  \"Çalışan İsimleri\": [\"Ahmet\", \"Mehmet\", \"Ali\", \"Zeyneb\", \"Burak\", \"Fatma\"],\n                  \"Maaş\": [100,150,200,300,400,500]}",
      "metadata": {
        "trusted": true
      },
      "outputs": [],
      "execution_count": 1
    },
    {
      "cell_type": "code",
      "source": "maasDataFrame = pd.DataFrame(maasDictionary)",
      "metadata": {
        "trusted": true
      },
      "outputs": [],
      "execution_count": 4
    },
    {
      "cell_type": "code",
      "source": "maasDataFrame",
      "metadata": {
        "trusted": true
      },
      "outputs": [
        {
          "execution_count": 5,
          "output_type": "execute_result",
          "data": {
            "text/plain": "   Departman Çalışan İsimleri  Maaş\n0    Yazılım            Ahmet   100\n1    Yazılım           Mehmet   150\n2  Pazarlama              Ali   200\n3  Pazarlama           Zeyneb   300\n4      Hukuk            Burak   400\n5      Hukuk            Fatma   500",
            "text/html": "<div>\n<style scoped>\n    .dataframe tbody tr th:only-of-type {\n        vertical-align: middle;\n    }\n\n    .dataframe tbody tr th {\n        vertical-align: top;\n    }\n\n    .dataframe thead th {\n        text-align: right;\n    }\n</style>\n<table border=\"1\" class=\"dataframe\">\n  <thead>\n    <tr style=\"text-align: right;\">\n      <th></th>\n      <th>Departman</th>\n      <th>Çalışan İsimleri</th>\n      <th>Maaş</th>\n    </tr>\n  </thead>\n  <tbody>\n    <tr>\n      <th>0</th>\n      <td>Yazılım</td>\n      <td>Ahmet</td>\n      <td>100</td>\n    </tr>\n    <tr>\n      <th>1</th>\n      <td>Yazılım</td>\n      <td>Mehmet</td>\n      <td>150</td>\n    </tr>\n    <tr>\n      <th>2</th>\n      <td>Pazarlama</td>\n      <td>Ali</td>\n      <td>200</td>\n    </tr>\n    <tr>\n      <th>3</th>\n      <td>Pazarlama</td>\n      <td>Zeyneb</td>\n      <td>300</td>\n    </tr>\n    <tr>\n      <th>4</th>\n      <td>Hukuk</td>\n      <td>Burak</td>\n      <td>400</td>\n    </tr>\n    <tr>\n      <th>5</th>\n      <td>Hukuk</td>\n      <td>Fatma</td>\n      <td>500</td>\n    </tr>\n  </tbody>\n</table>\n</div>"
          },
          "metadata": {}
        }
      ],
      "execution_count": 5
    },
    {
      "cell_type": "code",
      "source": "groupbyObject= maasDataFrame.groupby(\"Departman\")  #Departmana göre gruplanır, grupObject'de bir çok özellik var",
      "metadata": {
        "trusted": true
      },
      "outputs": [],
      "execution_count": 6
    },
    {
      "cell_type": "code",
      "source": "groupbyObject.count()",
      "metadata": {
        "trusted": true
      },
      "outputs": [
        {
          "execution_count": 7,
          "output_type": "execute_result",
          "data": {
            "text/plain": "           Çalışan İsimleri  Maaş\nDepartman                        \nHukuk                     2     2\nPazarlama                 2     2\nYazılım                   2     2",
            "text/html": "<div>\n<style scoped>\n    .dataframe tbody tr th:only-of-type {\n        vertical-align: middle;\n    }\n\n    .dataframe tbody tr th {\n        vertical-align: top;\n    }\n\n    .dataframe thead th {\n        text-align: right;\n    }\n</style>\n<table border=\"1\" class=\"dataframe\">\n  <thead>\n    <tr style=\"text-align: right;\">\n      <th></th>\n      <th>Çalışan İsimleri</th>\n      <th>Maaş</th>\n    </tr>\n    <tr>\n      <th>Departman</th>\n      <th></th>\n      <th></th>\n    </tr>\n  </thead>\n  <tbody>\n    <tr>\n      <th>Hukuk</th>\n      <td>2</td>\n      <td>2</td>\n    </tr>\n    <tr>\n      <th>Pazarlama</th>\n      <td>2</td>\n      <td>2</td>\n    </tr>\n    <tr>\n      <th>Yazılım</th>\n      <td>2</td>\n      <td>2</td>\n    </tr>\n  </tbody>\n</table>\n</div>"
          },
          "metadata": {}
        }
      ],
      "execution_count": 7
    },
    {
      "cell_type": "code",
      "source": "groupbyObject.mean()  ## Kişilerin ortalama maaşlarını gösterir",
      "metadata": {
        "trusted": true
      },
      "outputs": [
        {
          "name": "stderr",
          "text": "<ipython-input-8-84e482d649e9>:1: FutureWarning: The default value of numeric_only in DataFrameGroupBy.mean is deprecated. In a future version, numeric_only will default to False. Either specify numeric_only or select only columns which should be valid for the function.\n  groupbyObject.mean()  ## Kişilerin ortalama maaşlarını gösterir\n",
          "output_type": "stream"
        },
        {
          "execution_count": 8,
          "output_type": "execute_result",
          "data": {
            "text/plain": "            Maaş\nDepartman       \nHukuk      450.0\nPazarlama  250.0\nYazılım    125.0",
            "text/html": "<div>\n<style scoped>\n    .dataframe tbody tr th:only-of-type {\n        vertical-align: middle;\n    }\n\n    .dataframe tbody tr th {\n        vertical-align: top;\n    }\n\n    .dataframe thead th {\n        text-align: right;\n    }\n</style>\n<table border=\"1\" class=\"dataframe\">\n  <thead>\n    <tr style=\"text-align: right;\">\n      <th></th>\n      <th>Maaş</th>\n    </tr>\n    <tr>\n      <th>Departman</th>\n      <th></th>\n    </tr>\n  </thead>\n  <tbody>\n    <tr>\n      <th>Hukuk</th>\n      <td>450.0</td>\n    </tr>\n    <tr>\n      <th>Pazarlama</th>\n      <td>250.0</td>\n    </tr>\n    <tr>\n      <th>Yazılım</th>\n      <td>125.0</td>\n    </tr>\n  </tbody>\n</table>\n</div>"
          },
          "metadata": {}
        }
      ],
      "execution_count": 8
    },
    {
      "cell_type": "code",
      "source": "groupbyObject.min()",
      "metadata": {
        "trusted": true
      },
      "outputs": [
        {
          "execution_count": 9,
          "output_type": "execute_result",
          "data": {
            "text/plain": "          Çalışan İsimleri  Maaş\nDepartman                       \nHukuk                Burak   400\nPazarlama              Ali   200\nYazılım              Ahmet   100",
            "text/html": "<div>\n<style scoped>\n    .dataframe tbody tr th:only-of-type {\n        vertical-align: middle;\n    }\n\n    .dataframe tbody tr th {\n        vertical-align: top;\n    }\n\n    .dataframe thead th {\n        text-align: right;\n    }\n</style>\n<table border=\"1\" class=\"dataframe\">\n  <thead>\n    <tr style=\"text-align: right;\">\n      <th></th>\n      <th>Çalışan İsimleri</th>\n      <th>Maaş</th>\n    </tr>\n    <tr>\n      <th>Departman</th>\n      <th></th>\n      <th></th>\n    </tr>\n  </thead>\n  <tbody>\n    <tr>\n      <th>Hukuk</th>\n      <td>Burak</td>\n      <td>400</td>\n    </tr>\n    <tr>\n      <th>Pazarlama</th>\n      <td>Ali</td>\n      <td>200</td>\n    </tr>\n    <tr>\n      <th>Yazılım</th>\n      <td>Ahmet</td>\n      <td>100</td>\n    </tr>\n  </tbody>\n</table>\n</div>"
          },
          "metadata": {}
        }
      ],
      "execution_count": 9
    },
    {
      "cell_type": "code",
      "source": "groupbyObject.max()",
      "metadata": {
        "trusted": true
      },
      "outputs": [
        {
          "execution_count": 10,
          "output_type": "execute_result",
          "data": {
            "text/plain": "          Çalışan İsimleri  Maaş\nDepartman                       \nHukuk                Fatma   500\nPazarlama           Zeyneb   300\nYazılım             Mehmet   150",
            "text/html": "<div>\n<style scoped>\n    .dataframe tbody tr th:only-of-type {\n        vertical-align: middle;\n    }\n\n    .dataframe tbody tr th {\n        vertical-align: top;\n    }\n\n    .dataframe thead th {\n        text-align: right;\n    }\n</style>\n<table border=\"1\" class=\"dataframe\">\n  <thead>\n    <tr style=\"text-align: right;\">\n      <th></th>\n      <th>Çalışan İsimleri</th>\n      <th>Maaş</th>\n    </tr>\n    <tr>\n      <th>Departman</th>\n      <th></th>\n      <th></th>\n    </tr>\n  </thead>\n  <tbody>\n    <tr>\n      <th>Hukuk</th>\n      <td>Fatma</td>\n      <td>500</td>\n    </tr>\n    <tr>\n      <th>Pazarlama</th>\n      <td>Zeyneb</td>\n      <td>300</td>\n    </tr>\n    <tr>\n      <th>Yazılım</th>\n      <td>Mehmet</td>\n      <td>150</td>\n    </tr>\n  </tbody>\n</table>\n</div>"
          },
          "metadata": {}
        }
      ],
      "execution_count": 10
    },
    {
      "cell_type": "code",
      "source": "groupbyObject.describe()  # gruplanmış dataframe'in bütün özelliklerini getirir",
      "metadata": {
        "trusted": true
      },
      "outputs": [
        {
          "execution_count": 11,
          "output_type": "execute_result",
          "data": {
            "text/plain": "           Maaş                                                     \n          count   mean        std    min    25%    50%    75%    max\nDepartman                                                           \nHukuk       2.0  450.0  70.710678  400.0  425.0  450.0  475.0  500.0\nPazarlama   2.0  250.0  70.710678  200.0  225.0  250.0  275.0  300.0\nYazılım     2.0  125.0  35.355339  100.0  112.5  125.0  137.5  150.0",
            "text/html": "<div>\n<style scoped>\n    .dataframe tbody tr th:only-of-type {\n        vertical-align: middle;\n    }\n\n    .dataframe tbody tr th {\n        vertical-align: top;\n    }\n\n    .dataframe thead tr th {\n        text-align: left;\n    }\n\n    .dataframe thead tr:last-of-type th {\n        text-align: right;\n    }\n</style>\n<table border=\"1\" class=\"dataframe\">\n  <thead>\n    <tr>\n      <th></th>\n      <th colspan=\"8\" halign=\"left\">Maaş</th>\n    </tr>\n    <tr>\n      <th></th>\n      <th>count</th>\n      <th>mean</th>\n      <th>std</th>\n      <th>min</th>\n      <th>25%</th>\n      <th>50%</th>\n      <th>75%</th>\n      <th>max</th>\n    </tr>\n    <tr>\n      <th>Departman</th>\n      <th></th>\n      <th></th>\n      <th></th>\n      <th></th>\n      <th></th>\n      <th></th>\n      <th></th>\n      <th></th>\n    </tr>\n  </thead>\n  <tbody>\n    <tr>\n      <th>Hukuk</th>\n      <td>2.0</td>\n      <td>450.0</td>\n      <td>70.710678</td>\n      <td>400.0</td>\n      <td>425.0</td>\n      <td>450.0</td>\n      <td>475.0</td>\n      <td>500.0</td>\n    </tr>\n    <tr>\n      <th>Pazarlama</th>\n      <td>2.0</td>\n      <td>250.0</td>\n      <td>70.710678</td>\n      <td>200.0</td>\n      <td>225.0</td>\n      <td>250.0</td>\n      <td>275.0</td>\n      <td>300.0</td>\n    </tr>\n    <tr>\n      <th>Yazılım</th>\n      <td>2.0</td>\n      <td>125.0</td>\n      <td>35.355339</td>\n      <td>100.0</td>\n      <td>112.5</td>\n      <td>125.0</td>\n      <td>137.5</td>\n      <td>150.0</td>\n    </tr>\n  </tbody>\n</table>\n</div>"
          },
          "metadata": {}
        }
      ],
      "execution_count": 11
    },
    {
      "cell_type": "code",
      "source": "",
      "metadata": {
        "trusted": true
      },
      "outputs": [],
      "execution_count": null
    }
  ]
}