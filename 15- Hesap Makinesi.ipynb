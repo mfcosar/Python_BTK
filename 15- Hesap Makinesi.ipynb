{
  "metadata": {
    "kernelspec": {
      "name": "python",
      "display_name": "Python (Pyodide)",
      "language": "python"
    },
    "language_info": {
      "codemirror_mode": {
        "name": "python",
        "version": 3
      },
      "file_extension": ".py",
      "mimetype": "text/x-python",
      "name": "python",
      "nbconvert_exporter": "python",
      "pygments_lexer": "ipython3",
      "version": "3.8"
    }
  },
  "nbformat_minor": 4,
  "nbformat": 4,
  "cells": [
    {
      "cell_type": "markdown",
      "source": "## 15- Hesap Makinesi",
      "metadata": {}
    },
    {
      "cell_type": "code",
      "source": "def hesapla(a,b, islem):\n\n    if islem == \"+\":\n        return (str(a) + \" +  \" + str(b) + \" = \" + str(a+b))\n    if islem == \"-\":\n        return (str(a) + \" -  \" + str(b) + \" = \" + str(a-b))\n    if islem == \"*\":\n        return (str(a) + \" *  \" + str(b) + \" = \" + str(a*b))        \n    if islem == \"/\":\n        return (str(a) + \" /  \" + str(b) + \" = \" + str(a/b))   \n\nwhile True:\n    try:\n        a = int(input(\"ilk sayıyı giriniz\"))\n        b = int(input(\"ilk sayıyı giriniz\"))\n        \n        islem = input(\"işlemi giriniz :  +-*/\")\n        print(hesapla(a,b, islem))\n        break\n    except:\n        print(\"Lütfen sayıları düzgün giriniz\")\n\n#xa = input(\"ilk sayıyı giriniz\")\n#xa.result()\n#type(xa.result())\n#a = int(xa)\n",
      "metadata": {
        "trusted": true
      },
      "outputs": [],
      "execution_count": null
    },
    {
      "cell_type": "code",
      "source": "a = input(\"ilk sayıyı giriniz\")",
      "metadata": {
        "trusted": true
      },
      "outputs": [],
      "execution_count": null
    },
    {
      "cell_type": "code",
      "source": "c= a.result()\nd = int(c)\ntype(d)",
      "metadata": {
        "trusted": true
      },
      "outputs": [],
      "execution_count": null
    },
    {
      "cell_type": "code",
      "source": "",
      "metadata": {
        "trusted": true
      },
      "outputs": [],
      "execution_count": null
    }
  ]
}