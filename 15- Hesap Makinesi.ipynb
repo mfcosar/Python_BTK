{
  "metadata": {
    "kernelspec": {
      "name": "python",
      "display_name": "Python (Pyodide)",
      "language": "python"
    },
    "language_info": {
      "codemirror_mode": {
        "name": "python",
        "version": 3
      },
      "file_extension": ".py",
      "mimetype": "text/x-python",
      "name": "python",
      "nbconvert_exporter": "python",
      "pygments_lexer": "ipython3",
      "version": "3.8"
    }
  },
  "nbformat_minor": 4,
  "nbformat": 4,
  "cells": [
    {
      "cell_type": "markdown",
      "source": "## 15- Hesap Makinesi",
      "metadata": {}
    },
    {
      "cell_type": "code",
      "source": "def hesapla(a,b, islem):\n\n    if islem == \"+\":\n        return (str(a) + \" +  \" + str(b) + \" = \" + str(a+b))\n    if islem == \"-\":\n        return (str(a) + \" -  \" + str(b) + \" = \" + str(a-b))\n    if islem == \"*\":\n        return (str(a) + \" *  \" + str(b) + \" = \" + str(a*b))        \n    if islem == \"/\":\n        return (str(a) + \" /  \" + str(b) + \" = \" + str(a/b))   \n\nWhile True\n    try:\n        a = int(input(\"ilk sayıyı giriniz\"))\n        b = int(input(\"ilk sayıyı giriniz\"))\n        \n        islem = input(\"işlemi giriniz :  +-*/\")\n        print(hesapla(a,b, islem))\n    except:\n        print(\"Lütfen sayıları düzgün giriniz\")\n\n\n\n\n\n#xa = input(\"ilk sayıyı giriniz\")\n#xa.result()\n#type(xa.result())\n#a = int(xa)",
      "metadata": {
        "trusted": true
      },
      "outputs": [
        {
          "ename": "<class 'SyntaxError'>",
          "evalue": "invalid syntax (<ipython-input-1-9999eaf531e8>, line 12)",
          "traceback": [
            "\u001b[0;36m  Cell \u001b[0;32mIn[1], line 12\u001b[0;36m\u001b[0m\n\u001b[0;31m    While True\u001b[0m\n\u001b[0m          ^\u001b[0m\n\u001b[0;31mSyntaxError\u001b[0m\u001b[0;31m:\u001b[0m invalid syntax\n"
          ],
          "output_type": "error"
        }
      ],
      "execution_count": 1
    },
    {
      "cell_type": "code",
      "source": "a = input(\"ilk sayıyı giriniz\")",
      "metadata": {
        "trusted": true
      },
      "outputs": [
        {
          "output_type": "stream",
          "name": "stdin",
          "text": "ilk sayıyı giriniz 1\n"
        }
      ],
      "execution_count": 44
    },
    {
      "cell_type": "code",
      "source": "c= a.result()\nd = int(c)\ntype(d)",
      "metadata": {
        "trusted": true
      },
      "outputs": [
        {
          "execution_count": 45,
          "output_type": "execute_result",
          "data": {
            "text/plain": "int"
          },
          "metadata": {}
        }
      ],
      "execution_count": 45
    },
    {
      "cell_type": "code",
      "source": "",
      "metadata": {
        "trusted": true
      },
      "outputs": [],
      "execution_count": null
    }
  ]
}