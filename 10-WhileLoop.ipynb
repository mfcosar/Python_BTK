{
  "metadata": {
    "kernelspec": {
      "name": "python",
      "display_name": "Python (Pyodide)",
      "language": "python"
    },
    "language_info": {
      "codemirror_mode": {
        "name": "python",
        "version": 3
      },
      "file_extension": ".py",
      "mimetype": "text/x-python",
      "name": "python",
      "nbconvert_exporter": "python",
      "pygments_lexer": "ipython3",
      "version": "3.8"
    }
  },
  "nbformat_minor": 4,
  "nbformat": 4,
  "cells": [
    {
      "cell_type": "markdown",
      "source": "## While Loop:",
      "metadata": {}
    },
    {
      "cell_type": "code",
      "source": "# Belli bir koşul sağlandığı sürece devam eder.",
      "metadata": {
        "trusted": true
      },
      "outputs": [],
      "execution_count": 1
    },
    {
      "cell_type": "code",
      "source": "x = 0\nwhile x < 10:\n    print(x)\n    x = x+1",
      "metadata": {
        "trusted": true
      },
      "outputs": [
        {
          "name": "stdout",
          "text": "0\n1\n2\n3\n4\n5\n6\n7\n8\n9\n",
          "output_type": "stream"
        }
      ],
      "execution_count": 2
    },
    {
      "cell_type": "code",
      "source": "yeniListe = [1,2,3,4,5]",
      "metadata": {
        "trusted": true
      },
      "outputs": [],
      "execution_count": 3
    },
    {
      "cell_type": "code",
      "source": "while 2 in yeniListe:\n    print(\" 2 hala listede\")\n    yeniListe.pop()",
      "metadata": {
        "trusted": true
      },
      "outputs": [
        {
          "name": "stdout",
          "text": " 2 hala listede\n 2 hala listede\n 2 hala listede\n 2 hala listede\n",
          "output_type": "stream"
        }
      ],
      "execution_count": 4
    },
    {
      "cell_type": "code",
      "source": "x = 0\nwhile x < 5:\n    if x == 4:\n        break\n    print(x)     \n    x = x+1    ",
      "metadata": {
        "trusted": true
      },
      "outputs": [
        {
          "name": "stdout",
          "text": "0\n1\n2\n3\n",
          "output_type": "stream"
        }
      ],
      "execution_count": 5
    },
    {
      "cell_type": "code",
      "source": "x = 0\nwhile x < 10:\n    print(f\"x'in güncel değeri: {x}\")\n    x = x+1",
      "metadata": {
        "trusted": true
      },
      "outputs": [
        {
          "name": "stdout",
          "text": "x'in güncel değeri: 0\nx'in güncel değeri: 1\nx'in güncel değeri: 2\nx'in güncel değeri: 3\nx'in güncel değeri: 4\nx'in güncel değeri: 5\nx'in güncel değeri: 6\nx'in güncel değeri: 7\nx'in güncel değeri: 8\nx'in güncel değeri: 9\n",
          "output_type": "stream"
        }
      ],
      "execution_count": 6
    },
    {
      "cell_type": "code",
      "source": "",
      "metadata": {
        "trusted": true
      },
      "outputs": [],
      "execution_count": null
    }
  ]
}