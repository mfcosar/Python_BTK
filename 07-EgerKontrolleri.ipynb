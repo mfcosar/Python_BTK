{
  "metadata": {
    "kernelspec": {
      "name": "python",
      "display_name": "Python (Pyodide)",
      "language": "python"
    },
    "language_info": {
      "codemirror_mode": {
        "name": "python",
        "version": 3
      },
      "file_extension": ".py",
      "mimetype": "text/x-python",
      "name": "python",
      "nbconvert_exporter": "python",
      "pygments_lexer": "ipython3",
      "version": "3.8"
    }
  },
  "nbformat_minor": 4,
  "nbformat": 4,
  "cells": [
    {
      "cell_type": "markdown",
      "source": "## IF Statements",
      "metadata": {}
    },
    {
      "cell_type": "code",
      "source": "# Python'da indentation (yani tab boşluk) oranın tek bir code bloğu olduğunu(scope) gösterir ve ona göre code çalışır.",
      "metadata": {
        "trusted": true
      },
      "outputs": [],
      "execution_count": 1
    },
    {
      "cell_type": "code",
      "source": "if 5 < 2 :\n    print(\"if bloğunun içindeyiz\")\n    print(\"henüz if bloğu bitmedi\")\nprint(\"if bloğu dışına çıktık\")    ",
      "metadata": {
        "trusted": true
      },
      "outputs": [
        {
          "name": "stdout",
          "text": "if bloğu dışına çıktık\n",
          "output_type": "stream"
        }
      ],
      "execution_count": 2
    },
    {
      "cell_type": "code",
      "source": "x = 5\ny = 4",
      "metadata": {
        "trusted": true
      },
      "outputs": [],
      "execution_count": 3
    },
    {
      "cell_type": "code",
      "source": "if x > y :\n    print(\"x y'den büyük\")\nelif x < y:\n    print(\"x y'den küçük\")\nelse:           ## böyle de yazılır ==>  elif x == y:\n    print(\"x y'e eşit\")",
      "metadata": {
        "trusted": true
      },
      "outputs": [
        {
          "name": "stdout",
          "text": "x y'den büyük\n",
          "output_type": "stream"
        }
      ],
      "execution_count": 4
    },
    {
      "cell_type": "markdown",
      "source": "## Stringlerle Karşılaştırmalar",
      "metadata": {}
    },
    {
      "cell_type": "code",
      "source": "cicek1 = input(\"sevdiğiniz çiçeği girin\")",
      "metadata": {
        "trusted": true
      },
      "outputs": [
        {
          "output_type": "stream",
          "name": "stdin",
          "text": "sevdiğiniz çiçeği girin gül\n"
        }
      ],
      "execution_count": 5
    },
    {
      "cell_type": "code",
      "source": "cicekSev= cicek1.result()",
      "metadata": {
        "trusted": true
      },
      "outputs": [],
      "execution_count": 6
    },
    {
      "cell_type": "code",
      "source": "if cicekSev == \"gül\":\n    print(\"gülleri severiz\")\nelif cicekSev == \"lale\":\n    print(\"laleleri severiz\")\nelse:\n    print(cicekSev + \" gibi çiçekleri severiz\")",
      "metadata": {
        "trusted": true
      },
      "outputs": [
        {
          "name": "stdout",
          "text": "gülleri severiz\n",
          "output_type": "stream"
        }
      ],
      "execution_count": 7
    },
    {
      "cell_type": "code",
      "source": "## Booleanlar karşılaştırma:",
      "metadata": {
        "trusted": true
      },
      "outputs": [],
      "execution_count": 8
    },
    {
      "cell_type": "code",
      "source": "canli = True",
      "metadata": {
        "trusted": true
      },
      "outputs": [],
      "execution_count": 9
    },
    {
      "cell_type": "code",
      "source": "if canli == True:\n    print(\"tedaviye devam edebilirsin\")\nelse:\n    print(\"tedaviye devam edilemez\")",
      "metadata": {
        "trusted": true
      },
      "outputs": [
        {
          "name": "stdout",
          "text": "tedaviye devam edebilirsin\n",
          "output_type": "stream"
        }
      ],
      "execution_count": 10
    },
    {
      "cell_type": "code",
      "source": "if canli:\n    print(\"tedaviye devam edebilirsin\")\nelse:\n    print(\"tedaviye devam edilemez\")",
      "metadata": {
        "trusted": true
      },
      "outputs": [
        {
          "name": "stdout",
          "text": "tedaviye devam edebilirsin\n",
          "output_type": "stream"
        }
      ],
      "execution_count": 11
    },
    {
      "cell_type": "code",
      "source": "if not canli:\n    print(\"tedaviye devam edilemez\")\nelse:\n    print(\"tedaviye devam edebilirsin\")",
      "metadata": {
        "trusted": true
      },
      "outputs": [
        {
          "name": "stdout",
          "text": "tedaviye devam edebilirsin\n",
          "output_type": "stream"
        }
      ],
      "execution_count": 12
    },
    {
      "cell_type": "code",
      "source": "str1 = \"Ayşe\"\nstr2 = \"Ayşe  can\"\n\nif str1 == str2:\n    print(\"iki string eşit\")\nelse: \n    print(\"stringler farklı\")",
      "metadata": {
        "trusted": true
      },
      "outputs": [
        {
          "name": "stdout",
          "text": "stringler farklı\n",
          "output_type": "stream"
        }
      ],
      "execution_count": 13
    },
    {
      "cell_type": "code",
      "source": "if str1 in str2:\n    print( str1 + \", '\" + str2 +\"'de var\")\nelse:\n    print(\"yok\")",
      "metadata": {
        "trusted": true
      },
      "outputs": [
        {
          "name": "stdout",
          "text": "Ayşe, 'Ayşe  can'de var\n",
          "output_type": "stream"
        }
      ],
      "execution_count": 14
    },
    {
      "cell_type": "code",
      "source": "yeniListe= [10,20,30,40]",
      "metadata": {
        "trusted": true
      },
      "outputs": [],
      "execution_count": 15
    },
    {
      "cell_type": "code",
      "source": "if 50 in yeniListe:\n    print(\"50 listede var\")\nelse :\n    print(\"50 listede yok\")",
      "metadata": {
        "trusted": true
      },
      "outputs": [
        {
          "name": "stdout",
          "text": "50 listede yok\n",
          "output_type": "stream"
        }
      ],
      "execution_count": 17
    },
    {
      "cell_type": "code",
      "source": "yeniDict = {\"elma\": 100, \"armut\": 200, \"muz\": 300}",
      "metadata": {
        "trusted": true
      },
      "outputs": [],
      "execution_count": 18
    },
    {
      "cell_type": "code",
      "source": "yeniDict.keys()",
      "metadata": {
        "trusted": true
      },
      "outputs": [
        {
          "execution_count": 19,
          "output_type": "execute_result",
          "data": {
            "text/plain": "dict_keys(['elma', 'armut', 'muz'])"
          },
          "metadata": {}
        }
      ],
      "execution_count": 19
    },
    {
      "cell_type": "code",
      "source": "if \"muz\" in yeniDict.keys():\n    print(\"muz dict'de var\")\nelse:\n    print(\"muz dict'de yok\")",
      "metadata": {
        "trusted": true
      },
      "outputs": [
        {
          "name": "stdout",
          "text": "muz dict'de var\n",
          "output_type": "stream"
        }
      ],
      "execution_count": 20
    },
    {
      "cell_type": "code",
      "source": "if 250 in yeniDict.values():\n    print(\"250 dict'de var\")\nelse:\n    print(\"250 dict'de yok\")",
      "metadata": {
        "trusted": true
      },
      "outputs": [
        {
          "name": "stdout",
          "text": "250 dict'de yok\n",
          "output_type": "stream"
        }
      ],
      "execution_count": 21
    },
    {
      "cell_type": "code",
      "source": "",
      "metadata": {
        "trusted": true
      },
      "outputs": [],
      "execution_count": null
    }
  ]
}