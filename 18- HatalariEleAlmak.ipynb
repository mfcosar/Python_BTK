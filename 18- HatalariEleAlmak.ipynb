{
  "metadata": {
    "kernelspec": {
      "name": "python",
      "display_name": "Python (Pyodide)",
      "language": "python"
    },
    "language_info": {
      "codemirror_mode": {
        "name": "python",
        "version": 3
      },
      "file_extension": ".py",
      "mimetype": "text/x-python",
      "name": "python",
      "nbconvert_exporter": "python",
      "pygments_lexer": "ipython3",
      "version": "3.8"
    }
  },
  "nbformat_minor": 4,
  "nbformat": 4,
  "cells": [
    {
      "cell_type": "markdown",
      "source": "## 18- HatalariEleAlmak:",
      "metadata": {}
    },
    {
      "cell_type": "code",
      "source": "def toplama(num1, num2):\n    return num1+num2",
      "metadata": {
        "trusted": true
      },
      "outputs": [],
      "execution_count": null
    },
    {
      "cell_type": "code",
      "source": "## Bu aşağıdaki kod çalışmadı; restart kernel yapınca çalıştı\n#x = int(await(input(\"ilk num giriniz\")))\n#y = int(await(input(\"ikinci num giriniz\")))\n#toplama(x,y)\n\nx = int(await(input(\"ilk num giriniz\")))",
      "metadata": {
        "trusted": true
      },
      "outputs": [],
      "execution_count": null
    },
    {
      "cell_type": "code",
      "source": "y = int(await(input(\"ikinci num giriniz\")))",
      "metadata": {
        "trusted": true
      },
      "outputs": [],
      "execution_count": null
    },
    {
      "cell_type": "code",
      "source": "x = await input(\"ilk num giriniz\")",
      "metadata": {
        "trusted": true
      },
      "outputs": [],
      "execution_count": null
    },
    {
      "cell_type": "code",
      "source": "y = await input(\"ikinci num giriniz\")",
      "metadata": {
        "trusted": true
      },
      "outputs": [],
      "execution_count": null
    },
    {
      "cell_type": "code",
      "source": "toplama(int(x), int(y))",
      "metadata": {
        "trusted": true
      },
      "outputs": [],
      "execution_count": null
    },
    {
      "cell_type": "markdown",
      "source": "## try & except & else & finally:",
      "metadata": {}
    },
    {
      "cell_type": "code",
      "source": "while True:\n    try:\n        ornekInt = int( await input(\"Lütfen no giriniz: \"))\n    except:\n        print(\"Lütfen gerçek bir rakam giriniz\")\n        continue\n    else:    \n        print(\"Teşekkürler\")\n        break\n    finally:\n        print(\"finally çağırıldı\")",
      "metadata": {
        "trusted": true
      },
      "outputs": [
        {
          "output_type": "stream",
          "name": "stdin",
          "text": "Lütfen no giriniz:  w\n"
        }
      ],
      "execution_count": null
    },
    {
      "cell_type": "code",
      "source": "",
      "metadata": {
        "trusted": true
      },
      "outputs": [],
      "execution_count": null
    },
    {
      "cell_type": "code",
      "source": "",
      "metadata": {
        "trusted": true
      },
      "outputs": [],
      "execution_count": null
    }
  ]
}