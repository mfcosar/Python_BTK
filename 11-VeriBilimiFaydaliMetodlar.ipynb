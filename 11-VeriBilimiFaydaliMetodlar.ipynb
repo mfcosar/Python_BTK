{
  "metadata": {
    "kernelspec": {
      "name": "python",
      "display_name": "Python (Pyodide)",
      "language": "python"
    },
    "language_info": {
      "codemirror_mode": {
        "name": "python",
        "version": 3
      },
      "file_extension": ".py",
      "mimetype": "text/x-python",
      "name": "python",
      "nbconvert_exporter": "python",
      "pygments_lexer": "ipython3",
      "version": "3.8"
    }
  },
  "nbformat_minor": 4,
  "nbformat": 4,
  "cells": [
    {
      "cell_type": "markdown",
      "source": "## Veri Bilimi Önemli Metodlar:",
      "metadata": {}
    },
    {
      "cell_type": "markdown",
      "source": "## range:",
      "metadata": {}
    },
    {
      "cell_type": "code",
      "source": "range(9)",
      "metadata": {
        "trusted": true
      },
      "outputs": [
        {
          "execution_count": 3,
          "output_type": "execute_result",
          "data": {
            "text/plain": "range(0, 9)"
          },
          "metadata": {}
        }
      ],
      "execution_count": 3
    },
    {
      "cell_type": "code",
      "source": "list(range(9))",
      "metadata": {
        "trusted": true
      },
      "outputs": [
        {
          "execution_count": 4,
          "output_type": "execute_result",
          "data": {
            "text/plain": "[0, 1, 2, 3, 4, 5, 6, 7, 8]"
          },
          "metadata": {}
        }
      ],
      "execution_count": 4
    },
    {
      "cell_type": "code",
      "source": "for x in list(range(10)):\n    print(x * 3)",
      "metadata": {
        "trusted": true
      },
      "outputs": [
        {
          "name": "stdout",
          "text": "0\n3\n6\n9\n12\n15\n18\n21\n24\n27\n",
          "output_type": "stream"
        }
      ],
      "execution_count": 5
    },
    {
      "cell_type": "code",
      "source": "list(range(5, 30, 4))",
      "metadata": {
        "trusted": true
      },
      "outputs": [
        {
          "execution_count": 6,
          "output_type": "execute_result",
          "data": {
            "text/plain": "[5, 9, 13, 17, 21, 25, 29]"
          },
          "metadata": {}
        }
      ],
      "execution_count": 6
    },
    {
      "cell_type": "markdown",
      "source": "## Enumerate: ",
      "metadata": {}
    },
    {
      "cell_type": "code",
      "source": "# enumerate: hangi indexte hangi değer olduğunu veren bir tuple..\nfor x in enumerate(list(range(5,15))):\n    print(x)",
      "metadata": {
        "trusted": true
      },
      "outputs": [
        {
          "name": "stdout",
          "text": "(0, 5)\n(1, 6)\n(2, 7)\n(3, 8)\n(4, 9)\n(5, 10)\n(6, 11)\n(7, 12)\n(8, 13)\n(9, 14)\n",
          "output_type": "stream"
        }
      ],
      "execution_count": 7
    },
    {
      "cell_type": "code",
      "source": "# enumerate: hangi indexte hangi değer olduğunu veren bir tuple..",
      "metadata": {
        "trusted": true
      },
      "outputs": [],
      "execution_count": 10
    },
    {
      "cell_type": "code",
      "source": "for (x,y) in enumerate(list(range(5,15))):  ## x ve y değerlerine ayrı ayrı erişmek mümkün\n    print(x,y)",
      "metadata": {
        "trusted": true
      },
      "outputs": [
        {
          "name": "stdout",
          "text": "0 5\n1 6\n2 7\n3 8\n4 9\n5 10\n6 11\n7 12\n8 13\n9 14\n",
          "output_type": "stream"
        }
      ],
      "execution_count": 8
    },
    {
      "cell_type": "markdown",
      "source": "## Random:",
      "metadata": {}
    },
    {
      "cell_type": "code",
      "source": "from random import randint",
      "metadata": {
        "trusted": true
      },
      "outputs": [],
      "execution_count": 9
    },
    {
      "cell_type": "code",
      "source": "randint(0,100)",
      "metadata": {
        "trusted": true
      },
      "outputs": [
        {
          "execution_count": 10,
          "output_type": "execute_result",
          "data": {
            "text/plain": "75"
          },
          "metadata": {}
        }
      ],
      "execution_count": 10
    },
    {
      "cell_type": "code",
      "source": "yeniListe = list(range(0,10))",
      "metadata": {
        "trusted": true
      },
      "outputs": [],
      "execution_count": 11
    },
    {
      "cell_type": "code",
      "source": "from random import shuffle",
      "metadata": {
        "trusted": true
      },
      "outputs": [],
      "execution_count": 12
    },
    {
      "cell_type": "code",
      "source": "shuffle(yeniListe)",
      "metadata": {
        "trusted": true
      },
      "outputs": [],
      "execution_count": 13
    },
    {
      "cell_type": "code",
      "source": "yeniListe",
      "metadata": {
        "trusted": true
      },
      "outputs": [
        {
          "execution_count": 14,
          "output_type": "execute_result",
          "data": {
            "text/plain": "[1, 2, 3, 6, 4, 5, 0, 9, 7, 8]"
          },
          "metadata": {}
        }
      ],
      "execution_count": 14
    },
    {
      "cell_type": "markdown",
      "source": "## Zip",
      "metadata": {}
    },
    {
      "cell_type": "code",
      "source": "# ayrı ayrı listeleri indexlerine göre birleştirmeye yarar.",
      "metadata": {
        "trusted": true
      },
      "outputs": [],
      "execution_count": 20
    },
    {
      "cell_type": "code",
      "source": "yemekListe= [\"elma\",\"portakal\",\"muz\"]\nkaloriListe= [100, 200, 300]\ngunListe=[\"salı\", \"çarşamba\", \"perşembe\"]",
      "metadata": {
        "trusted": true
      },
      "outputs": [],
      "execution_count": 15
    },
    {
      "cell_type": "code",
      "source": "zipliListe= list(zip(yemekListe,kaloriListe,gunListe))",
      "metadata": {
        "trusted": true
      },
      "outputs": [],
      "execution_count": 16
    },
    {
      "cell_type": "code",
      "source": "for eleman in zipliListe:\n    print(eleman)",
      "metadata": {
        "trusted": true
      },
      "outputs": [
        {
          "name": "stdout",
          "text": "('elma', 100, 'salı')\n('portakal', 200, 'çarşamba')\n('muz', 300, 'perşembe')\n",
          "output_type": "stream"
        }
      ],
      "execution_count": 26
    },
    {
      "cell_type": "markdown",
      "source": "## Listeler - İleri seviye",
      "metadata": {}
    },
    {
      "cell_type": "code",
      "source": "yeniStr = \"Ahmed Muhammed(ASM)\"\n\nornekListe = [eleman for eleman in yeniStr]",
      "metadata": {
        "trusted": true
      },
      "outputs": [],
      "execution_count": 17
    },
    {
      "cell_type": "code",
      "source": "ornekListe",
      "metadata": {
        "trusted": true
      },
      "outputs": [
        {
          "execution_count": 28,
          "output_type": "execute_result",
          "data": {
            "text/plain": "['A',\n 'h',\n 'm',\n 'e',\n 'd',\n ' ',\n 'M',\n 'u',\n 'h',\n 'a',\n 'm',\n 'm',\n 'e',\n 'd',\n '(',\n 'A',\n 'S',\n 'M',\n ')']"
          },
          "metadata": {}
        }
      ],
      "execution_count": 28
    },
    {
      "cell_type": "code",
      "source": "ornekListe2 = [ x * 3 for x in list(range(0,10))]",
      "metadata": {
        "trusted": true
      },
      "outputs": [],
      "execution_count": 18
    },
    {
      "cell_type": "code",
      "source": "ornekListe2",
      "metadata": {
        "trusted": true
      },
      "outputs": [
        {
          "execution_count": 19,
          "output_type": "execute_result",
          "data": {
            "text/plain": "[0, 3, 6, 9, 12, 15, 18, 21, 24, 27]"
          },
          "metadata": {}
        }
      ],
      "execution_count": 19
    },
    {
      "cell_type": "code",
      "source": "",
      "metadata": {
        "trusted": true
      },
      "outputs": [],
      "execution_count": null
    }
  ]
}