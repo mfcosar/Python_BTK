{
  "metadata": {
    "kernelspec": {
      "name": "python",
      "display_name": "Python (Pyodide)",
      "language": "python"
    },
    "language_info": {
      "codemirror_mode": {
        "name": "python",
        "version": 3
      },
      "file_extension": ".py",
      "mimetype": "text/x-python",
      "name": "python",
      "nbconvert_exporter": "python",
      "pygments_lexer": "ipython3",
      "version": "3.8"
    }
  },
  "nbformat_minor": 4,
  "nbformat": 4,
  "cells": [
    {
      "cell_type": "markdown",
      "source": "## 29-TensorflowGiris",
      "metadata": {}
    },
    {
      "cell_type": "code",
      "source": "import pandas as pd\nimport piplite\nawait piplite.install('seaborn')\nawait piplite.install('openpyxl')\nawait piplite.install('scikit-learn')\nimport seaborn as sbn\n#import matplotlib.pyplot as plt",
      "metadata": {
        "trusted": true
      },
      "outputs": [],
      "execution_count": 9
    },
    {
      "cell_type": "code",
      "source": "dataFrame = pd.read_excel(\"bisiklet_fiyatlari.xlsx\")",
      "metadata": {
        "trusted": true
      },
      "outputs": [],
      "execution_count": 11
    },
    {
      "cell_type": "markdown",
      "source": "## Veriyi test/train olarak ikiye ayırmak",
      "metadata": {}
    },
    {
      "cell_type": "code",
      "source": "#await micropip.install(\"scikit-learn\")\nfrom sklearn.model_selection import train_test_split",
      "metadata": {
        "trusted": true
      },
      "outputs": [],
      "execution_count": 12
    },
    {
      "cell_type": "code",
      "source": "#train_test_split",
      "metadata": {
        "trusted": true
      },
      "outputs": [],
      "execution_count": 13
    },
    {
      "cell_type": "code",
      "source": "# y = wx + b  \n# y ==>  label denir\ny = dataFrame[\"Fiyat\"].values",
      "metadata": {
        "trusted": true
      },
      "outputs": [],
      "execution_count": 14
    },
    {
      "cell_type": "code",
      "source": "# x ==> feature\nx = dataFrame[[\"BisikletOzellik1\", \"BisikletOzellik2\"]].values # values demezsek pandas olur, dersek numpy dizisi olur",
      "metadata": {
        "trusted": true
      },
      "outputs": [],
      "execution_count": 15
    },
    {
      "cell_type": "code",
      "source": "x_train, x_test, y_train, y_test = train_test_split(x,y,test_size=0.33,random_state=15)",
      "metadata": {
        "trusted": true
      },
      "outputs": [],
      "execution_count": 16
    },
    {
      "cell_type": "code",
      "source": "",
      "metadata": {
        "trusted": true
      },
      "outputs": [],
      "execution_count": null
    }
  ]
}