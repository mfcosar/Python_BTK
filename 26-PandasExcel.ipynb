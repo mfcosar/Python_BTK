{
  "metadata": {
    "kernelspec": {
      "name": "python",
      "display_name": "Python (Pyodide)",
      "language": "python"
    },
    "language_info": {
      "codemirror_mode": {
        "name": "python",
        "version": 3
      },
      "file_extension": ".py",
      "mimetype": "text/x-python",
      "name": "python",
      "nbconvert_exporter": "python",
      "pygments_lexer": "ipython3",
      "version": "3.8"
    }
  },
  "nbformat_minor": 4,
  "nbformat": 4,
  "cells": [
    {
      "cell_type": "markdown",
      "source": "## 26-PandasExcel",
      "metadata": {}
    },
    {
      "cell_type": "code",
      "source": "# veriler Excel formatında gelirse ne yapılmalı?\n# veri eksik gelirse ne yapmalı?",
      "metadata": {
        "trusted": true
      },
      "outputs": [],
      "execution_count": 1
    },
    {
      "cell_type": "code",
      "source": "import pandas as pd\n## dosya okuyabilmesi için piplite ile bazı package lar indirilmesi gerek:\nimport piplite\nawait piplite.install('seaborn')\nawait piplite.install('openpyxl')\nimport seaborn as sbn",
      "metadata": {
        "trusted": true
      },
      "outputs": [],
      "execution_count": 1
    },
    {
      "cell_type": "code",
      "source": "dataFrame = pd.read_excel(\"maas.xlsx\")  # maas.xlsx dosyası aynı folder'da olmalı ki okuyabilsin",
      "metadata": {
        "trusted": true
      },
      "outputs": [],
      "execution_count": 2
    },
    {
      "cell_type": "code",
      "source": "# Nan değerleri row olarak silelim.\ndataFrame.dropna()",
      "metadata": {
        "trusted": true
      },
      "outputs": [
        {
          "execution_count": 3,
          "output_type": "execute_result",
          "data": {
            "text/plain": "            TL ÖZEL CARİ HESAP      Unnamed: 1  Unnamed: 2 Unnamed: 3  \\\n6            Hesap No/Şube Adı       Hesap Adı  Hesap Türü  Vade Tipi   \n7  74-1809273-2/ISPARTA ŞUBESİ  Katılma Hesabı          KH       1 Ay   \n9  74-1809273-5/ISPARTA ŞUBESİ  Katılma Hesabı          KH       1 Ay   \n\n     Unnamed: 4           Unnamed: 5  \n6        Bakiye          Vade Tarihi  \n7  1,982.92 USD  2015-06-25 00:00:00  \n9  9,762.92 EUR  2015-06-25 00:00:00  ",
            "text/html": "<div>\n<style scoped>\n    .dataframe tbody tr th:only-of-type {\n        vertical-align: middle;\n    }\n\n    .dataframe tbody tr th {\n        vertical-align: top;\n    }\n\n    .dataframe thead th {\n        text-align: right;\n    }\n</style>\n<table border=\"1\" class=\"dataframe\">\n  <thead>\n    <tr style=\"text-align: right;\">\n      <th></th>\n      <th>TL ÖZEL CARİ HESAP</th>\n      <th>Unnamed: 1</th>\n      <th>Unnamed: 2</th>\n      <th>Unnamed: 3</th>\n      <th>Unnamed: 4</th>\n      <th>Unnamed: 5</th>\n    </tr>\n  </thead>\n  <tbody>\n    <tr>\n      <th>6</th>\n      <td>Hesap No/Şube Adı</td>\n      <td>Hesap Adı</td>\n      <td>Hesap Türü</td>\n      <td>Vade Tipi</td>\n      <td>Bakiye</td>\n      <td>Vade Tarihi</td>\n    </tr>\n    <tr>\n      <th>7</th>\n      <td>74-1809273-2/ISPARTA ŞUBESİ</td>\n      <td>Katılma Hesabı</td>\n      <td>KH</td>\n      <td>1 Ay</td>\n      <td>1,982.92 USD</td>\n      <td>2015-06-25 00:00:00</td>\n    </tr>\n    <tr>\n      <th>9</th>\n      <td>74-1809273-5/ISPARTA ŞUBESİ</td>\n      <td>Katılma Hesabı</td>\n      <td>KH</td>\n      <td>1 Ay</td>\n      <td>9,762.92 EUR</td>\n      <td>2015-06-25 00:00:00</td>\n    </tr>\n  </tbody>\n</table>\n</div>"
          },
          "metadata": {}
        }
      ],
      "execution_count": 3
    },
    {
      "cell_type": "code",
      "source": "#mevcud dataFrame'i Excel kaydetme\n\ndoluDegerlerDF.to_excel(\"yenimaas.xlsx\")  # output'u yazdıracak dosya ismi bulunması gerekiyor",
      "metadata": {
        "trusted": true
      },
      "outputs": [
        {
          "ename": "<class 'NameError'>",
          "evalue": "name 'doluDegerlerDF' is not defined",
          "traceback": [
            "\u001b[0;31m---------------------------------------------------------------------------\u001b[0m",
            "\u001b[0;31mNameError\u001b[0m                                 Traceback (most recent call last)",
            "Cell \u001b[0;32mIn[4], line 3\u001b[0m\n\u001b[1;32m      1\u001b[0m \u001b[38;5;66;03m#mevcud dataFrame'i Excel kaydetme\u001b[39;00m\n\u001b[0;32m----> 3\u001b[0m \u001b[43mdoluDegerlerDF\u001b[49m\u001b[38;5;241m.\u001b[39mto_excel(\u001b[38;5;124m\"\u001b[39m\u001b[38;5;124myenimaas.xlsx\u001b[39m\u001b[38;5;124m\"\u001b[39m)  \u001b[38;5;66;03m# output'u yazdıracak dosya ismi bulunması gerekiyor\u001b[39;00m\n",
            "\u001b[0;31mNameError\u001b[0m: name 'doluDegerlerDF' is not defined"
          ],
          "output_type": "error"
        }
      ],
      "execution_count": 4
    },
    {
      "cell_type": "code",
      "source": "# bazen Excel dosyaları csv formatında gelir. O zaman okumak için read_csv(), yazmak için to_csv() kullanmak yeterlidir",
      "metadata": {
        "trusted": true
      },
      "outputs": [],
      "execution_count": 6
    }
  ]
}