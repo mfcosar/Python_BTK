{
  "metadata": {
    "kernelspec": {
      "name": "python",
      "display_name": "Python (Pyodide)",
      "language": "python"
    },
    "language_info": {
      "codemirror_mode": {
        "name": "python",
        "version": 3
      },
      "file_extension": ".py",
      "mimetype": "text/x-python",
      "name": "python",
      "nbconvert_exporter": "python",
      "pygments_lexer": "ipython3",
      "version": "3.8"
    }
  },
  "nbformat_minor": 4,
  "nbformat": 4,
  "cells": [
    {
      "cell_type": "markdown",
      "source": "## 26-PandasExcel",
      "metadata": {}
    },
    {
      "cell_type": "code",
      "source": "# veriler Excel formatında gelirse ne yapılmalı?\n# veri eksik gelirse ne yapmalı?",
      "metadata": {
        "trusted": true
      },
      "outputs": [],
      "execution_count": 1
    },
    {
      "cell_type": "code",
      "source": "import pandas as pd\n## dosya okuyabilmesi için piplite ile bazı package lar indirilmesi gerek:\nimport piplite\nawait piplite.install('seaborn')\nawait piplite.install('openpyxl')\nimport seaborn as sbn",
      "metadata": {
        "trusted": true
      },
      "outputs": [],
      "execution_count": 1
    },
    {
      "cell_type": "code",
      "source": "dataFrame = pd.read_excel(\"maas.xlsx\")  # maas.xlsx dosyası aynı folder'da olmalı ki okuyabilsin\ndataFrame",
      "metadata": {
        "trusted": true
      },
      "outputs": [
        {
          "execution_count": 6,
          "output_type": "execute_result",
          "data": {
            "text/plain": "                  TL ÖZEL CARİ HESAP      Unnamed: 1  Unnamed: 2 Unnamed: 3  \\\n0                  Hesap No/Şube Adı       Hesap Adı  Hesap Türü     Bakiye   \n1            97-1818181-4/QQQ ŞUBESİ   TL Cari Hesap          CH    0.00 TL   \n2   TRQQ 0020 3000 0180 YYYY 0000 OO             NaN         NaN        NaN   \n3                                NaN             NaN         NaN        NaN   \n4                                NaN             NaN         NaN        NaN   \n5                  YP KATILIM HESABI             NaN         NaN        NaN   \n6                  Hesap No/Şube Adı       Hesap Adı  Hesap Türü  Vade Tipi   \n7            97-1818181-4/QQQ ŞUBESİ  Katılma Hesabı          KH       1 Ay   \n8   TRQQ 0020 3000 0180 YYYY 0000 OO             NaN         NaN        NaN   \n9            97-1818181-5/QQQ ŞUBESİ  Katılma Hesabı          KH       1 Ay   \n10  TRQQ 0020 3000 0180 YYYY 0000 OO             NaN         NaN        NaN   \n\n               Unnamed: 4           Unnamed: 5  \n0   Kullanılabilir Bakiye                  NaN  \n1                 0.00 TL                  NaN  \n2                     NaN                  NaN  \n3                     NaN                  NaN  \n4                     NaN                  NaN  \n5                     NaN                  NaN  \n6                  Bakiye          Vade Tarihi  \n7                  50 USD  2015-06-25 00:00:00  \n8                     NaN                  NaN  \n9                  50 EUR  2015-06-25 00:00:00  \n10                    NaN                  NaN  ",
            "text/html": "<div>\n<style scoped>\n    .dataframe tbody tr th:only-of-type {\n        vertical-align: middle;\n    }\n\n    .dataframe tbody tr th {\n        vertical-align: top;\n    }\n\n    .dataframe thead th {\n        text-align: right;\n    }\n</style>\n<table border=\"1\" class=\"dataframe\">\n  <thead>\n    <tr style=\"text-align: right;\">\n      <th></th>\n      <th>TL ÖZEL CARİ HESAP</th>\n      <th>Unnamed: 1</th>\n      <th>Unnamed: 2</th>\n      <th>Unnamed: 3</th>\n      <th>Unnamed: 4</th>\n      <th>Unnamed: 5</th>\n    </tr>\n  </thead>\n  <tbody>\n    <tr>\n      <th>0</th>\n      <td>Hesap No/Şube Adı</td>\n      <td>Hesap Adı</td>\n      <td>Hesap Türü</td>\n      <td>Bakiye</td>\n      <td>Kullanılabilir Bakiye</td>\n      <td>NaN</td>\n    </tr>\n    <tr>\n      <th>1</th>\n      <td>97-1818181-4/QQQ ŞUBESİ</td>\n      <td>TL Cari Hesap</td>\n      <td>CH</td>\n      <td>0.00 TL</td>\n      <td>0.00 TL</td>\n      <td>NaN</td>\n    </tr>\n    <tr>\n      <th>2</th>\n      <td>TRQQ 0020 3000 0180 YYYY 0000 OO</td>\n      <td>NaN</td>\n      <td>NaN</td>\n      <td>NaN</td>\n      <td>NaN</td>\n      <td>NaN</td>\n    </tr>\n    <tr>\n      <th>3</th>\n      <td>NaN</td>\n      <td>NaN</td>\n      <td>NaN</td>\n      <td>NaN</td>\n      <td>NaN</td>\n      <td>NaN</td>\n    </tr>\n    <tr>\n      <th>4</th>\n      <td>NaN</td>\n      <td>NaN</td>\n      <td>NaN</td>\n      <td>NaN</td>\n      <td>NaN</td>\n      <td>NaN</td>\n    </tr>\n    <tr>\n      <th>5</th>\n      <td>YP KATILIM HESABI</td>\n      <td>NaN</td>\n      <td>NaN</td>\n      <td>NaN</td>\n      <td>NaN</td>\n      <td>NaN</td>\n    </tr>\n    <tr>\n      <th>6</th>\n      <td>Hesap No/Şube Adı</td>\n      <td>Hesap Adı</td>\n      <td>Hesap Türü</td>\n      <td>Vade Tipi</td>\n      <td>Bakiye</td>\n      <td>Vade Tarihi</td>\n    </tr>\n    <tr>\n      <th>7</th>\n      <td>97-1818181-4/QQQ ŞUBESİ</td>\n      <td>Katılma Hesabı</td>\n      <td>KH</td>\n      <td>1 Ay</td>\n      <td>50 USD</td>\n      <td>2015-06-25 00:00:00</td>\n    </tr>\n    <tr>\n      <th>8</th>\n      <td>TRQQ 0020 3000 0180 YYYY 0000 OO</td>\n      <td>NaN</td>\n      <td>NaN</td>\n      <td>NaN</td>\n      <td>NaN</td>\n      <td>NaN</td>\n    </tr>\n    <tr>\n      <th>9</th>\n      <td>97-1818181-5/QQQ ŞUBESİ</td>\n      <td>Katılma Hesabı</td>\n      <td>KH</td>\n      <td>1 Ay</td>\n      <td>50 EUR</td>\n      <td>2015-06-25 00:00:00</td>\n    </tr>\n    <tr>\n      <th>10</th>\n      <td>TRQQ 0020 3000 0180 YYYY 0000 OO</td>\n      <td>NaN</td>\n      <td>NaN</td>\n      <td>NaN</td>\n      <td>NaN</td>\n      <td>NaN</td>\n    </tr>\n  </tbody>\n</table>\n</div>"
          },
          "metadata": {}
        }
      ],
      "execution_count": 6
    },
    {
      "cell_type": "code",
      "source": "# Nan değerleri row olarak silelim.\ndoluDegerlerDF = dataFrame.dropna()",
      "metadata": {
        "trusted": true
      },
      "outputs": [],
      "execution_count": 8
    },
    {
      "cell_type": "code",
      "source": "#mevcud dataFrame'i Excel kaydetme\n\ndoluDegerlerDF.to_excel(\"yenimaas.xlsx\")  # output'u yazdıracak dosya ismi bulunması gerekiyor",
      "metadata": {
        "trusted": true
      },
      "outputs": [],
      "execution_count": 9
    },
    {
      "cell_type": "code",
      "source": "# bazen Excel dosyaları csv formatında gelir. O zaman okumak için read_csv(), yazmak için to_csv() kullanmak yeterlidir",
      "metadata": {
        "trusted": true
      },
      "outputs": [],
      "execution_count": 5
    },
    {
      "cell_type": "code",
      "source": "",
      "metadata": {
        "trusted": true
      },
      "outputs": [],
      "execution_count": null
    }
  ]
}