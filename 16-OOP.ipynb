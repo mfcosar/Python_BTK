{
  "metadata": {
    "kernelspec": {
      "name": "python",
      "display_name": "Python (Pyodide)",
      "language": "python"
    },
    "language_info": {
      "codemirror_mode": {
        "name": "python",
        "version": 3
      },
      "file_extension": ".py",
      "mimetype": "text/x-python",
      "name": "python",
      "nbconvert_exporter": "python",
      "pygments_lexer": "ipython3",
      "version": "3.8"
    }
  },
  "nbformat_minor": 4,
  "nbformat": 4,
  "cells": [
    {
      "cell_type": "markdown",
      "source": "## OOP",
      "metadata": {}
    },
    {
      "cell_type": "markdown",
      "source": "## instance & attribute",
      "metadata": {}
    },
    {
      "cell_type": "code",
      "source": "# instance: Bir sınıftan bir obje oluşturduğumuzda buna o sınıfın örneği, instance'ı diyebiliyoruz. \n# Bir sınıfın bir çok instance'ını kullanma ihtiyacımız olabilir.\n\n# Nesnenin sahib olmasını istediğimiz özelliklere attribute denir. Bunlar class içinde değişkenler olarak tanımlanır ve\n# her instance için bu attributelar değer alır.\n# constrauctor'da self'e atanan değerler attributeların oluşturulup init edilmesine sebep olur.\n\n# Sınıfı yazrken methodun içine \"self\" parametresi konulmazsa o çökecektir.",
      "metadata": {
        "trusted": true
      },
      "outputs": [],
      "execution_count": 43
    },
    {
      "cell_type": "code",
      "source": "liste1 = list()\n# burada liste1 list sınıfının bir instance'ı",
      "metadata": {
        "trusted": true
      },
      "outputs": [],
      "execution_count": 2
    },
    {
      "cell_type": "code",
      "source": "class Kahramanlar():\n    def __init__(self, isimx, yasx, meslekx):\n        print(\"init çağrıldı\")   \n        self.isim = isimx\n        self.yas = yasx\n        self.meslek = meslekx\n    \n    def ornekMethod(self):\n        print(f\"Bismillah: {self.meslek} \")",
      "metadata": {
        "trusted": true
      },
      "outputs": [],
      "execution_count": 38
    },
    {
      "cell_type": "code",
      "source": "osmangazi = Kahramanlar(\"Osman Gazi\", 40, \"marangoz\")",
      "metadata": {
        "trusted": true
      },
      "outputs": [
        {
          "name": "stdout",
          "text": "init çağrıldı\n",
          "output_type": "stream"
        }
      ],
      "execution_count": 39
    },
    {
      "cell_type": "code",
      "source": "osmangazi.meslek = \"okçu\"",
      "metadata": {
        "trusted": true
      },
      "outputs": [],
      "execution_count": 40
    },
    {
      "cell_type": "code",
      "source": "osmangazi.meslek",
      "metadata": {
        "trusted": true
      },
      "outputs": [
        {
          "execution_count": 41,
          "output_type": "execute_result",
          "data": {
            "text/plain": "'okçu'"
          },
          "metadata": {}
        }
      ],
      "execution_count": 41
    },
    {
      "cell_type": "code",
      "source": "osmangazi.ornekMethod()",
      "metadata": {
        "trusted": true
      },
      "outputs": [
        {
          "name": "stdout",
          "text": "Bismillah: okçu \n",
          "output_type": "stream"
        }
      ],
      "execution_count": 42
    },
    {
      "cell_type": "code",
      "source": "class Kedi():\n\n    yilCarpani = 7\n    def __init__(self, yas=3):\n        self.yas = yas\n    def insanYasi(self):\n        return self.yas * self.yilCarpani # self.yilCarpani yerine Kedi.yilCarpani da yazılabiliyor",
      "metadata": {
        "trusted": true
      },
      "outputs": [],
      "execution_count": 24
    },
    {
      "cell_type": "code",
      "source": "# kedicik = Kedi(2)",
      "metadata": {
        "trusted": true
      },
      "outputs": [],
      "execution_count": 7
    },
    {
      "cell_type": "code",
      "source": "kedicik = Kedi()\nkedicik.yas",
      "metadata": {
        "trusted": true
      },
      "outputs": [
        {
          "execution_count": 22,
          "output_type": "execute_result",
          "data": {
            "text/plain": "3"
          },
          "metadata": {}
        }
      ],
      "execution_count": 22
    },
    {
      "cell_type": "code",
      "source": "kedicik.insanYasi()",
      "metadata": {
        "trusted": true
      },
      "outputs": [
        {
          "execution_count": 23,
          "output_type": "execute_result",
          "data": {
            "text/plain": "21"
          },
          "metadata": {}
        }
      ],
      "execution_count": 23
    },
    {
      "cell_type": "markdown",
      "source": "## Inheritance",
      "metadata": {}
    },
    {
      "cell_type": "code",
      "source": "class Hayvan():\n    def __init__(self):\n        print(\"Hayvan sınıfı init edildi.\")\n    def method1(self):\n        print(\"Hayvan sınıfı method1 çağırıldı.\")\n    def method2(self):\n        print(\"Hayvan sınıfı method2 çağırıldı.\")        ",
      "metadata": {
        "trusted": true
      },
      "outputs": [],
      "execution_count": 1
    },
    {
      "cell_type": "code",
      "source": "hayvancik = Hayvan()",
      "metadata": {
        "trusted": true
      },
      "outputs": [
        {
          "name": "stdout",
          "text": "Hayvan sınıfı init edildi.\n",
          "output_type": "stream"
        }
      ],
      "execution_count": 2
    },
    {
      "cell_type": "code",
      "source": "hayvancik.method1()",
      "metadata": {
        "trusted": true
      },
      "outputs": [
        {
          "name": "stdout",
          "text": "Hayvan sınıfı method1 çağırıldı.\n",
          "output_type": "stream"
        }
      ],
      "execution_count": 3
    },
    {
      "cell_type": "code",
      "source": "hayvancik.method2()",
      "metadata": {
        "trusted": true
      },
      "outputs": [
        {
          "name": "stdout",
          "text": "Hayvan sınıfı method2 çağırıldı.\n",
          "output_type": "stream"
        }
      ],
      "execution_count": 4
    },
    {
      "cell_type": "code",
      "source": "class Kedi(Hayvan):\n    def __init__(self):\n        Hayvan.__init__(self)\n        print(\"Kedi sınıfı init çağırıldı\")\n    def miyavla(self):    \n        print(\"Ya Rahim\")\n\n# Eğer inherit edilen sınıfın bir methodunu farklı yazmak gerekirse: \n# aynı isimle method override edilir (Aynı ismi kullanmak yeterli)\n    def method1(self):\n        print(\"Kedi sınıfındaki method1 çağırıldı\")",
      "metadata": {
        "trusted": true
      },
      "outputs": [],
      "execution_count": 18
    },
    {
      "cell_type": "code",
      "source": "kedicik = Kedi()",
      "metadata": {
        "trusted": true
      },
      "outputs": [
        {
          "name": "stdout",
          "text": "Hayvan sınıfı init edildi.\nKedi sınıfı init çağırıldı\n",
          "output_type": "stream"
        }
      ],
      "execution_count": 19
    },
    {
      "cell_type": "code",
      "source": "kedicik.method1()",
      "metadata": {
        "trusted": true
      },
      "outputs": [
        {
          "name": "stdout",
          "text": "Kedi sınıfındaki method1 çağırıldı\n",
          "output_type": "stream"
        }
      ],
      "execution_count": 21
    },
    {
      "cell_type": "code",
      "source": "kedicik.method2()",
      "metadata": {
        "trusted": true
      },
      "outputs": [
        {
          "name": "stdout",
          "text": "Hayvan sınıfı method2 çağırıldı.\n",
          "output_type": "stream"
        }
      ],
      "execution_count": 22
    },
    {
      "cell_type": "code",
      "source": "kedicik.miyavla()",
      "metadata": {
        "trusted": true
      },
      "outputs": [
        {
          "name": "stdout",
          "text": "Ya Rahim\n",
          "output_type": "stream"
        }
      ],
      "execution_count": 20
    },
    {
      "cell_type": "markdown",
      "source": "## Polymorphism:",
      "metadata": {}
    },
    {
      "cell_type": "code",
      "source": "class Elma():\n    def __init__(self, isim):\n        self.isim = isim\n    \n    def bilgiVer(self):    \n        return self.isim + \" 100 kaloridir\"       ",
      "metadata": {
        "trusted": true
      },
      "outputs": [],
      "execution_count": 25
    },
    {
      "cell_type": "code",
      "source": "class Muz():\n    def __init__(self, isim):\n        self.isim = isim\n    \n    def bilgiVer(self):    \n        return self.isim + \" 150 kaloridir\"       ",
      "metadata": {
        "trusted": true
      },
      "outputs": [],
      "execution_count": 26
    },
    {
      "cell_type": "code",
      "source": "elmacik = Elma(\"elma\")\nelmacik.bilgiVer()",
      "metadata": {
        "trusted": true
      },
      "outputs": [
        {
          "execution_count": 29,
          "output_type": "execute_result",
          "data": {
            "text/plain": "'elma 100 kaloridir'"
          },
          "metadata": {}
        }
      ],
      "execution_count": 29
    },
    {
      "cell_type": "code",
      "source": "muzcuk = Muz(\"muz\")\nmuzcuk.bilgiVer()",
      "metadata": {
        "trusted": true
      },
      "outputs": [
        {
          "execution_count": 30,
          "output_type": "execute_result",
          "data": {
            "text/plain": "'muz 150 kaloridir'"
          },
          "metadata": {}
        }
      ],
      "execution_count": 30
    },
    {
      "cell_type": "code",
      "source": "meyveListesi = [elmacik, muzcuk]",
      "metadata": {
        "trusted": true
      },
      "outputs": [],
      "execution_count": 31
    },
    {
      "cell_type": "code",
      "source": "for x in meyveListesi:\n    print(x.bilgiVer())",
      "metadata": {
        "trusted": true
      },
      "outputs": [
        {
          "name": "stdout",
          "text": "elma 100 kaloridir\nmuz 150 kaloridir\n",
          "output_type": "stream"
        }
      ],
      "execution_count": 32
    },
    {
      "cell_type": "code",
      "source": "def bilgiAl(meyve):\n    print(meyve.bilgiVer())",
      "metadata": {
        "trusted": true
      },
      "outputs": [],
      "execution_count": 33
    },
    {
      "cell_type": "code",
      "source": "bilgiAl(muzcuk)",
      "metadata": {
        "trusted": true
      },
      "outputs": [
        {
          "name": "stdout",
          "text": "muz 150 kaloridir\n",
          "output_type": "stream"
        }
      ],
      "execution_count": 34
    },
    {
      "cell_type": "code",
      "source": "bilgiAl(elmacik)",
      "metadata": {
        "trusted": true
      },
      "outputs": [
        {
          "name": "stdout",
          "text": "elma 100 kaloridir\n",
          "output_type": "stream"
        }
      ],
      "execution_count": 35
    }
  ]
}