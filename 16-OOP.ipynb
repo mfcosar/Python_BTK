{
  "metadata": {
    "kernelspec": {
      "name": "python",
      "display_name": "Python (Pyodide)",
      "language": "python"
    },
    "language_info": {
      "codemirror_mode": {
        "name": "python",
        "version": 3
      },
      "file_extension": ".py",
      "mimetype": "text/x-python",
      "name": "python",
      "nbconvert_exporter": "python",
      "pygments_lexer": "ipython3",
      "version": "3.8"
    }
  },
  "nbformat_minor": 4,
  "nbformat": 4,
  "cells": [
    {
      "cell_type": "markdown",
      "source": "## OOP",
      "metadata": {}
    },
    {
      "cell_type": "markdown",
      "source": "## instance & attribute",
      "metadata": {}
    },
    {
      "cell_type": "code",
      "source": "# instance: Bir sınıftan bir obje oluşturduğumuzda buna o sınıfın örneği, instance'ı diyebiliyoruz. \n# Bir sınıfın bir çok instance'ını kullanma ihtiyacımız olabilir.\n\n# Nesnenin sahib olmasını istediğimiz özelliklere attribute denir. Bunlar class içinde değişkenler olarak tanımlanır ve\n# her instance için bu attributelar değer alır.\n# constrauctor'da self'e atanan değerler attributeların oluşturulup init edilmesine sebep olur.\n\n# Sınıfı yazrken methodun içine \"self\" parametresi konulmazsa o çökecektir.",
      "metadata": {
        "trusted": true
      },
      "outputs": [],
      "execution_count": 43
    },
    {
      "cell_type": "code",
      "source": "liste1 = list()\n# burada liste1 list sınıfının bir instance'ı",
      "metadata": {
        "trusted": true
      },
      "outputs": [],
      "execution_count": 2
    },
    {
      "cell_type": "code",
      "source": "class Kahramanlar():\n    def __init__(self, isimx, yasx, meslekx):\n        print(\"init çağrıldı\")   \n        self.isim = isimx\n        self.yas = yasx\n        self.meslek = meslekx\n    \n    def ornekMethod(self):\n        print(f\"Bismillah: {self.meslek} \")",
      "metadata": {
        "trusted": true
      },
      "outputs": [],
      "execution_count": 38
    },
    {
      "cell_type": "code",
      "source": "osmangazi = Kahramanlar(\"Osman Gazi\", 40, \"marangoz\")",
      "metadata": {
        "trusted": true
      },
      "outputs": [
        {
          "name": "stdout",
          "text": "init çağrıldı\n",
          "output_type": "stream"
        }
      ],
      "execution_count": 39
    },
    {
      "cell_type": "code",
      "source": "osmangazi.meslek = \"okçu\"",
      "metadata": {
        "trusted": true
      },
      "outputs": [],
      "execution_count": 40
    },
    {
      "cell_type": "code",
      "source": "osmangazi.meslek",
      "metadata": {
        "trusted": true
      },
      "outputs": [
        {
          "execution_count": 41,
          "output_type": "execute_result",
          "data": {
            "text/plain": "'okçu'"
          },
          "metadata": {}
        }
      ],
      "execution_count": 41
    },
    {
      "cell_type": "code",
      "source": "osmangazi.ornekMethod()",
      "metadata": {
        "trusted": true
      },
      "outputs": [
        {
          "name": "stdout",
          "text": "Bismillah: okçu \n",
          "output_type": "stream"
        }
      ],
      "execution_count": 42
    },
    {
      "cell_type": "code",
      "source": "",
      "metadata": {
        "trusted": true
      },
      "outputs": [],
      "execution_count": null
    }
  ]
}